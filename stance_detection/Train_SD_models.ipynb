{
 "cells": [
  {
   "cell_type": "markdown",
   "metadata": {
    "toc": true
   },
   "source": [
    "<h1>Table of Contents<span class=\"tocSkip\"></span></h1>\n",
    "<div class=\"toc\"><ul class=\"toc-item\"><li><span><a href=\"#Test-Performance-of-Stance-Detection-Models\" data-toc-modified-id=\"Test-Performance-of-Stance-Detection-Models-1\"><span class=\"toc-item-num\">1&nbsp;&nbsp;</span>Test Performance of Stance Detection Models</a></span><ul class=\"toc-item\"><li><span><a href=\"#Semi-Supervised:-Trained-on-Task-A-data\" data-toc-modified-id=\"Semi-Supervised:-Trained-on-Task-A-data-1.1\"><span class=\"toc-item-num\">1.1&nbsp;&nbsp;</span>Semi-Supervised: Trained on Task A data</a></span><ul class=\"toc-item\"><li><span><a href=\"#Test-on-Semeval-Task-A-data\" data-toc-modified-id=\"Test-on-Semeval-Task-A-data-1.1.1\"><span class=\"toc-item-num\">1.1.1&nbsp;&nbsp;</span>Test on Semeval Task A data</a></span></li><li><span><a href=\"#Test-on-Semeval-Task-B-data-(Trump)\" data-toc-modified-id=\"Test-on-Semeval-Task-B-data-(Trump)-1.1.2\"><span class=\"toc-item-num\">1.1.2&nbsp;&nbsp;</span>Test on Semeval Task B data (Trump)</a></span></li></ul></li><li><span><a href=\"#Supervised:-Trained-on-Task-B-data\" data-toc-modified-id=\"Supervised:-Trained-on-Task-B-data-1.2\"><span class=\"toc-item-num\">1.2&nbsp;&nbsp;</span>Supervised: Trained on Task B data</a></span><ul class=\"toc-item\"><li><span><a href=\"#First-split-Task-B-data-into-train-and-test\" data-toc-modified-id=\"First-split-Task-B-data-into-train-and-test-1.2.1\"><span class=\"toc-item-num\">1.2.1&nbsp;&nbsp;</span>First split Task B data into train and test</a></span></li><li><span><a href=\"#Read-train-and-test-data\" data-toc-modified-id=\"Read-train-and-test-data-1.2.2\"><span class=\"toc-item-num\">1.2.2&nbsp;&nbsp;</span>Read train and test data</a></span></li><li><span><a href=\"#check-(sup)-performance-on-all-mtsd-data\" data-toc-modified-id=\"check-(sup)-performance-on-all-mtsd-data-1.2.3\"><span class=\"toc-item-num\">1.2.3&nbsp;&nbsp;</span>check (sup) performance on all mtsd data</a></span></li></ul></li><li><span><a href=\"#Supervised:-Trained-on-MTSD\" data-toc-modified-id=\"Supervised:-Trained-on-MTSD-1.3\"><span class=\"toc-item-num\">1.3&nbsp;&nbsp;</span>Supervised: Trained on MTSD</a></span><ul class=\"toc-item\"><li><span><a href=\"#First-split-MTSD-data-into-train-and-test\" data-toc-modified-id=\"First-split-MTSD-data-into-train-and-test-1.3.1\"><span class=\"toc-item-num\">1.3.1&nbsp;&nbsp;</span>First split MTSD data into train and test</a></span></li><li><span><a href=\"#Read-train-and-test-data\" data-toc-modified-id=\"Read-train-and-test-data-1.3.2\"><span class=\"toc-item-num\">1.3.2&nbsp;&nbsp;</span>Read train and test data</a></span></li><li><span><a href=\"#Test-sup_mtsd-on-trump_semeval_30-data\" data-toc-modified-id=\"Test-sup_mtsd-on-trump_semeval_30-data-1.3.3\"><span class=\"toc-item-num\">1.3.3&nbsp;&nbsp;</span>Test sup_mtsd on trump_semeval_30 data</a></span></li><li><span><a href=\"#Check-which-mtsd-examples-(sup)-fails-on\" data-toc-modified-id=\"Check-which-mtsd-examples-(sup)-fails-on-1.3.4\"><span class=\"toc-item-num\">1.3.4&nbsp;&nbsp;</span>Check which mtsd examples (sup) fails on</a></span></li></ul></li><li><span><a href=\"#Divide-dataset-into-two-parts-where-Trump-is-'explicitly'-mentioned-and-where-he-isn't\" data-toc-modified-id=\"Divide-dataset-into-two-parts-where-Trump-is-'explicitly'-mentioned-and-where-he-isn't-1.4\"><span class=\"toc-item-num\">1.4&nbsp;&nbsp;</span>Divide dataset into two parts where Trump is 'explicitly' mentioned and where he isn't</a></span><ul class=\"toc-item\"><li><span><a href=\"#Find-most-common-unigrams\" data-toc-modified-id=\"Find-most-common-unigrams-1.4.1\"><span class=\"toc-item-num\">1.4.1&nbsp;&nbsp;</span>Find most common unigrams</a></span></li><li><span><a href=\"#Create-df-of-format-[F,-A,-N]-X-[clf,-sup_clf,-mtsd_sup_clf]-where-the-cells-are-the-respective-F1-scores\" data-toc-modified-id=\"Create-df-of-format-[F,-A,-N]-X-[clf,-sup_clf,-mtsd_sup_clf]-where-the-cells-are-the-respective-F1-scores-1.4.2\"><span class=\"toc-item-num\">1.4.2&nbsp;&nbsp;</span>Create df of format [F, A, N] X [clf, sup_clf, mtsd_sup_clf] where the cells are the respective F1 scores</a></span></li><li><span><a href=\"#Only-for-MTSD-create-df-of-format-[1,-2,-3,-4]-X-[clf,-sup_clf,-mtsd_sup_clf]-where-the-cells-are-the-respective-F1-scores\" data-toc-modified-id=\"Only-for-MTSD-create-df-of-format-[1,-2,-3,-4]-X-[clf,-sup_clf,-mtsd_sup_clf]-where-the-cells-are-the-respective-F1-scores-1.4.3\"><span class=\"toc-item-num\">1.4.3&nbsp;&nbsp;</span>Only for MTSD create df of format [1, 2, 3, 4] X [clf, sup_clf, mtsd_sup_clf] where the cells are the respective F1 scores</a></span></li><li><span><a href=\"#TAKEAWAY:-Cross-dataset-peformance-is-poor,-clf_sup-(trained-on-semeval-data)-likely-fails-due-to-high-number-of-cases-where-Trump-ias-actually-not-mentioned.\" data-toc-modified-id=\"TAKEAWAY:-Cross-dataset-peformance-is-poor,-clf_sup-(trained-on-semeval-data)-likely-fails-due-to-high-number-of-cases-where-Trump-ias-actually-not-mentioned.-1.4.4\"><span class=\"toc-item-num\">1.4.4&nbsp;&nbsp;</span>TAKEAWAY: Cross-dataset peformance is poor, clf_sup (trained on semeval data) likely fails due to high number of cases where Trump ias actually not mentioned.</a></span></li></ul></li><li><span><a href=\"#Test-All-Models-on-Constance-Data\" data-toc-modified-id=\"Test-All-Models-on-Constance-Data-1.5\"><span class=\"toc-item-num\">1.5&nbsp;&nbsp;</span>Test All Models on Constance Data</a></span><ul class=\"toc-item\"><li><span><a href=\"#Original-Constance-Data\" data-toc-modified-id=\"Original-Constance-Data-1.5.1\"><span class=\"toc-item-num\">1.5.1&nbsp;&nbsp;</span>Original Constance Data</a></span></li><li><span><a href=\"#Constance-Corrected-Data\" data-toc-modified-id=\"Constance-Corrected-Data-1.5.2\"><span class=\"toc-item-num\">1.5.2&nbsp;&nbsp;</span>Constance Corrected Data</a></span></li><li><span><a href=\"#TAKEAWAY:-clf_sup-(trained-on-semeval-data)-is-better-than-mtsd-at-the-Constance-(corrected)-data.\" data-toc-modified-id=\"TAKEAWAY:-clf_sup-(trained-on-semeval-data)-is-better-than-mtsd-at-the-Constance-(corrected)-data.-1.5.3\"><span class=\"toc-item-num\">1.5.3&nbsp;&nbsp;</span>TAKEAWAY: clf_sup (trained on semeval data) is better than mtsd at the Constance (corrected) data.</a></span></li></ul></li><li><span><a href=\"#To-Do's:\" data-toc-modified-id=\"To-Do's:-1.6\"><span class=\"toc-item-num\">1.6&nbsp;&nbsp;</span>To-Do's:</a></span></li></ul></li></ul></div>"
   ]
  },
  {
   "cell_type": "markdown",
   "metadata": {},
   "source": [
    "# Test Performance of Stance Detection Models\n",
    "\n",
    "Train models as done by Saif et al."
   ]
  },
  {
   "cell_type": "code",
   "execution_count": 6,
   "metadata": {},
   "outputs": [],
   "source": [
    "import pandas as pd\n",
    "\n",
    "import re\n",
    "from nltk.corpus import stopwords # Import the stop word list\n",
    "\n",
    "\n",
    "from sklearn.pipeline import Pipeline, FeatureUnion\n",
    "from sklearn.feature_extraction.text import CountVectorizer\n",
    "\n",
    "from sklearn.svm import SVC\n",
    "\n",
    "from sklearn.model_selection import cross_val_score\n",
    "from sklearn.model_selection import train_test_split\n",
    "\n",
    "\n",
    "from sklearn.metrics import classification_report, confusion_matrix, precision_recall_fscore_support, f1_score, average_precision_score\n",
    "from sklearn.model_selection import GridSearchCV\n",
    "from sklearn.feature_selection import SelectKBest\n",
    "from sklearn.feature_selection import chi2\n",
    "\n",
    "import numpy as np\n",
    "import matplotlib.pyplot as plt"
   ]
  },
  {
   "cell_type": "markdown",
   "metadata": {},
   "source": [
    "## Semi-Supervised: Trained on Task A data"
   ]
  },
  {
   "cell_type": "code",
   "execution_count": 7,
   "metadata": {},
   "outputs": [
    {
     "data": {
      "text/html": [
       "<div>\n",
       "<style scoped>\n",
       "    .dataframe tbody tr th:only-of-type {\n",
       "        vertical-align: middle;\n",
       "    }\n",
       "\n",
       "    .dataframe tbody tr th {\n",
       "        vertical-align: top;\n",
       "    }\n",
       "\n",
       "    .dataframe thead th {\n",
       "        text-align: right;\n",
       "    }\n",
       "</style>\n",
       "<table border=\"1\" class=\"dataframe\">\n",
       "  <thead>\n",
       "    <tr style=\"text-align: right;\">\n",
       "      <th></th>\n",
       "      <th>ID</th>\n",
       "      <th>Target</th>\n",
       "      <th>Tweet</th>\n",
       "      <th>Stance</th>\n",
       "    </tr>\n",
       "  </thead>\n",
       "  <tbody>\n",
       "    <tr>\n",
       "      <th>0</th>\n",
       "      <td>101</td>\n",
       "      <td>Atheism</td>\n",
       "      <td>dear lord thank u for all of ur blessings forg...</td>\n",
       "      <td>AGAINST</td>\n",
       "    </tr>\n",
       "    <tr>\n",
       "      <th>1</th>\n",
       "      <td>102</td>\n",
       "      <td>Atheism</td>\n",
       "      <td>Blessed are the peacemakers, for they shall be...</td>\n",
       "      <td>AGAINST</td>\n",
       "    </tr>\n",
       "    <tr>\n",
       "      <th>2</th>\n",
       "      <td>103</td>\n",
       "      <td>Atheism</td>\n",
       "      <td>I am not conformed to this world. I am transfo...</td>\n",
       "      <td>AGAINST</td>\n",
       "    </tr>\n",
       "    <tr>\n",
       "      <th>3</th>\n",
       "      <td>104</td>\n",
       "      <td>Atheism</td>\n",
       "      <td>Salah should be prayed with #focus and #unders...</td>\n",
       "      <td>AGAINST</td>\n",
       "    </tr>\n",
       "    <tr>\n",
       "      <th>4</th>\n",
       "      <td>105</td>\n",
       "      <td>Atheism</td>\n",
       "      <td>And stay in your houses and do not display you...</td>\n",
       "      <td>AGAINST</td>\n",
       "    </tr>\n",
       "  </tbody>\n",
       "</table>\n",
       "</div>"
      ],
      "text/plain": [
       "    ID   Target                                              Tweet   Stance\n",
       "0  101  Atheism  dear lord thank u for all of ur blessings forg...  AGAINST\n",
       "1  102  Atheism  Blessed are the peacemakers, for they shall be...  AGAINST\n",
       "2  103  Atheism  I am not conformed to this world. I am transfo...  AGAINST\n",
       "3  104  Atheism  Salah should be prayed with #focus and #unders...  AGAINST\n",
       "4  105  Atheism  And stay in your houses and do not display you...  AGAINST"
      ]
     },
     "execution_count": 7,
     "metadata": {},
     "output_type": "execute_result"
    }
   ],
   "source": [
    "dataset = \"../semeval/semeval2016-task6-trainingdata.txt\"\n",
    "\"Using %s dataset\" %(dataset)\n",
    "\n",
    "semeval_train = pd.read_csv(dataset, sep = \"\t\", encoding = 'utf-8')\n",
    "semeval_train.head(5)"
   ]
  },
  {
   "cell_type": "code",
   "execution_count": 8,
   "metadata": {
    "scrolled": true
   },
   "outputs": [
    {
     "data": {
      "text/plain": [
       "Target\n",
       "Atheism                             513\n",
       "Climate Change is a Real Concern    395\n",
       "Feminist Movement                   664\n",
       "Hillary Clinton                     639\n",
       "Legalization of Abortion            603\n",
       "Name: ID, dtype: int64"
      ]
     },
     "execution_count": 8,
     "metadata": {},
     "output_type": "execute_result"
    }
   ],
   "source": [
    "semeval_train.groupby(['Target'])['ID'].count().transpose()"
   ]
  },
  {
   "cell_type": "code",
   "execution_count": 9,
   "metadata": {
    "scrolled": false
   },
   "outputs": [
    {
     "data": {
      "text/plain": [
       "Target                            Stance \n",
       "Atheism                           AGAINST    304\n",
       "                                  FAVOR       92\n",
       "                                  NONE       117\n",
       "Climate Change is a Real Concern  AGAINST     15\n",
       "                                  FAVOR      212\n",
       "                                  NONE       168\n",
       "Feminist Movement                 AGAINST    328\n",
       "                                  FAVOR      210\n",
       "                                  NONE       126\n",
       "Hillary Clinton                   AGAINST    361\n",
       "                                  FAVOR      112\n",
       "                                  NONE       166\n",
       "Legalization of Abortion          AGAINST    334\n",
       "                                  FAVOR      105\n",
       "                                  NONE       164\n",
       "Name: ID, dtype: int64"
      ]
     },
     "execution_count": 9,
     "metadata": {},
     "output_type": "execute_result"
    }
   ],
   "source": [
    "semeval_train.groupby(['Target', 'Stance'])['ID'].count().transpose()"
   ]
  },
  {
   "cell_type": "code",
   "execution_count": 10,
   "metadata": {},
   "outputs": [
    {
     "data": {
      "text/plain": [
       "Target                            Stance \n",
       "Atheism                           AGAINST    0.592593\n",
       "                                  FAVOR      0.179337\n",
       "                                  NONE       0.228070\n",
       "Climate Change is a Real Concern  AGAINST    0.037975\n",
       "                                  FAVOR      0.536709\n",
       "                                  NONE       0.425316\n",
       "Feminist Movement                 AGAINST    0.493976\n",
       "                                  FAVOR      0.316265\n",
       "                                  NONE       0.189759\n",
       "Hillary Clinton                   AGAINST    0.564945\n",
       "                                  FAVOR      0.175274\n",
       "                                  NONE       0.259781\n",
       "Legalization of Abortion          AGAINST    0.553897\n",
       "                                  FAVOR      0.174129\n",
       "                                  NONE       0.271973\n",
       "Name: ID, dtype: float64"
      ]
     },
     "execution_count": 10,
     "metadata": {},
     "output_type": "execute_result"
    }
   ],
   "source": [
    "(semeval_train.groupby(['Target', 'Stance'])['ID'].count()/semeval_train.groupby(['Target'])['ID'].count()).transpose()#.apply(lambda x: x['ID'].sum()/len(x))"
   ]
  },
  {
   "cell_type": "code",
   "execution_count": 11,
   "metadata": {},
   "outputs": [],
   "source": [
    "def tweet_to_words( raw_tweet ):\n",
    "    tweet_text= raw_tweet\n",
    "    hashtags = {tag.strip(\"#\") for tag in raw_tweet.split() if tag.startswith(\"#\")}\n",
    "    mentions = {tag.strip(\"@\") for tag in raw_tweet.split() if tag.startswith(\"@\")}\n",
    "    mentions = {tag.strip(\"@\") for tag in raw_tweet.split() if tag.startswith(\"@\")}\n",
    "    letters_only = re.sub(\"[^a-zA-Z]\", \" \", tweet_text) \n",
    "    words = letters_only.lower().split()\t\t\t\t\t\t\t \n",
    "    stops = set(stopwords.words(\"english\"))\t\t\t\t  \n",
    "    meaningful_words = [w for w in words if not w in stops] \n",
    "    meaningful_words = [w for w in meaningful_words if not w in hashtags]\n",
    "    meaningful_words = [w for w in meaningful_words if not w in mentions]   \n",
    "    return( \" \".join( meaningful_words )) \n",
    "\n",
    "def clean_tweets(train):\n",
    "    clean_tweets_train = []\n",
    "    for i in range( 0, len(train)):\n",
    "        clean_tweets_train.append( tweet_to_words( train[\"Tweet\"][i] ) )\n",
    "\n",
    "    print(clean_tweets_train[0])\n",
    "    return clean_tweets_train"
   ]
  },
  {
   "cell_type": "code",
   "execution_count": 12,
   "metadata": {},
   "outputs": [],
   "source": [
    "#print \"70-30 split with 30% being completely held out.\"\n",
    "\n",
    "#X_train, X_test, y_train, y_test = train_test_split(clean_tweets_train[:-5], tweets_train['Stance'][:-5], test_size=0.3, random_state = 0)\n",
    "\n",
    "\n",
    "#X_test.extend(clean_tweets_train[-5:])\n",
    "#y_test = y_test.append(tweets_train['Stance'][-5:])"
   ]
  },
  {
   "cell_type": "code",
   "execution_count": 28,
   "metadata": {},
   "outputs": [],
   "source": [
    "SVM = SVC()\n",
    "\n",
    "ppl = Pipeline([\n",
    "\t('feats', FeatureUnion([\n",
    "\t\t('word_ngram', CountVectorizer(analyzer = \"word\",   \\\n",
    "\t\t\t\t\t\t\t tokenizer = None,\t\\\n",
    "\t\t\t\t\t\t\t preprocessor = None, \\\n",
    "\t\t\t\t\t\t\t stop_words = None,   \\\n",
    "\t\t\t\t\t\t\t ngram_range = (1,3), \\\n",
    "\t\t\t\t\t\t\t max_features = 2000)), # can pass in either a pipeline\n",
    "\t\t('char_ngram', CountVectorizer(ngram_range=(2, 5), analyzer='char', max_features = 10000)) # or a transformer\n",
    "\t])),\n",
    "\t('SVM', SVC(class_weight = 'balanced'))  # classifier\n",
    "])\n",
    "\n",
    "\n",
    "param_dict = {'SVM__C': [0.01, 100],\n",
    "              'SVM__kernel': ['linear'],\n",
    "              #'SVM__gamma' : [0.01, 100]\n",
    "             }\n"
   ]
  },
  {
   "cell_type": "code",
   "execution_count": 29,
   "metadata": {},
   "outputs": [
    {
     "name": "stdout",
     "output_type": "stream",
     "text": [
      "dear lord thank u ur blessings forgive sins lord give strength energy busy day ahead semst\n"
     ]
    },
    {
     "data": {
      "text/plain": [
       "GridSearchCV(cv='warn', error_score='raise-deprecating',\n",
       "       estimator=Pipeline(memory=None,\n",
       "     steps=[('feats', FeatureUnion(n_jobs=None,\n",
       "       transformer_list=[('word_ngram', CountVectorizer(analyzer='word', binary=False, decode_error=u'strict',\n",
       "        dtype=<type 'numpy.int64'>, encoding=u'utf-8', input=u'content',\n",
       "        lowercase=True, max_df=1.0, max_features=2000, min_df=1,\n",
       "        ...f', max_iter=-1, probability=False, random_state=None,\n",
       "  shrinking=True, tol=0.001, verbose=False))]),\n",
       "       fit_params=None, iid='warn', n_jobs=None,\n",
       "       param_grid={'SVM__C': [0.01, 100], 'SVM__kernel': ['linear']},\n",
       "       pre_dispatch='2*n_jobs', refit=True, return_train_score='warn',\n",
       "       scoring=None, verbose=0)"
      ]
     },
     "execution_count": 29,
     "metadata": {},
     "output_type": "execute_result"
    }
   ],
   "source": [
    "# uncomment for training\n",
    "clf = GridSearchCV(ppl, param_dict)\n",
    "clf.fit(clean_tweets(semeval_train), semeval_train['Stance'])"
   ]
  },
  {
   "cell_type": "code",
   "execution_count": 94,
   "metadata": {},
   "outputs": [
    {
     "data": {
      "text/plain": [
       "([u'nt c',\n",
       "  u'um',\n",
       "  u'es c',\n",
       "  u'lan',\n",
       "  u'ct ',\n",
       "  u'reg',\n",
       "  u' man ',\n",
       "  u's mak',\n",
       "  u'ys',\n",
       "  u'ng st',\n",
       "  u'g st',\n",
       "  u'rbo',\n",
       "  u'eo',\n",
       "  u'son s',\n",
       "  u'er m',\n",
       "  u'app',\n",
       "  u'tif',\n",
       "  u'lu',\n",
       "  u'er go',\n",
       "  u' want'],\n",
       " [u'ol',\n",
       "  u'ton b',\n",
       "  u'ne ',\n",
       "  u's gi',\n",
       "  u'ss',\n",
       "  u'es n',\n",
       "  u'arr',\n",
       "  u'op',\n",
       "  u'gg',\n",
       "  u'ed se',\n",
       "  u'rati',\n",
       "  u'we',\n",
       "  u's k',\n",
       "  u'r a',\n",
       "  u'ino',\n",
       "  u'ew',\n",
       "  u'born',\n",
       "  u'vol',\n",
       "  u'ns se',\n",
       "  u'ffo'],\n",
       " [u'eb',\n",
       "  u'ey',\n",
       "  u't e',\n",
       "  u' born',\n",
       "  u' bor',\n",
       "  u'born',\n",
       "  u'ati',\n",
       "  u'ral',\n",
       "  u'nn',\n",
       "  u'ost',\n",
       "  u'sm',\n",
       "  u'ral ',\n",
       "  u't m',\n",
       "  u'v ',\n",
       "  u'rn se',\n",
       "  u'r c',\n",
       "  u'tt',\n",
       "  u'n bo',\n",
       "  u'orn s',\n",
       "  u't f'])"
      ]
     },
     "execution_count": 94,
     "metadata": {},
     "output_type": "execute_result"
    }
   ],
   "source": [
    "def f_importances(coef, names):\n",
    "    imp = coef#.ravel()\n",
    "    imp,names = zip(*sorted(zip(imp,names)))\n",
    "    plt.barh(range(len(names)), imp, align='center')\n",
    "    plt.yticks(range(len(names)), names)\n",
    "    plt.show()\n",
    "    \n",
    "clf.best_estimator_.steps[1][1].coef_.shape, len(clf.best_estimator_.steps[0][1].transformer_list[0][1].get_feature_names())\n",
    "cf = clf.best_estimator_.steps[1][1].coef_\n",
    "feats = clf.best_estimator_.steps[0][1].transformer_list[0][1].get_feature_names()\n",
    "feats.extend(clf.best_estimator_.steps[0][1].transformer_list[1][1].get_feature_names())\n",
    "\n",
    "a = cf.todense()[0].argsort(axis=-1)[:, :20].tolist()[0]\n",
    "f = cf.todense()[1].argsort(axis=-1)[:, :20].tolist()[0]\n",
    "n = cf.todense()[2].argsort(axis=-1)[:, :20].tolist()[0]\n",
    "\n",
    "[feats[i] for i in a], [feats[i] for i in f], [feats[i] for i in n]"
   ]
  },
  {
   "cell_type": "code",
   "execution_count": 95,
   "metadata": {},
   "outputs": [],
   "source": [
    "import pickle\n",
    "# save the classifier\n",
    "with open('models/semeval_taskA_linear.pkl', 'wb') as fid:\n",
    "    pickle.dump(clf, fid, 1) \n",
    "\n",
    "#load classifier\n",
    "with open('models/semeval_taskA_linear.pkl', 'rb') as fid:\n",
    "    clf = pickle.load(fid)"
   ]
  },
  {
   "cell_type": "markdown",
   "metadata": {},
   "source": [
    "### Test on Semeval Task A data "
   ]
  },
  {
   "cell_type": "code",
   "execution_count": 96,
   "metadata": {},
   "outputs": [
    {
     "data": {
      "text/html": [
       "<div>\n",
       "<style scoped>\n",
       "    .dataframe tbody tr th:only-of-type {\n",
       "        vertical-align: middle;\n",
       "    }\n",
       "\n",
       "    .dataframe tbody tr th {\n",
       "        vertical-align: top;\n",
       "    }\n",
       "\n",
       "    .dataframe thead th {\n",
       "        text-align: right;\n",
       "    }\n",
       "</style>\n",
       "<table border=\"1\" class=\"dataframe\">\n",
       "  <thead>\n",
       "    <tr style=\"text-align: right;\">\n",
       "      <th></th>\n",
       "      <th>ID</th>\n",
       "      <th>Target</th>\n",
       "      <th>Tweet</th>\n",
       "      <th>Stance</th>\n",
       "    </tr>\n",
       "  </thead>\n",
       "  <tbody>\n",
       "    <tr>\n",
       "      <th>0</th>\n",
       "      <td>10001</td>\n",
       "      <td>Atheism</td>\n",
       "      <td>He who exalts himself shall      be humbled; a...</td>\n",
       "      <td>AGAINST</td>\n",
       "    </tr>\n",
       "    <tr>\n",
       "      <th>1</th>\n",
       "      <td>10002</td>\n",
       "      <td>Atheism</td>\n",
       "      <td>RT @prayerbullets: I remove Nehushtan -previou...</td>\n",
       "      <td>AGAINST</td>\n",
       "    </tr>\n",
       "    <tr>\n",
       "      <th>2</th>\n",
       "      <td>10003</td>\n",
       "      <td>Atheism</td>\n",
       "      <td>@Brainman365 @heidtjj @BenjaminLives I have so...</td>\n",
       "      <td>AGAINST</td>\n",
       "    </tr>\n",
       "    <tr>\n",
       "      <th>3</th>\n",
       "      <td>10004</td>\n",
       "      <td>Atheism</td>\n",
       "      <td>#God is utterly powerless without Human interv...</td>\n",
       "      <td>AGAINST</td>\n",
       "    </tr>\n",
       "    <tr>\n",
       "      <th>4</th>\n",
       "      <td>10005</td>\n",
       "      <td>Atheism</td>\n",
       "      <td>@David_Cameron   Miracles of #Multiculturalism...</td>\n",
       "      <td>AGAINST</td>\n",
       "    </tr>\n",
       "  </tbody>\n",
       "</table>\n",
       "</div>"
      ],
      "text/plain": [
       "      ID   Target                                              Tweet   Stance\n",
       "0  10001  Atheism  He who exalts himself shall      be humbled; a...  AGAINST\n",
       "1  10002  Atheism  RT @prayerbullets: I remove Nehushtan -previou...  AGAINST\n",
       "2  10003  Atheism  @Brainman365 @heidtjj @BenjaminLives I have so...  AGAINST\n",
       "3  10004  Atheism  #God is utterly powerless without Human interv...  AGAINST\n",
       "4  10005  Atheism  @David_Cameron   Miracles of #Multiculturalism...  AGAINST"
      ]
     },
     "execution_count": 96,
     "metadata": {},
     "output_type": "execute_result"
    }
   ],
   "source": [
    "dataset = \"../semeval/SemEval2016-Task6-subtaskA-testdata-gold.txt\"\n",
    "\"Using %s dataset\" %(dataset)\n",
    "\n",
    "semeval_test = pd.read_csv(dataset, sep = \"\t\", encoding = 'utf-8')\n",
    "semeval_test.head(5)"
   ]
  },
  {
   "cell_type": "code",
   "execution_count": 97,
   "metadata": {
    "scrolled": false
   },
   "outputs": [
    {
     "data": {
      "text/plain": [
       "Target\n",
       "Atheism                             220\n",
       "Climate Change is a Real Concern    169\n",
       "Feminist Movement                   285\n",
       "Hillary Clinton                     295\n",
       "Legalization of Abortion            280\n",
       "Name: ID, dtype: int64"
      ]
     },
     "execution_count": 97,
     "metadata": {},
     "output_type": "execute_result"
    }
   ],
   "source": [
    "semeval_test.groupby(['Target'])['ID'].count().transpose()"
   ]
  },
  {
   "cell_type": "code",
   "execution_count": 98,
   "metadata": {
    "scrolled": false
   },
   "outputs": [
    {
     "data": {
      "text/plain": [
       "Target                            Stance \n",
       "Atheism                           AGAINST    160\n",
       "                                  FAVOR       32\n",
       "                                  NONE        28\n",
       "Climate Change is a Real Concern  AGAINST     11\n",
       "                                  FAVOR      123\n",
       "                                  NONE        35\n",
       "Feminist Movement                 AGAINST    183\n",
       "                                  FAVOR       58\n",
       "                                  NONE        44\n",
       "Hillary Clinton                   AGAINST    172\n",
       "                                  FAVOR       45\n",
       "                                  NONE        78\n",
       "Legalization of Abortion          AGAINST    189\n",
       "                                  FAVOR       46\n",
       "                                  NONE        45\n",
       "Name: ID, dtype: int64"
      ]
     },
     "execution_count": 98,
     "metadata": {},
     "output_type": "execute_result"
    }
   ],
   "source": [
    "semeval_test.groupby(['Target', 'Stance'])['ID'].count().transpose()"
   ]
  },
  {
   "cell_type": "code",
   "execution_count": 99,
   "metadata": {
    "scrolled": true
   },
   "outputs": [
    {
     "data": {
      "text/plain": [
       "Target                            Stance \n",
       "Atheism                           AGAINST    0.727273\n",
       "                                  FAVOR      0.145455\n",
       "                                  NONE       0.127273\n",
       "Climate Change is a Real Concern  AGAINST    0.065089\n",
       "                                  FAVOR      0.727811\n",
       "                                  NONE       0.207101\n",
       "Feminist Movement                 AGAINST    0.642105\n",
       "                                  FAVOR      0.203509\n",
       "                                  NONE       0.154386\n",
       "Hillary Clinton                   AGAINST    0.583051\n",
       "                                  FAVOR      0.152542\n",
       "                                  NONE       0.264407\n",
       "Legalization of Abortion          AGAINST    0.675000\n",
       "                                  FAVOR      0.164286\n",
       "                                  NONE       0.160714\n",
       "Name: ID, dtype: float64"
      ]
     },
     "execution_count": 99,
     "metadata": {},
     "output_type": "execute_result"
    }
   ],
   "source": [
    "(semeval_test.groupby(['Target', 'Stance'])['ID'].count()/semeval_test.groupby(['Target'])['ID'].count()).transpose()#.apply(lambda x: x['ID'].sum()/len(x))"
   ]
  },
  {
   "cell_type": "code",
   "execution_count": 100,
   "metadata": {},
   "outputs": [
    {
     "data": {
      "text/plain": [
       "(Stance\n",
       " AGAINST    1342\n",
       " FAVOR       731\n",
       " NONE        741\n",
       " dtype: int64, Stance\n",
       " AGAINST    715\n",
       " FAVOR      304\n",
       " NONE       230\n",
       " dtype: int64)"
      ]
     },
     "execution_count": 100,
     "metadata": {},
     "output_type": "execute_result"
    }
   ],
   "source": [
    "semeval_train.groupby(['Stance']).size(), semeval_test.groupby(['Stance']).size()"
   ]
  },
  {
   "cell_type": "code",
   "execution_count": 101,
   "metadata": {},
   "outputs": [
    {
     "name": "stdout",
     "output_type": "stream",
     "text": [
      "exalts shall humbled humbles shall exalted matt semst\n"
     ]
    },
    {
     "data": {
      "text/html": [
       "<div>\n",
       "<style scoped>\n",
       "    .dataframe tbody tr th:only-of-type {\n",
       "        vertical-align: middle;\n",
       "    }\n",
       "\n",
       "    .dataframe tbody tr th {\n",
       "        vertical-align: top;\n",
       "    }\n",
       "\n",
       "    .dataframe thead th {\n",
       "        text-align: right;\n",
       "    }\n",
       "</style>\n",
       "<table border=\"1\" class=\"dataframe\">\n",
       "  <thead>\n",
       "    <tr style=\"text-align: right;\">\n",
       "      <th></th>\n",
       "      <th>ID</th>\n",
       "      <th>Target</th>\n",
       "      <th>Tweet</th>\n",
       "      <th>Stance</th>\n",
       "      <th>predicted_stance</th>\n",
       "    </tr>\n",
       "  </thead>\n",
       "  <tbody>\n",
       "    <tr>\n",
       "      <th>0</th>\n",
       "      <td>10001</td>\n",
       "      <td>Atheism</td>\n",
       "      <td>He who exalts himself shall      be humbled; a...</td>\n",
       "      <td>AGAINST</td>\n",
       "      <td>NONE</td>\n",
       "    </tr>\n",
       "    <tr>\n",
       "      <th>1</th>\n",
       "      <td>10002</td>\n",
       "      <td>Atheism</td>\n",
       "      <td>RT @prayerbullets: I remove Nehushtan -previou...</td>\n",
       "      <td>AGAINST</td>\n",
       "      <td>AGAINST</td>\n",
       "    </tr>\n",
       "    <tr>\n",
       "      <th>2</th>\n",
       "      <td>10003</td>\n",
       "      <td>Atheism</td>\n",
       "      <td>@Brainman365 @heidtjj @BenjaminLives I have so...</td>\n",
       "      <td>AGAINST</td>\n",
       "      <td>AGAINST</td>\n",
       "    </tr>\n",
       "    <tr>\n",
       "      <th>3</th>\n",
       "      <td>10004</td>\n",
       "      <td>Atheism</td>\n",
       "      <td>#God is utterly powerless without Human interv...</td>\n",
       "      <td>AGAINST</td>\n",
       "      <td>FAVOR</td>\n",
       "    </tr>\n",
       "    <tr>\n",
       "      <th>4</th>\n",
       "      <td>10005</td>\n",
       "      <td>Atheism</td>\n",
       "      <td>@David_Cameron   Miracles of #Multiculturalism...</td>\n",
       "      <td>AGAINST</td>\n",
       "      <td>NONE</td>\n",
       "    </tr>\n",
       "  </tbody>\n",
       "</table>\n",
       "</div>"
      ],
      "text/plain": [
       "      ID   Target                                              Tweet   Stance  \\\n",
       "0  10001  Atheism  He who exalts himself shall      be humbled; a...  AGAINST   \n",
       "1  10002  Atheism  RT @prayerbullets: I remove Nehushtan -previou...  AGAINST   \n",
       "2  10003  Atheism  @Brainman365 @heidtjj @BenjaminLives I have so...  AGAINST   \n",
       "3  10004  Atheism  #God is utterly powerless without Human interv...  AGAINST   \n",
       "4  10005  Atheism  @David_Cameron   Miracles of #Multiculturalism...  AGAINST   \n",
       "\n",
       "  predicted_stance  \n",
       "0             NONE  \n",
       "1          AGAINST  \n",
       "2          AGAINST  \n",
       "3            FAVOR  \n",
       "4             NONE  "
      ]
     },
     "execution_count": 101,
     "metadata": {},
     "output_type": "execute_result"
    }
   ],
   "source": [
    "semeval_test['predicted_stance'] = clf.predict(clean_tweets(semeval_test))\n",
    "#semeval_test['predicted_stance_score'] = [y[0] for y in clf.predict_proba(clean_semeval_test)]\n",
    "#semeval_test = semeval_test[semeval_test['predicted_stance'] != 2].reset_index(drop = True)\n",
    "semeval_test.head(5)"
   ]
  },
  {
   "cell_type": "code",
   "execution_count": 102,
   "metadata": {},
   "outputs": [],
   "source": [
    "labels = ['FAVOR', 'AGAINST', 'NONE']"
   ]
  },
  {
   "cell_type": "code",
   "execution_count": 103,
   "metadata": {},
   "outputs": [
    {
     "name": "stdout",
     "output_type": "stream",
     "text": [
      "              precision    recall  f1-score   support\n",
      "\n",
      "       FAVOR       0.44      0.48      0.46       304\n",
      "     AGAINST       0.69      0.61      0.65       715\n",
      "        NONE       0.39      0.50      0.44       230\n",
      "\n",
      "   micro avg       0.56      0.56      0.56      1249\n",
      "   macro avg       0.51      0.53      0.51      1249\n",
      "weighted avg       0.58      0.56      0.56      1249\n",
      "\n"
     ]
    }
   ],
   "source": [
    "print(classification_report(semeval_test['Stance'], semeval_test['predicted_stance'], labels=labels))"
   ]
  },
  {
   "cell_type": "code",
   "execution_count": 104,
   "metadata": {},
   "outputs": [
    {
     "data": {
      "text/plain": [
       "0.012011076316554872"
      ]
     },
     "execution_count": 104,
     "metadata": {},
     "output_type": "execute_result"
    }
   ],
   "source": [
    "import scipy\n",
    "def find_kl_divergence(cf):\n",
    "    N = cf.sum()\n",
    "    row_sums = cf.sum(axis=1, dtype='float')\n",
    "    column_sums = cf.sum(axis=0, dtype='float')\n",
    "    true_dist = row_sums / N\n",
    "    pred_dist = column_sums / N\n",
    "    return scipy.stats.entropy(true_dist, pred_dist)\n",
    "kld = find_kl_divergence(confusion_matrix(semeval_test['Stance'], semeval_test['predicted_stance']))\n",
    "kld#, average_precision_score(tweets_test['Stance'], tweets_test['predicted_stance_score']), float(float(tweets_test['Stance'].size)/447.0)"
   ]
  },
  {
   "cell_type": "markdown",
   "metadata": {},
   "source": [
    "### Test on Semeval Task B data (Trump)"
   ]
  },
  {
   "cell_type": "code",
   "execution_count": 105,
   "metadata": {},
   "outputs": [
    {
     "data": {
      "text/html": [
       "<div>\n",
       "<style scoped>\n",
       "    .dataframe tbody tr th:only-of-type {\n",
       "        vertical-align: middle;\n",
       "    }\n",
       "\n",
       "    .dataframe tbody tr th {\n",
       "        vertical-align: top;\n",
       "    }\n",
       "\n",
       "    .dataframe thead th {\n",
       "        text-align: right;\n",
       "    }\n",
       "</style>\n",
       "<table border=\"1\" class=\"dataframe\">\n",
       "  <thead>\n",
       "    <tr style=\"text-align: right;\">\n",
       "      <th></th>\n",
       "      <th>ID</th>\n",
       "      <th>Target</th>\n",
       "      <th>Tweet</th>\n",
       "      <th>Stance</th>\n",
       "    </tr>\n",
       "  </thead>\n",
       "  <tbody>\n",
       "    <tr>\n",
       "      <th>0</th>\n",
       "      <td>20001</td>\n",
       "      <td>Donald Trump</td>\n",
       "      <td>@2014voteblue @ChrisJZullo blindly supporting ...</td>\n",
       "      <td>NONE</td>\n",
       "    </tr>\n",
       "    <tr>\n",
       "      <th>1</th>\n",
       "      <td>20002</td>\n",
       "      <td>Donald Trump</td>\n",
       "      <td>@ThePimpernelX @Cameron_Gray @CalebHowe  Total...</td>\n",
       "      <td>NONE</td>\n",
       "    </tr>\n",
       "    <tr>\n",
       "      <th>2</th>\n",
       "      <td>20003</td>\n",
       "      <td>Donald Trump</td>\n",
       "      <td>@JeffYoung @ThePatriot143 I fully support full...</td>\n",
       "      <td>NONE</td>\n",
       "    </tr>\n",
       "    <tr>\n",
       "      <th>3</th>\n",
       "      <td>20004</td>\n",
       "      <td>Donald Trump</td>\n",
       "      <td>@ABC Stupid is as stupid does! Showedhis true ...</td>\n",
       "      <td>AGAINST</td>\n",
       "    </tr>\n",
       "    <tr>\n",
       "      <th>4</th>\n",
       "      <td>20005</td>\n",
       "      <td>Donald Trump</td>\n",
       "      <td>@HouseGOP we now have one political party. The...</td>\n",
       "      <td>NONE</td>\n",
       "    </tr>\n",
       "  </tbody>\n",
       "</table>\n",
       "</div>"
      ],
      "text/plain": [
       "      ID        Target                                              Tweet  \\\n",
       "0  20001  Donald Trump  @2014voteblue @ChrisJZullo blindly supporting ...   \n",
       "1  20002  Donald Trump  @ThePimpernelX @Cameron_Gray @CalebHowe  Total...   \n",
       "2  20003  Donald Trump  @JeffYoung @ThePatriot143 I fully support full...   \n",
       "3  20004  Donald Trump  @ABC Stupid is as stupid does! Showedhis true ...   \n",
       "4  20005  Donald Trump  @HouseGOP we now have one political party. The...   \n",
       "\n",
       "    Stance  \n",
       "0     NONE  \n",
       "1     NONE  \n",
       "2     NONE  \n",
       "3  AGAINST  \n",
       "4     NONE  "
      ]
     },
     "execution_count": 105,
     "metadata": {},
     "output_type": "execute_result"
    }
   ],
   "source": [
    "dataset = \"../semeval/SemEval2016-Task6-subtaskB-testdata-gold.txt\"\n",
    "\"Using %s dataset\" %(dataset)\n",
    "\n",
    "semeval_trump_test = pd.read_csv(dataset, sep = \"\t\", encoding = 'utf-8')\n",
    "semeval_trump_test.head(5)"
   ]
  },
  {
   "cell_type": "code",
   "execution_count": 106,
   "metadata": {
    "scrolled": false
   },
   "outputs": [
    {
     "data": {
      "text/plain": [
       "Target\n",
       "Donald Trump    707\n",
       "Name: ID, dtype: int64"
      ]
     },
     "execution_count": 106,
     "metadata": {},
     "output_type": "execute_result"
    }
   ],
   "source": [
    "semeval_trump_test.groupby(['Target'])['ID'].count().transpose()"
   ]
  },
  {
   "cell_type": "code",
   "execution_count": 107,
   "metadata": {
    "scrolled": false
   },
   "outputs": [
    {
     "data": {
      "text/plain": [
       "Target        Stance \n",
       "Donald Trump  AGAINST    299\n",
       "              FAVOR      148\n",
       "              NONE       260\n",
       "Name: ID, dtype: int64"
      ]
     },
     "execution_count": 107,
     "metadata": {},
     "output_type": "execute_result"
    }
   ],
   "source": [
    "semeval_trump_test.groupby(['Target', 'Stance'])['ID'].count().transpose()"
   ]
  },
  {
   "cell_type": "code",
   "execution_count": 108,
   "metadata": {
    "scrolled": true
   },
   "outputs": [
    {
     "data": {
      "text/plain": [
       "Target        Stance \n",
       "Donald Trump  AGAINST    0.422914\n",
       "              FAVOR      0.209335\n",
       "              NONE       0.367751\n",
       "Name: ID, dtype: float64"
      ]
     },
     "execution_count": 108,
     "metadata": {},
     "output_type": "execute_result"
    }
   ],
   "source": [
    "(semeval_trump_test.groupby(['Target', 'Stance'])['ID'].count()/semeval_trump_test.groupby(['Target'])['ID'].count()).transpose()#.apply(lambda x: x['ID'].sum()/len(x))"
   ]
  },
  {
   "cell_type": "code",
   "execution_count": 109,
   "metadata": {},
   "outputs": [
    {
     "name": "stdout",
     "output_type": "stream",
     "text": [
      "voteblue chrisjzullo blindly supporting political parties willfull ignorance repub dem semst\n"
     ]
    },
    {
     "data": {
      "text/html": [
       "<div>\n",
       "<style scoped>\n",
       "    .dataframe tbody tr th:only-of-type {\n",
       "        vertical-align: middle;\n",
       "    }\n",
       "\n",
       "    .dataframe tbody tr th {\n",
       "        vertical-align: top;\n",
       "    }\n",
       "\n",
       "    .dataframe thead th {\n",
       "        text-align: right;\n",
       "    }\n",
       "</style>\n",
       "<table border=\"1\" class=\"dataframe\">\n",
       "  <thead>\n",
       "    <tr style=\"text-align: right;\">\n",
       "      <th></th>\n",
       "      <th>ID</th>\n",
       "      <th>Target</th>\n",
       "      <th>Tweet</th>\n",
       "      <th>Stance</th>\n",
       "      <th>predicted_stance</th>\n",
       "    </tr>\n",
       "  </thead>\n",
       "  <tbody>\n",
       "    <tr>\n",
       "      <th>0</th>\n",
       "      <td>20001</td>\n",
       "      <td>Donald Trump</td>\n",
       "      <td>@2014voteblue @ChrisJZullo blindly supporting ...</td>\n",
       "      <td>NONE</td>\n",
       "      <td>AGAINST</td>\n",
       "    </tr>\n",
       "    <tr>\n",
       "      <th>1</th>\n",
       "      <td>20002</td>\n",
       "      <td>Donald Trump</td>\n",
       "      <td>@ThePimpernelX @Cameron_Gray @CalebHowe  Total...</td>\n",
       "      <td>NONE</td>\n",
       "      <td>NONE</td>\n",
       "    </tr>\n",
       "    <tr>\n",
       "      <th>2</th>\n",
       "      <td>20003</td>\n",
       "      <td>Donald Trump</td>\n",
       "      <td>@JeffYoung @ThePatriot143 I fully support full...</td>\n",
       "      <td>NONE</td>\n",
       "      <td>AGAINST</td>\n",
       "    </tr>\n",
       "    <tr>\n",
       "      <th>3</th>\n",
       "      <td>20004</td>\n",
       "      <td>Donald Trump</td>\n",
       "      <td>@ABC Stupid is as stupid does! Showedhis true ...</td>\n",
       "      <td>AGAINST</td>\n",
       "      <td>NONE</td>\n",
       "    </tr>\n",
       "    <tr>\n",
       "      <th>4</th>\n",
       "      <td>20005</td>\n",
       "      <td>Donald Trump</td>\n",
       "      <td>@HouseGOP we now have one political party. The...</td>\n",
       "      <td>NONE</td>\n",
       "      <td>NONE</td>\n",
       "    </tr>\n",
       "  </tbody>\n",
       "</table>\n",
       "</div>"
      ],
      "text/plain": [
       "      ID        Target                                              Tweet  \\\n",
       "0  20001  Donald Trump  @2014voteblue @ChrisJZullo blindly supporting ...   \n",
       "1  20002  Donald Trump  @ThePimpernelX @Cameron_Gray @CalebHowe  Total...   \n",
       "2  20003  Donald Trump  @JeffYoung @ThePatriot143 I fully support full...   \n",
       "3  20004  Donald Trump  @ABC Stupid is as stupid does! Showedhis true ...   \n",
       "4  20005  Donald Trump  @HouseGOP we now have one political party. The...   \n",
       "\n",
       "    Stance predicted_stance  \n",
       "0     NONE          AGAINST  \n",
       "1     NONE             NONE  \n",
       "2     NONE          AGAINST  \n",
       "3  AGAINST             NONE  \n",
       "4     NONE             NONE  "
      ]
     },
     "execution_count": 109,
     "metadata": {},
     "output_type": "execute_result"
    }
   ],
   "source": [
    "semeval_trump_test['predicted_stance'] = clf.predict(clean_tweets(semeval_trump_test))\n",
    "#semeval_trump_test['predicted_stance_score'] = [y[0] for y in clf.predict_proba(clean_semeval_trump_test)]\n",
    "#semeval_trump_test = semeval_trump_test[semeval_trump_test['predicted_stance'] != 2].reset_index(drop = True)\n",
    "semeval_trump_test.head(5)"
   ]
  },
  {
   "cell_type": "code",
   "execution_count": 110,
   "metadata": {},
   "outputs": [
    {
     "name": "stdout",
     "output_type": "stream",
     "text": [
      "              precision    recall  f1-score   support\n",
      "\n",
      "     AGAINST       0.42      0.37      0.40       299\n",
      "       FAVOR       0.09      0.03      0.05       148\n",
      "        NONE       0.32      0.48      0.38       260\n",
      "\n",
      "   micro avg       0.34      0.34      0.34       707\n",
      "   macro avg       0.28      0.29      0.28       707\n",
      "weighted avg       0.31      0.34      0.32       707\n",
      "\n"
     ]
    }
   ],
   "source": [
    "print(classification_report(semeval_trump_test['Stance'], semeval_trump_test['predicted_stance']))"
   ]
  },
  {
   "cell_type": "markdown",
   "metadata": {},
   "source": [
    "## Supervised: Trained on Task B data"
   ]
  },
  {
   "cell_type": "markdown",
   "metadata": {},
   "source": [
    "### First split Task B data into train and test"
   ]
  },
  {
   "cell_type": "code",
   "execution_count": 27,
   "metadata": {},
   "outputs": [
    {
     "data": {
      "text/plain": [
       "'\\ndataset = \"../semeval/SemEval2016-Task6-subtaskB-testdata-gold.txt\"\\n\"Using %s dataset\" %(dataset)\\n\\ntweets_test = pd.read_csv(dataset, sep = \"\\t\")\\ntweets_test.head(5)\\n'"
      ]
     },
     "execution_count": 27,
     "metadata": {},
     "output_type": "execute_result"
    }
   ],
   "source": [
    "\"\"\"\n",
    "dataset = \"../semeval/SemEval2016-Task6-subtaskB-testdata-gold.txt\"\n",
    "\"Using %s dataset\" %(dataset)\n",
    "\n",
    "tweets_test = pd.read_csv(dataset, sep = \"\t\")\n",
    "tweets_test.head(5)\n",
    "\"\"\""
   ]
  },
  {
   "cell_type": "code",
   "execution_count": 28,
   "metadata": {},
   "outputs": [],
   "source": [
    "#train, test = train_test_split(tweets_test, test_size=0.3, random_state=42)"
   ]
  },
  {
   "cell_type": "code",
   "execution_count": 29,
   "metadata": {},
   "outputs": [],
   "source": [
    "#len(train)"
   ]
  },
  {
   "cell_type": "code",
   "execution_count": 30,
   "metadata": {},
   "outputs": [],
   "source": [
    "#len(test)"
   ]
  },
  {
   "cell_type": "code",
   "execution_count": 31,
   "metadata": {},
   "outputs": [],
   "source": [
    "#train.to_csv(\"../semeval/SemEval2016-Task6-subtaskB-testdata-gold_TRAIN.txt\", sep = '\\t', index = False)\n",
    "#test.to_csv(\"../semeval/SemEval2016-Task6-subtaskB-testdata-gold_TEST.txt\", sep = '\\t', index = False)"
   ]
  },
  {
   "cell_type": "markdown",
   "metadata": {},
   "source": [
    "### Read train and test data"
   ]
  },
  {
   "cell_type": "code",
   "execution_count": 32,
   "metadata": {
    "scrolled": true
   },
   "outputs": [
    {
     "data": {
      "text/html": [
       "<div>\n",
       "<style scoped>\n",
       "    .dataframe tbody tr th:only-of-type {\n",
       "        vertical-align: middle;\n",
       "    }\n",
       "\n",
       "    .dataframe tbody tr th {\n",
       "        vertical-align: top;\n",
       "    }\n",
       "\n",
       "    .dataframe thead th {\n",
       "        text-align: right;\n",
       "    }\n",
       "</style>\n",
       "<table border=\"1\" class=\"dataframe\">\n",
       "  <thead>\n",
       "    <tr style=\"text-align: right;\">\n",
       "      <th></th>\n",
       "      <th>ID</th>\n",
       "      <th>Target</th>\n",
       "      <th>Tweet</th>\n",
       "      <th>Stance</th>\n",
       "    </tr>\n",
       "  </thead>\n",
       "  <tbody>\n",
       "    <tr>\n",
       "      <th>0</th>\n",
       "      <td>20067</td>\n",
       "      <td>Donald Trump</td>\n",
       "      <td>they legalized gay marriage???!!!  what's next...</td>\n",
       "      <td>NONE</td>\n",
       "    </tr>\n",
       "    <tr>\n",
       "      <th>1</th>\n",
       "      <td>20012</td>\n",
       "      <td>Donald Trump</td>\n",
       "      <td>@WhipHoyer @CorlessJones haha ACA is far from ...</td>\n",
       "      <td>NONE</td>\n",
       "    </tr>\n",
       "    <tr>\n",
       "      <th>2</th>\n",
       "      <td>20368</td>\n",
       "      <td>Donald Trump</td>\n",
       "      <td>GRATE TWO SEE @realDonaldTrump GET TUFF ON BOA...</td>\n",
       "      <td>FAVOR</td>\n",
       "    </tr>\n",
       "    <tr>\n",
       "      <th>3</th>\n",
       "      <td>20582</td>\n",
       "      <td>Donald Trump</td>\n",
       "      <td>@realDonaldTrump  WE WANT TRUMP! WE WANT TRUMP...</td>\n",
       "      <td>FAVOR</td>\n",
       "    </tr>\n",
       "    <tr>\n",
       "      <th>4</th>\n",
       "      <td>20179</td>\n",
       "      <td>Donald Trump</td>\n",
       "      <td>The Left fear Donald Trump, BIG TIME! @realDon...</td>\n",
       "      <td>FAVOR</td>\n",
       "    </tr>\n",
       "  </tbody>\n",
       "</table>\n",
       "</div>"
      ],
      "text/plain": [
       "      ID        Target                                              Tweet  \\\n",
       "0  20067  Donald Trump  they legalized gay marriage???!!!  what's next...   \n",
       "1  20012  Donald Trump  @WhipHoyer @CorlessJones haha ACA is far from ...   \n",
       "2  20368  Donald Trump  GRATE TWO SEE @realDonaldTrump GET TUFF ON BOA...   \n",
       "3  20582  Donald Trump  @realDonaldTrump  WE WANT TRUMP! WE WANT TRUMP...   \n",
       "4  20179  Donald Trump  The Left fear Donald Trump, BIG TIME! @realDon...   \n",
       "\n",
       "  Stance  \n",
       "0   NONE  \n",
       "1   NONE  \n",
       "2  FAVOR  \n",
       "3  FAVOR  \n",
       "4  FAVOR  "
      ]
     },
     "execution_count": 32,
     "metadata": {},
     "output_type": "execute_result"
    }
   ],
   "source": [
    "dataset = \"../semeval/SemEval2016-Task6-subtaskB-testdata-gold_TRAIN.txt\"\n",
    "\"Using %s dataset\" %(dataset)\n",
    "\n",
    "semeval_trump_70_train = pd.read_csv(dataset, sep = \"\t\", encoding = 'utf-8')\n",
    "semeval_trump_70_train.head(5)"
   ]
  },
  {
   "cell_type": "code",
   "execution_count": 33,
   "metadata": {},
   "outputs": [],
   "source": [
    "SVM = SVC()\n",
    "\n",
    "ppl2 = Pipeline([\n",
    "\t('feats', FeatureUnion([\n",
    "\t\t('word_ngram', CountVectorizer(analyzer = \"word\",   \\\n",
    "\t\t\t\t\t\t\t tokenizer = None,\t\\\n",
    "\t\t\t\t\t\t\t preprocessor = None, \\\n",
    "\t\t\t\t\t\t\t stop_words = None,   \\\n",
    "\t\t\t\t\t\t\t ngram_range = (1,3), \\\n",
    "\t\t\t\t\t\t\t max_features = 2000)), # can pass in either a pipeline\n",
    "\t\t('char_ngram', CountVectorizer(ngram_range=(2, 5), analyzer='char', max_features = 10000)) # or a transformer\n",
    "\t])),\n",
    "\t('SVM', SVC(class_weight = 'balanced'))  # classifier\n",
    "])\n",
    "\n",
    "\n",
    "param_dict = {'SVM__C': [0.01, 100],\n",
    "              'SVM__kernel': ['linear','rbf'],\n",
    "              'SVM__gamma' : [0.01, 100]}"
   ]
  },
  {
   "cell_type": "code",
   "execution_count": 34,
   "metadata": {},
   "outputs": [],
   "source": [
    "#sup_clf = GridSearchCV(ppl2, param_dict)\n",
    "#sup_clf.fit(clean_tweets(semeval_trump_70_train), semeval_trump_70_train['Stance'])"
   ]
  },
  {
   "cell_type": "code",
   "execution_count": 35,
   "metadata": {},
   "outputs": [],
   "source": [
    "# save the classifier\n",
    "#with open('models/semeval_taskB_trained.pkl', 'wb') as fid:\n",
    "#    pickle.dump(sup_clf, fid) \n",
    "\n",
    "#load classifier\n",
    "with open('models/semeval_taskB_trained.pkl', 'rb') as fid:\n",
    "    sup_clf = pickle.load(fid)"
   ]
  },
  {
   "cell_type": "code",
   "execution_count": 36,
   "metadata": {},
   "outputs": [
    {
     "data": {
      "text/html": [
       "<div>\n",
       "<style scoped>\n",
       "    .dataframe tbody tr th:only-of-type {\n",
       "        vertical-align: middle;\n",
       "    }\n",
       "\n",
       "    .dataframe tbody tr th {\n",
       "        vertical-align: top;\n",
       "    }\n",
       "\n",
       "    .dataframe thead th {\n",
       "        text-align: right;\n",
       "    }\n",
       "</style>\n",
       "<table border=\"1\" class=\"dataframe\">\n",
       "  <thead>\n",
       "    <tr style=\"text-align: right;\">\n",
       "      <th></th>\n",
       "      <th>ID</th>\n",
       "      <th>Target</th>\n",
       "      <th>Tweet</th>\n",
       "      <th>Stance</th>\n",
       "    </tr>\n",
       "  </thead>\n",
       "  <tbody>\n",
       "    <tr>\n",
       "      <th>0</th>\n",
       "      <td>20480</td>\n",
       "      <td>Donald Trump</td>\n",
       "      <td>You know Donald Trump is in deep when most Neo...</td>\n",
       "      <td>AGAINST</td>\n",
       "    </tr>\n",
       "    <tr>\n",
       "      <th>1</th>\n",
       "      <td>20082</td>\n",
       "      <td>Donald Trump</td>\n",
       "      <td>Is one cup of coffee ever enough?! #COFFEE #SemST</td>\n",
       "      <td>NONE</td>\n",
       "    </tr>\n",
       "    <tr>\n",
       "      <th>2</th>\n",
       "      <td>20078</td>\n",
       "      <td>Donald Trump</td>\n",
       "      <td>Maybe I was wrong. The government will probabl...</td>\n",
       "      <td>NONE</td>\n",
       "    </tr>\n",
       "    <tr>\n",
       "      <th>3</th>\n",
       "      <td>20209</td>\n",
       "      <td>Donald Trump</td>\n",
       "      <td>@NBCUniversal maybe you could have a reality s...</td>\n",
       "      <td>AGAINST</td>\n",
       "    </tr>\n",
       "    <tr>\n",
       "      <th>4</th>\n",
       "      <td>20320</td>\n",
       "      <td>Donald Trump</td>\n",
       "      <td>Maybe if more patriots raised a fuss and did w...</td>\n",
       "      <td>AGAINST</td>\n",
       "    </tr>\n",
       "  </tbody>\n",
       "</table>\n",
       "</div>"
      ],
      "text/plain": [
       "      ID        Target                                              Tweet  \\\n",
       "0  20480  Donald Trump  You know Donald Trump is in deep when most Neo...   \n",
       "1  20082  Donald Trump  Is one cup of coffee ever enough?! #COFFEE #SemST   \n",
       "2  20078  Donald Trump  Maybe I was wrong. The government will probabl...   \n",
       "3  20209  Donald Trump  @NBCUniversal maybe you could have a reality s...   \n",
       "4  20320  Donald Trump  Maybe if more patriots raised a fuss and did w...   \n",
       "\n",
       "    Stance  \n",
       "0  AGAINST  \n",
       "1     NONE  \n",
       "2     NONE  \n",
       "3  AGAINST  \n",
       "4  AGAINST  "
      ]
     },
     "execution_count": 36,
     "metadata": {},
     "output_type": "execute_result"
    }
   ],
   "source": [
    "dataset = \"../semeval/SemEval2016-Task6-subtaskB-testdata-gold_TEST.txt\"\n",
    "\"Using %s dataset\" %(dataset)\n",
    "\n",
    "semeval_trump_30_test = pd.read_csv(dataset, sep = \"\t\", encoding = 'utf-8')\n",
    "semeval_trump_30_test.head(5)"
   ]
  },
  {
   "cell_type": "code",
   "execution_count": 37,
   "metadata": {},
   "outputs": [
    {
     "name": "stdout",
     "output_type": "stream",
     "text": [
      "know donald trump deep neo conservatives call bullsh speech semst\n",
      "know donald trump deep neo conservatives call bullsh speech semst\n"
     ]
    },
    {
     "data": {
      "text/html": [
       "<div>\n",
       "<style scoped>\n",
       "    .dataframe tbody tr th:only-of-type {\n",
       "        vertical-align: middle;\n",
       "    }\n",
       "\n",
       "    .dataframe tbody tr th {\n",
       "        vertical-align: top;\n",
       "    }\n",
       "\n",
       "    .dataframe thead th {\n",
       "        text-align: right;\n",
       "    }\n",
       "</style>\n",
       "<table border=\"1\" class=\"dataframe\">\n",
       "  <thead>\n",
       "    <tr style=\"text-align: right;\">\n",
       "      <th></th>\n",
       "      <th>ID</th>\n",
       "      <th>Target</th>\n",
       "      <th>Tweet</th>\n",
       "      <th>Stance</th>\n",
       "      <th>predicted_stance</th>\n",
       "      <th>predicted_stance_sup</th>\n",
       "    </tr>\n",
       "  </thead>\n",
       "  <tbody>\n",
       "    <tr>\n",
       "      <th>0</th>\n",
       "      <td>20480</td>\n",
       "      <td>Donald Trump</td>\n",
       "      <td>You know Donald Trump is in deep when most Neo...</td>\n",
       "      <td>AGAINST</td>\n",
       "      <td>NONE</td>\n",
       "      <td>FAVOR</td>\n",
       "    </tr>\n",
       "    <tr>\n",
       "      <th>1</th>\n",
       "      <td>20082</td>\n",
       "      <td>Donald Trump</td>\n",
       "      <td>Is one cup of coffee ever enough?! #COFFEE #SemST</td>\n",
       "      <td>NONE</td>\n",
       "      <td>NONE</td>\n",
       "      <td>NONE</td>\n",
       "    </tr>\n",
       "    <tr>\n",
       "      <th>2</th>\n",
       "      <td>20078</td>\n",
       "      <td>Donald Trump</td>\n",
       "      <td>Maybe I was wrong. The government will probabl...</td>\n",
       "      <td>NONE</td>\n",
       "      <td>AGAINST</td>\n",
       "      <td>AGAINST</td>\n",
       "    </tr>\n",
       "    <tr>\n",
       "      <th>3</th>\n",
       "      <td>20209</td>\n",
       "      <td>Donald Trump</td>\n",
       "      <td>@NBCUniversal maybe you could have a reality s...</td>\n",
       "      <td>AGAINST</td>\n",
       "      <td>AGAINST</td>\n",
       "      <td>NONE</td>\n",
       "    </tr>\n",
       "    <tr>\n",
       "      <th>4</th>\n",
       "      <td>20320</td>\n",
       "      <td>Donald Trump</td>\n",
       "      <td>Maybe if more patriots raised a fuss and did w...</td>\n",
       "      <td>AGAINST</td>\n",
       "      <td>AGAINST</td>\n",
       "      <td>NONE</td>\n",
       "    </tr>\n",
       "  </tbody>\n",
       "</table>\n",
       "</div>"
      ],
      "text/plain": [
       "      ID        Target                                              Tweet  \\\n",
       "0  20480  Donald Trump  You know Donald Trump is in deep when most Neo...   \n",
       "1  20082  Donald Trump  Is one cup of coffee ever enough?! #COFFEE #SemST   \n",
       "2  20078  Donald Trump  Maybe I was wrong. The government will probabl...   \n",
       "3  20209  Donald Trump  @NBCUniversal maybe you could have a reality s...   \n",
       "4  20320  Donald Trump  Maybe if more patriots raised a fuss and did w...   \n",
       "\n",
       "    Stance predicted_stance predicted_stance_sup  \n",
       "0  AGAINST             NONE                FAVOR  \n",
       "1     NONE             NONE                 NONE  \n",
       "2     NONE          AGAINST              AGAINST  \n",
       "3  AGAINST          AGAINST                 NONE  \n",
       "4  AGAINST          AGAINST                 NONE  "
      ]
     },
     "execution_count": 37,
     "metadata": {},
     "output_type": "execute_result"
    }
   ],
   "source": [
    "semeval_trump_30_test['predicted_stance'] = clf.predict(clean_tweets(semeval_trump_30_test))\n",
    "#tweets_test['predicted_stance_score'] = [y[0] for y in clf.predict_proba(clean_tweets_test)]\n",
    "\n",
    "semeval_trump_30_test['predicted_stance_sup'] = sup_clf.predict(clean_tweets(semeval_trump_30_test))\n",
    "#tweets_test['predicted_stance_score_sup'] = [y[0] for y in sup_clf.predict_proba(clean_tweets_test)]\n",
    "semeval_trump_30_test.head(5)"
   ]
  },
  {
   "cell_type": "code",
   "execution_count": 38,
   "metadata": {},
   "outputs": [
    {
     "name": "stdout",
     "output_type": "stream",
     "text": [
      "              precision    recall  f1-score   support\n",
      "\n",
      "     AGAINST       0.43      0.70      0.53        89\n",
      "       FAVOR       0.00      0.00      0.00        53\n",
      "        NONE       0.30      0.28      0.29        71\n",
      "\n",
      "    accuracy                           0.38       213\n",
      "   macro avg       0.25      0.33      0.28       213\n",
      "weighted avg       0.28      0.38      0.32       213\n",
      "\n"
     ]
    }
   ],
   "source": [
    "print(classification_report(semeval_trump_30_test['Stance'], semeval_trump_30_test['predicted_stance']))"
   ]
  },
  {
   "cell_type": "code",
   "execution_count": 39,
   "metadata": {},
   "outputs": [
    {
     "name": "stdout",
     "output_type": "stream",
     "text": [
      "              precision    recall  f1-score   support\n",
      "\n",
      "     AGAINST       0.58      0.43      0.49        89\n",
      "       FAVOR       0.63      0.68      0.65        53\n",
      "        NONE       0.63      0.80      0.70        71\n",
      "\n",
      "    accuracy                           0.62       213\n",
      "   macro avg       0.61      0.64      0.62       213\n",
      "weighted avg       0.61      0.62      0.60       213\n",
      "\n"
     ]
    }
   ],
   "source": [
    "print(classification_report(semeval_trump_30_test['Stance'], semeval_trump_30_test['predicted_stance_sup']))"
   ]
  },
  {
   "cell_type": "code",
   "execution_count": 40,
   "metadata": {},
   "outputs": [
    {
     "data": {
      "text/html": [
       "<div>\n",
       "<style scoped>\n",
       "    .dataframe tbody tr th:only-of-type {\n",
       "        vertical-align: middle;\n",
       "    }\n",
       "\n",
       "    .dataframe tbody tr th {\n",
       "        vertical-align: top;\n",
       "    }\n",
       "\n",
       "    .dataframe thead th {\n",
       "        text-align: right;\n",
       "    }\n",
       "</style>\n",
       "<table border=\"1\" class=\"dataframe\">\n",
       "  <thead>\n",
       "    <tr style=\"text-align: right;\">\n",
       "      <th>predicted_stance_sup</th>\n",
       "      <th>AGAINST</th>\n",
       "      <th>FAVOR</th>\n",
       "      <th>NONE</th>\n",
       "    </tr>\n",
       "    <tr>\n",
       "      <th>Stance</th>\n",
       "      <th></th>\n",
       "      <th></th>\n",
       "      <th></th>\n",
       "    </tr>\n",
       "  </thead>\n",
       "  <tbody>\n",
       "    <tr>\n",
       "      <th>AGAINST</th>\n",
       "      <td>38</td>\n",
       "      <td>20</td>\n",
       "      <td>31</td>\n",
       "    </tr>\n",
       "    <tr>\n",
       "      <th>FAVOR</th>\n",
       "      <td>14</td>\n",
       "      <td>36</td>\n",
       "      <td>3</td>\n",
       "    </tr>\n",
       "    <tr>\n",
       "      <th>NONE</th>\n",
       "      <td>13</td>\n",
       "      <td>1</td>\n",
       "      <td>57</td>\n",
       "    </tr>\n",
       "  </tbody>\n",
       "</table>\n",
       "</div>"
      ],
      "text/plain": [
       "predicted_stance_sup  AGAINST  FAVOR  NONE\n",
       "Stance                                    \n",
       "AGAINST                    38     20    31\n",
       "FAVOR                      14     36     3\n",
       "NONE                       13      1    57"
      ]
     },
     "execution_count": 40,
     "metadata": {},
     "output_type": "execute_result"
    }
   ],
   "source": [
    "pd.crosstab(semeval_trump_30_test['Stance'], semeval_trump_30_test['predicted_stance_sup'])"
   ]
  },
  {
   "cell_type": "code",
   "execution_count": 41,
   "metadata": {},
   "outputs": [
    {
     "data": {
      "text/html": [
       "<div>\n",
       "<style scoped>\n",
       "    .dataframe tbody tr th:only-of-type {\n",
       "        vertical-align: middle;\n",
       "    }\n",
       "\n",
       "    .dataframe tbody tr th {\n",
       "        vertical-align: top;\n",
       "    }\n",
       "\n",
       "    .dataframe thead th {\n",
       "        text-align: right;\n",
       "    }\n",
       "</style>\n",
       "<table border=\"1\" class=\"dataframe\">\n",
       "  <thead>\n",
       "    <tr style=\"text-align: right;\">\n",
       "      <th>predicted_stance</th>\n",
       "      <th>AGAINST</th>\n",
       "      <th>FAVOR</th>\n",
       "      <th>NONE</th>\n",
       "    </tr>\n",
       "    <tr>\n",
       "      <th>Stance</th>\n",
       "      <th></th>\n",
       "      <th></th>\n",
       "      <th></th>\n",
       "    </tr>\n",
       "  </thead>\n",
       "  <tbody>\n",
       "    <tr>\n",
       "      <th>AGAINST</th>\n",
       "      <td>62</td>\n",
       "      <td>0</td>\n",
       "      <td>27</td>\n",
       "    </tr>\n",
       "    <tr>\n",
       "      <th>FAVOR</th>\n",
       "      <td>34</td>\n",
       "      <td>0</td>\n",
       "      <td>19</td>\n",
       "    </tr>\n",
       "    <tr>\n",
       "      <th>NONE</th>\n",
       "      <td>47</td>\n",
       "      <td>4</td>\n",
       "      <td>20</td>\n",
       "    </tr>\n",
       "  </tbody>\n",
       "</table>\n",
       "</div>"
      ],
      "text/plain": [
       "predicted_stance  AGAINST  FAVOR  NONE\n",
       "Stance                                \n",
       "AGAINST                62      0    27\n",
       "FAVOR                  34      0    19\n",
       "NONE                   47      4    20"
      ]
     },
     "execution_count": 41,
     "metadata": {},
     "output_type": "execute_result"
    }
   ],
   "source": [
    "pd.crosstab(semeval_trump_30_test['Stance'], semeval_trump_30_test['predicted_stance'])"
   ]
  },
  {
   "cell_type": "markdown",
   "metadata": {},
   "source": [
    "### check (sup) performance on all mtsd data"
   ]
  },
  {
   "cell_type": "code",
   "execution_count": 47,
   "metadata": {},
   "outputs": [
    {
     "data": {
      "text/html": [
       "<div>\n",
       "<style scoped>\n",
       "    .dataframe tbody tr th:only-of-type {\n",
       "        vertical-align: middle;\n",
       "    }\n",
       "\n",
       "    .dataframe tbody tr th {\n",
       "        vertical-align: top;\n",
       "    }\n",
       "\n",
       "    .dataframe thead th {\n",
       "        text-align: right;\n",
       "    }\n",
       "</style>\n",
       "<table border=\"1\" class=\"dataframe\">\n",
       "  <thead>\n",
       "    <tr style=\"text-align: right;\">\n",
       "      <th></th>\n",
       "      <th>ID</th>\n",
       "      <th>Target</th>\n",
       "      <th>Tweet</th>\n",
       "      <th>Stance</th>\n",
       "    </tr>\n",
       "  </thead>\n",
       "  <tbody>\n",
       "    <tr>\n",
       "      <th>0</th>\n",
       "      <td>657596473161457665</td>\n",
       "      <td>Donald Trump</td>\n",
       "      <td>How can you vote for someone just because they...</td>\n",
       "      <td>FAVOR</td>\n",
       "    </tr>\n",
       "    <tr>\n",
       "      <th>1</th>\n",
       "      <td>657653572356743168</td>\n",
       "      <td>Donald Trump</td>\n",
       "      <td>@jimsciutto #GOP #DonaldTrump flicks his hair ...</td>\n",
       "      <td>AGAINST</td>\n",
       "    </tr>\n",
       "    <tr>\n",
       "      <th>2</th>\n",
       "      <td>657736194369966082</td>\n",
       "      <td>Donald Trump</td>\n",
       "      <td>Trying to explain what a bafoon Trump is in Sp...</td>\n",
       "      <td>AGAINST</td>\n",
       "    </tr>\n",
       "    <tr>\n",
       "      <th>3</th>\n",
       "      <td>657766725358886912</td>\n",
       "      <td>Donald Trump</td>\n",
       "      <td>#HillaryClinton learns &amp;amp; retains new infor...</td>\n",
       "      <td>FAVOR</td>\n",
       "    </tr>\n",
       "    <tr>\n",
       "      <th>4</th>\n",
       "      <td>657900094352658433</td>\n",
       "      <td>Donald Trump</td>\n",
       "      <td>@ormazd72 @Anomaly100 wow, I heard your mommy ...</td>\n",
       "      <td>FAVOR</td>\n",
       "    </tr>\n",
       "  </tbody>\n",
       "</table>\n",
       "</div>"
      ],
      "text/plain": [
       "                   ID        Target  \\\n",
       "0  657596473161457665  Donald Trump   \n",
       "1  657653572356743168  Donald Trump   \n",
       "2  657736194369966082  Donald Trump   \n",
       "3  657766725358886912  Donald Trump   \n",
       "4  657900094352658433  Donald Trump   \n",
       "\n",
       "                                               Tweet   Stance  \n",
       "0  How can you vote for someone just because they...    FAVOR  \n",
       "1  @jimsciutto #GOP #DonaldTrump flicks his hair ...  AGAINST  \n",
       "2  Trying to explain what a bafoon Trump is in Sp...  AGAINST  \n",
       "3  #HillaryClinton learns &amp; retains new infor...    FAVOR  \n",
       "4  @ormazd72 @Anomaly100 wow, I heard your mommy ...    FAVOR  "
      ]
     },
     "execution_count": 47,
     "metadata": {},
     "output_type": "execute_result"
    }
   ],
   "source": [
    "dataset = \"../multi_target_stance_data/multi_stance_data_trump_SE.csv\"\n",
    "\n",
    "mtsd_test = pd.read_csv(dataset, sep = \"\t\", encoding = 'utf-8')\n",
    "mtsd_test = mtsd_test.drop_duplicates(subset=['ID', 'Target', 'Tweet', 'Stance'], keep='first').reset_index(drop = True)\n",
    "mtsd_test.head(5)"
   ]
  },
  {
   "cell_type": "code",
   "execution_count": 48,
   "metadata": {},
   "outputs": [
    {
     "data": {
      "text/plain": [
       "Stance\n",
       "AGAINST    621\n",
       "FAVOR      990\n",
       "NONE       455\n",
       "dtype: int64"
      ]
     },
     "execution_count": 48,
     "metadata": {},
     "output_type": "execute_result"
    }
   ],
   "source": [
    "mtsd_test.groupby(\"Stance\").size()"
   ]
  },
  {
   "cell_type": "code",
   "execution_count": 49,
   "metadata": {},
   "outputs": [
    {
     "name": "stdout",
     "output_type": "stream",
     "text": [
      "vote someone woman despite hillaryclinton liar trump\n",
      "vote someone woman despite hillaryclinton liar trump\n"
     ]
    },
    {
     "data": {
      "text/html": [
       "<div>\n",
       "<style scoped>\n",
       "    .dataframe tbody tr th:only-of-type {\n",
       "        vertical-align: middle;\n",
       "    }\n",
       "\n",
       "    .dataframe tbody tr th {\n",
       "        vertical-align: top;\n",
       "    }\n",
       "\n",
       "    .dataframe thead th {\n",
       "        text-align: right;\n",
       "    }\n",
       "</style>\n",
       "<table border=\"1\" class=\"dataframe\">\n",
       "  <thead>\n",
       "    <tr style=\"text-align: right;\">\n",
       "      <th></th>\n",
       "      <th>ID</th>\n",
       "      <th>Target</th>\n",
       "      <th>Tweet</th>\n",
       "      <th>Stance</th>\n",
       "      <th>predicted_stance</th>\n",
       "      <th>predicted_stance_sup</th>\n",
       "    </tr>\n",
       "  </thead>\n",
       "  <tbody>\n",
       "    <tr>\n",
       "      <th>0</th>\n",
       "      <td>657596473161457665</td>\n",
       "      <td>Donald Trump</td>\n",
       "      <td>How can you vote for someone just because they...</td>\n",
       "      <td>FAVOR</td>\n",
       "      <td>AGAINST</td>\n",
       "      <td>AGAINST</td>\n",
       "    </tr>\n",
       "    <tr>\n",
       "      <th>1</th>\n",
       "      <td>657653572356743168</td>\n",
       "      <td>Donald Trump</td>\n",
       "      <td>@jimsciutto #GOP #DonaldTrump flicks his hair ...</td>\n",
       "      <td>AGAINST</td>\n",
       "      <td>AGAINST</td>\n",
       "      <td>AGAINST</td>\n",
       "    </tr>\n",
       "    <tr>\n",
       "      <th>2</th>\n",
       "      <td>657736194369966082</td>\n",
       "      <td>Donald Trump</td>\n",
       "      <td>Trying to explain what a bafoon Trump is in Sp...</td>\n",
       "      <td>AGAINST</td>\n",
       "      <td>AGAINST</td>\n",
       "      <td>AGAINST</td>\n",
       "    </tr>\n",
       "    <tr>\n",
       "      <th>3</th>\n",
       "      <td>657766725358886912</td>\n",
       "      <td>Donald Trump</td>\n",
       "      <td>#HillaryClinton learns &amp;amp; retains new infor...</td>\n",
       "      <td>FAVOR</td>\n",
       "      <td>AGAINST</td>\n",
       "      <td>AGAINST</td>\n",
       "    </tr>\n",
       "    <tr>\n",
       "      <th>4</th>\n",
       "      <td>657900094352658433</td>\n",
       "      <td>Donald Trump</td>\n",
       "      <td>@ormazd72 @Anomaly100 wow, I heard your mommy ...</td>\n",
       "      <td>FAVOR</td>\n",
       "      <td>AGAINST</td>\n",
       "      <td>AGAINST</td>\n",
       "    </tr>\n",
       "  </tbody>\n",
       "</table>\n",
       "</div>"
      ],
      "text/plain": [
       "                   ID        Target  \\\n",
       "0  657596473161457665  Donald Trump   \n",
       "1  657653572356743168  Donald Trump   \n",
       "2  657736194369966082  Donald Trump   \n",
       "3  657766725358886912  Donald Trump   \n",
       "4  657900094352658433  Donald Trump   \n",
       "\n",
       "                                               Tweet   Stance  \\\n",
       "0  How can you vote for someone just because they...    FAVOR   \n",
       "1  @jimsciutto #GOP #DonaldTrump flicks his hair ...  AGAINST   \n",
       "2  Trying to explain what a bafoon Trump is in Sp...  AGAINST   \n",
       "3  #HillaryClinton learns &amp; retains new infor...    FAVOR   \n",
       "4  @ormazd72 @Anomaly100 wow, I heard your mommy ...    FAVOR   \n",
       "\n",
       "  predicted_stance predicted_stance_sup  \n",
       "0          AGAINST              AGAINST  \n",
       "1          AGAINST              AGAINST  \n",
       "2          AGAINST              AGAINST  \n",
       "3          AGAINST              AGAINST  \n",
       "4          AGAINST              AGAINST  "
      ]
     },
     "execution_count": 49,
     "metadata": {},
     "output_type": "execute_result"
    }
   ],
   "source": [
    "mtsd_test['predicted_stance'] = clf.predict(clean_tweets(mtsd_test))\n",
    "#tweets_test['predicted_stance_score'] = [y[0] for y in clf.predict_proba(clean_tweets_test)]\n",
    "\n",
    "mtsd_test['predicted_stance_sup'] = sup_clf.predict(clean_tweets(mtsd_test))\n",
    "#tweets_test['predicted_stance_score_sup'] = [y[0] for y in sup_clf.predict_proba(clean_tweets_test)]\n",
    "mtsd_test.head(5)"
   ]
  },
  {
   "cell_type": "code",
   "execution_count": 50,
   "metadata": {},
   "outputs": [
    {
     "name": "stdout",
     "output_type": "stream",
     "text": [
      "              precision    recall  f1-score   support\n",
      "\n",
      "     AGAINST       0.30      0.98      0.46       621\n",
      "       FAVOR       0.00      0.00      0.00       990\n",
      "        NONE       0.09      0.01      0.01       455\n",
      "\n",
      "    accuracy                           0.30      2066\n",
      "   macro avg       0.13      0.33      0.16      2066\n",
      "weighted avg       0.11      0.30      0.14      2066\n",
      "\n"
     ]
    }
   ],
   "source": [
    "print(classification_report(mtsd_test['Stance'], mtsd_test['predicted_stance']))"
   ]
  },
  {
   "cell_type": "code",
   "execution_count": 51,
   "metadata": {},
   "outputs": [
    {
     "name": "stdout",
     "output_type": "stream",
     "text": [
      "              precision    recall  f1-score   support\n",
      "\n",
      "     AGAINST       0.31      0.77      0.44       621\n",
      "       FAVOR       0.46      0.18      0.26       990\n",
      "        NONE       0.16      0.04      0.06       455\n",
      "\n",
      "    accuracy                           0.33      2066\n",
      "   macro avg       0.31      0.33      0.25      2066\n",
      "weighted avg       0.35      0.33      0.27      2066\n",
      "\n"
     ]
    }
   ],
   "source": [
    "print(classification_report(mtsd_test['Stance'], mtsd_test['predicted_stance_sup']))"
   ]
  },
  {
   "cell_type": "markdown",
   "metadata": {},
   "source": [
    "## Supervised: Trained on MTSD"
   ]
  },
  {
   "cell_type": "markdown",
   "metadata": {},
   "source": [
    "### First split MTSD data into train and test"
   ]
  },
  {
   "cell_type": "code",
   "execution_count": 52,
   "metadata": {},
   "outputs": [],
   "source": [
    "#dataset = \"../multi_target_stance_data/multi_stance_data_trump_SE.csv\"\n",
    "\n",
    "#tweets_test = pd.read_csv(dataset, sep = \"\t\", encoding = \"utf-8\")\n",
    "\n",
    "#tweets_test.head(5)"
   ]
  },
  {
   "cell_type": "code",
   "execution_count": 53,
   "metadata": {},
   "outputs": [],
   "source": [
    "#tweets_test.groupby('Stance').count()"
   ]
  },
  {
   "cell_type": "code",
   "execution_count": 54,
   "metadata": {},
   "outputs": [],
   "source": [
    "#tweets_test.drop_duplicates(subset=['ID', 'Target', 'Tweet', 'Stance'], keep='first', inplace = True)\n",
    "#tweets_test.groupby('Stance').count()"
   ]
  },
  {
   "cell_type": "code",
   "execution_count": 55,
   "metadata": {},
   "outputs": [],
   "source": [
    "#train, test = train_test_split(tweets_test, test_size=0.3, random_state=42)\n",
    "\n",
    "#len(train), len(test)"
   ]
  },
  {
   "cell_type": "code",
   "execution_count": 56,
   "metadata": {},
   "outputs": [],
   "source": [
    "#train.to_csv(\"../multi_target_stance_data/multi_stance_data_trump_SE_TRAIN.txt\", sep = '\\t', index = False)\n",
    "#test.to_csv(\"../multi_target_stance_data/multi_stance_data_trump_SE_TEST.txt\", sep = '\\t', index = False)"
   ]
  },
  {
   "cell_type": "markdown",
   "metadata": {},
   "source": [
    "### Read train and test data"
   ]
  },
  {
   "cell_type": "code",
   "execution_count": 57,
   "metadata": {},
   "outputs": [
    {
     "data": {
      "text/html": [
       "<div>\n",
       "<style scoped>\n",
       "    .dataframe tbody tr th:only-of-type {\n",
       "        vertical-align: middle;\n",
       "    }\n",
       "\n",
       "    .dataframe tbody tr th {\n",
       "        vertical-align: top;\n",
       "    }\n",
       "\n",
       "    .dataframe thead th {\n",
       "        text-align: right;\n",
       "    }\n",
       "</style>\n",
       "<table border=\"1\" class=\"dataframe\">\n",
       "  <thead>\n",
       "    <tr style=\"text-align: right;\">\n",
       "      <th></th>\n",
       "      <th>ID</th>\n",
       "      <th>Target</th>\n",
       "      <th>Tweet</th>\n",
       "      <th>Stance</th>\n",
       "    </tr>\n",
       "  </thead>\n",
       "  <tbody>\n",
       "    <tr>\n",
       "      <th>0</th>\n",
       "      <td>687339599358656513</td>\n",
       "      <td>Donald Trump</td>\n",
       "      <td>...and what exactly is wrong with NY values???...</td>\n",
       "      <td>FAVOR</td>\n",
       "    </tr>\n",
       "    <tr>\n",
       "      <th>1</th>\n",
       "      <td>687872560491409408</td>\n",
       "      <td>Donald Trump</td>\n",
       "      <td>If it really comes down to #Trump2016 v #Hilla...</td>\n",
       "      <td>NONE</td>\n",
       "    </tr>\n",
       "    <tr>\n",
       "      <th>2</th>\n",
       "      <td>689850687140827137</td>\n",
       "      <td>Donald Trump</td>\n",
       "      <td>@msnbc smears #HillaryClinton w/email bullshit...</td>\n",
       "      <td>AGAINST</td>\n",
       "    </tr>\n",
       "    <tr>\n",
       "      <th>3</th>\n",
       "      <td>677932521619742724</td>\n",
       "      <td>Donald Trump</td>\n",
       "      <td>@FoxNews . #Hillary and the #DNC want NO oppos...</td>\n",
       "      <td>FAVOR</td>\n",
       "    </tr>\n",
       "    <tr>\n",
       "      <th>4</th>\n",
       "      <td>688926597177421824</td>\n",
       "      <td>Donald Trump</td>\n",
       "      <td>4 people thinking about voting 4#BernieSanders...</td>\n",
       "      <td>FAVOR</td>\n",
       "    </tr>\n",
       "  </tbody>\n",
       "</table>\n",
       "</div>"
      ],
      "text/plain": [
       "                   ID        Target  \\\n",
       "0  687339599358656513  Donald Trump   \n",
       "1  687872560491409408  Donald Trump   \n",
       "2  689850687140827137  Donald Trump   \n",
       "3  677932521619742724  Donald Trump   \n",
       "4  688926597177421824  Donald Trump   \n",
       "\n",
       "                                               Tweet   Stance  \n",
       "0  ...and what exactly is wrong with NY values???...    FAVOR  \n",
       "1  If it really comes down to #Trump2016 v #Hilla...     NONE  \n",
       "2  @msnbc smears #HillaryClinton w/email bullshit...  AGAINST  \n",
       "3  @FoxNews . #Hillary and the #DNC want NO oppos...    FAVOR  \n",
       "4  4 people thinking about voting 4#BernieSanders...    FAVOR  "
      ]
     },
     "execution_count": 57,
     "metadata": {},
     "output_type": "execute_result"
    }
   ],
   "source": [
    "dataset = \"../multi_target_stance_data/multi_stance_data_trump_SE_TRAIN.txt\"\n",
    "\n",
    "mtsd_70_train = pd.read_csv(dataset, sep = \"\\t\", encoding = \"utf-8\")\n",
    "\n",
    "mtsd_70_train.head(5)"
   ]
  },
  {
   "cell_type": "code",
   "execution_count": 104,
   "metadata": {},
   "outputs": [
    {
     "data": {
      "text/plain": [
       "1446"
      ]
     },
     "execution_count": 104,
     "metadata": {},
     "output_type": "execute_result"
    }
   ],
   "source": [
    "len(mtsd_70_train)"
   ]
  },
  {
   "cell_type": "code",
   "execution_count": 58,
   "metadata": {},
   "outputs": [],
   "source": [
    "SVM = SVC()\n",
    "\n",
    "ppl3 = Pipeline([\n",
    "\t('feats', FeatureUnion([\n",
    "\t\t('word_ngram', CountVectorizer(analyzer = \"word\",   \\\n",
    "\t\t\t\t\t\t\t tokenizer = None,\t\\\n",
    "\t\t\t\t\t\t\t preprocessor = None, \\\n",
    "\t\t\t\t\t\t\t stop_words = None,   \\\n",
    "\t\t\t\t\t\t\t ngram_range = (1,3), \\\n",
    "\t\t\t\t\t\t\t max_features = 2000)), # can pass in either a pipeline\n",
    "\t\t('char_ngram', CountVectorizer(ngram_range=(2, 5), analyzer='char', max_features = 10000)) # or a transformer\n",
    "\t])),\n",
    "\t('SVM', SVC(class_weight = 'balanced'))  # classifier\n",
    "])\n",
    "\n",
    "\n",
    "param_dict = {'SVM__C': [0.01, 100],\n",
    "              'SVM__kernel': ['linear','rbf'],\n",
    "              'SVM__gamma' : [0.01, 100]}"
   ]
  },
  {
   "cell_type": "code",
   "execution_count": 59,
   "metadata": {},
   "outputs": [
    {
     "name": "stdout",
     "output_type": "stream",
     "text": [
      "exactly wrong ny values sounds like tedcruz getting desperate applaud realdonaldtrump values trump\n"
     ]
    },
    {
     "name": "stderr",
     "output_type": "stream",
     "text": [
      "/home/indira/miniconda3/lib/python3.7/site-packages/sklearn/model_selection/_split.py:1978: FutureWarning: The default value of cv will change from 3 to 5 in version 0.22. Specify it explicitly to silence this warning.\n",
      "  warnings.warn(CV_WARNING, FutureWarning)\n"
     ]
    },
    {
     "data": {
      "text/plain": [
       "GridSearchCV(cv='warn', error_score='raise-deprecating',\n",
       "             estimator=Pipeline(memory=None,\n",
       "                                steps=[('feats',\n",
       "                                        FeatureUnion(n_jobs=None,\n",
       "                                                     transformer_list=[('word_ngram',\n",
       "                                                                        CountVectorizer(analyzer='word',\n",
       "                                                                                        binary=False,\n",
       "                                                                                        decode_error='strict',\n",
       "                                                                                        dtype=<class 'numpy.int64'>,\n",
       "                                                                                        encoding='utf-8',\n",
       "                                                                                        input='content',\n",
       "                                                                                        lowercase=True,\n",
       "                                                                                        max_df=1.0,\n",
       "                                                                                        max_features=2000,\n",
       "                                                                                        min_df=1,\n",
       "                                                                                        ngram_range...\n",
       "                                            decision_function_shape='ovr',\n",
       "                                            degree=3, gamma='auto_deprecated',\n",
       "                                            kernel='rbf', max_iter=-1,\n",
       "                                            probability=False,\n",
       "                                            random_state=None, shrinking=True,\n",
       "                                            tol=0.001, verbose=False))],\n",
       "                                verbose=False),\n",
       "             iid='warn', n_jobs=None,\n",
       "             param_grid={'SVM__C': [0.01, 100], 'SVM__gamma': [0.01, 100],\n",
       "                         'SVM__kernel': ['linear', 'rbf']},\n",
       "             pre_dispatch='2*n_jobs', refit=True, return_train_score=False,\n",
       "             scoring=None, verbose=0)"
      ]
     },
     "execution_count": 59,
     "metadata": {},
     "output_type": "execute_result"
    }
   ],
   "source": [
    "sup_mtsd_clf = GridSearchCV(ppl3, param_dict)\n",
    "sup_mtsd_clf.fit(clean_tweets(mtsd_70_train), mtsd_70_train['Stance'])"
   ]
  },
  {
   "cell_type": "code",
   "execution_count": 60,
   "metadata": {},
   "outputs": [],
   "source": [
    "# save the classifier\n",
    "with open('models/mtsd_trained.pkl', 'wb') as fid:\n",
    "    pickle.dump(sup_mtsd_clf, fid) \n",
    "\n",
    "#load classifier\n",
    "with open('models/mtsd_trained.pkl', 'rb') as fid:\n",
    "    sup_mtsd_clf = pickle.load(fid)"
   ]
  },
  {
   "cell_type": "code",
   "execution_count": 61,
   "metadata": {},
   "outputs": [
    {
     "data": {
      "text/html": [
       "<div>\n",
       "<style scoped>\n",
       "    .dataframe tbody tr th:only-of-type {\n",
       "        vertical-align: middle;\n",
       "    }\n",
       "\n",
       "    .dataframe tbody tr th {\n",
       "        vertical-align: top;\n",
       "    }\n",
       "\n",
       "    .dataframe thead th {\n",
       "        text-align: right;\n",
       "    }\n",
       "</style>\n",
       "<table border=\"1\" class=\"dataframe\">\n",
       "  <thead>\n",
       "    <tr style=\"text-align: right;\">\n",
       "      <th></th>\n",
       "      <th>ID</th>\n",
       "      <th>Target</th>\n",
       "      <th>Tweet</th>\n",
       "      <th>Stance</th>\n",
       "    </tr>\n",
       "  </thead>\n",
       "  <tbody>\n",
       "    <tr>\n",
       "      <th>0</th>\n",
       "      <td>684453762912628736</td>\n",
       "      <td>Donald Trump</td>\n",
       "      <td>@politico @POTUS if they had just been killed ...</td>\n",
       "      <td>FAVOR</td>\n",
       "    </tr>\n",
       "    <tr>\n",
       "      <th>1</th>\n",
       "      <td>694079418982088704</td>\n",
       "      <td>Donald Trump</td>\n",
       "      <td>Steve Deace: 'Little birdie tells me conservat...</td>\n",
       "      <td>NONE</td>\n",
       "    </tr>\n",
       "    <tr>\n",
       "      <th>2</th>\n",
       "      <td>675828189025865728</td>\n",
       "      <td>Donald Trump</td>\n",
       "      <td>#DonaldTrump falls behind Iowa front-runner #T...</td>\n",
       "      <td>NONE</td>\n",
       "    </tr>\n",
       "    <tr>\n",
       "      <th>3</th>\n",
       "      <td>690705963750305792</td>\n",
       "      <td>Donald Trump</td>\n",
       "      <td>Fourth time that I have seen #Cruz2016 spokesm...</td>\n",
       "      <td>FAVOR</td>\n",
       "    </tr>\n",
       "    <tr>\n",
       "      <th>4</th>\n",
       "      <td>659170195013955584</td>\n",
       "      <td>Donald Trump</td>\n",
       "      <td>#Hillary denying VA mismanagement, only lip se...</td>\n",
       "      <td>FAVOR</td>\n",
       "    </tr>\n",
       "  </tbody>\n",
       "</table>\n",
       "</div>"
      ],
      "text/plain": [
       "                   ID        Target  \\\n",
       "0  684453762912628736  Donald Trump   \n",
       "1  694079418982088704  Donald Trump   \n",
       "2  675828189025865728  Donald Trump   \n",
       "3  690705963750305792  Donald Trump   \n",
       "4  659170195013955584  Donald Trump   \n",
       "\n",
       "                                               Tweet Stance  \n",
       "0  @politico @POTUS if they had just been killed ...  FAVOR  \n",
       "1  Steve Deace: 'Little birdie tells me conservat...   NONE  \n",
       "2  #DonaldTrump falls behind Iowa front-runner #T...   NONE  \n",
       "3  Fourth time that I have seen #Cruz2016 spokesm...  FAVOR  \n",
       "4  #Hillary denying VA mismanagement, only lip se...  FAVOR  "
      ]
     },
     "execution_count": 61,
     "metadata": {},
     "output_type": "execute_result"
    }
   ],
   "source": [
    "dataset = \"../multi_target_stance_data/multi_stance_data_trump_SE_TEST.txt\"\n",
    "\"Using %s dataset\" %(dataset)\n",
    "\n",
    "mtsd_30_test = pd.read_csv(dataset, sep = \"\\t\", encoding = 'utf-8')\n",
    "mtsd_30_test.head(5)"
   ]
  },
  {
   "cell_type": "code",
   "execution_count": 62,
   "metadata": {},
   "outputs": [
    {
     "name": "stdout",
     "output_type": "stream",
     "text": [
      "potus killed womb instead guess would feel better trump tedcruz marcorubio\n",
      "potus killed womb instead guess would feel better trump tedcruz marcorubio\n",
      "potus killed womb instead guess would feel better trump tedcruz marcorubio\n"
     ]
    },
    {
     "data": {
      "text/html": [
       "<div>\n",
       "<style scoped>\n",
       "    .dataframe tbody tr th:only-of-type {\n",
       "        vertical-align: middle;\n",
       "    }\n",
       "\n",
       "    .dataframe tbody tr th {\n",
       "        vertical-align: top;\n",
       "    }\n",
       "\n",
       "    .dataframe thead th {\n",
       "        text-align: right;\n",
       "    }\n",
       "</style>\n",
       "<table border=\"1\" class=\"dataframe\">\n",
       "  <thead>\n",
       "    <tr style=\"text-align: right;\">\n",
       "      <th></th>\n",
       "      <th>ID</th>\n",
       "      <th>Target</th>\n",
       "      <th>Tweet</th>\n",
       "      <th>Stance</th>\n",
       "      <th>predicted_stance</th>\n",
       "      <th>predicted_stance_sup</th>\n",
       "      <th>predicted_stance_sup_mtsd</th>\n",
       "    </tr>\n",
       "  </thead>\n",
       "  <tbody>\n",
       "    <tr>\n",
       "      <th>0</th>\n",
       "      <td>684453762912628736</td>\n",
       "      <td>Donald Trump</td>\n",
       "      <td>@politico @POTUS if they had just been killed ...</td>\n",
       "      <td>FAVOR</td>\n",
       "      <td>AGAINST</td>\n",
       "      <td>AGAINST</td>\n",
       "      <td>FAVOR</td>\n",
       "    </tr>\n",
       "    <tr>\n",
       "      <th>1</th>\n",
       "      <td>694079418982088704</td>\n",
       "      <td>Donald Trump</td>\n",
       "      <td>Steve Deace: 'Little birdie tells me conservat...</td>\n",
       "      <td>NONE</td>\n",
       "      <td>AGAINST</td>\n",
       "      <td>FAVOR</td>\n",
       "      <td>NONE</td>\n",
       "    </tr>\n",
       "    <tr>\n",
       "      <th>2</th>\n",
       "      <td>675828189025865728</td>\n",
       "      <td>Donald Trump</td>\n",
       "      <td>#DonaldTrump falls behind Iowa front-runner #T...</td>\n",
       "      <td>NONE</td>\n",
       "      <td>AGAINST</td>\n",
       "      <td>FAVOR</td>\n",
       "      <td>AGAINST</td>\n",
       "    </tr>\n",
       "    <tr>\n",
       "      <th>3</th>\n",
       "      <td>690705963750305792</td>\n",
       "      <td>Donald Trump</td>\n",
       "      <td>Fourth time that I have seen #Cruz2016 spokesm...</td>\n",
       "      <td>FAVOR</td>\n",
       "      <td>AGAINST</td>\n",
       "      <td>AGAINST</td>\n",
       "      <td>FAVOR</td>\n",
       "    </tr>\n",
       "    <tr>\n",
       "      <th>4</th>\n",
       "      <td>659170195013955584</td>\n",
       "      <td>Donald Trump</td>\n",
       "      <td>#Hillary denying VA mismanagement, only lip se...</td>\n",
       "      <td>FAVOR</td>\n",
       "      <td>AGAINST</td>\n",
       "      <td>AGAINST</td>\n",
       "      <td>FAVOR</td>\n",
       "    </tr>\n",
       "  </tbody>\n",
       "</table>\n",
       "</div>"
      ],
      "text/plain": [
       "                   ID        Target  \\\n",
       "0  684453762912628736  Donald Trump   \n",
       "1  694079418982088704  Donald Trump   \n",
       "2  675828189025865728  Donald Trump   \n",
       "3  690705963750305792  Donald Trump   \n",
       "4  659170195013955584  Donald Trump   \n",
       "\n",
       "                                               Tweet Stance predicted_stance  \\\n",
       "0  @politico @POTUS if they had just been killed ...  FAVOR          AGAINST   \n",
       "1  Steve Deace: 'Little birdie tells me conservat...   NONE          AGAINST   \n",
       "2  #DonaldTrump falls behind Iowa front-runner #T...   NONE          AGAINST   \n",
       "3  Fourth time that I have seen #Cruz2016 spokesm...  FAVOR          AGAINST   \n",
       "4  #Hillary denying VA mismanagement, only lip se...  FAVOR          AGAINST   \n",
       "\n",
       "  predicted_stance_sup predicted_stance_sup_mtsd  \n",
       "0              AGAINST                     FAVOR  \n",
       "1                FAVOR                      NONE  \n",
       "2                FAVOR                   AGAINST  \n",
       "3              AGAINST                     FAVOR  \n",
       "4              AGAINST                     FAVOR  "
      ]
     },
     "execution_count": 62,
     "metadata": {},
     "output_type": "execute_result"
    }
   ],
   "source": [
    "mtsd_30_test['predicted_stance'] = clf.predict(clean_tweets(mtsd_30_test))\n",
    "#tweets_test['predicted_stance_score'] = [y[0] for y in clf.predict_proba(clean_tweets_test)]\n",
    "\n",
    "mtsd_30_test['predicted_stance_sup'] = sup_clf.predict(clean_tweets(mtsd_30_test))\n",
    "#tweets_test['predicted_stance_score_sup'] = [y[0] for y in sup_clf.predict_proba(clean_tweets_test)]\n",
    "\n",
    "mtsd_30_test['predicted_stance_sup_mtsd'] = sup_mtsd_clf.predict(clean_tweets(mtsd_30_test))\n",
    "mtsd_30_test.head(5)"
   ]
  },
  {
   "cell_type": "code",
   "execution_count": 63,
   "metadata": {},
   "outputs": [
    {
     "name": "stdout",
     "output_type": "stream",
     "text": [
      "              precision    recall  f1-score   support\n",
      "\n",
      "     AGAINST       0.29      0.98      0.45       180\n",
      "       FAVOR       0.00      0.00      0.00       308\n",
      "        NONE       0.18      0.02      0.03       132\n",
      "\n",
      "    accuracy                           0.29       620\n",
      "   macro avg       0.16      0.33      0.16       620\n",
      "weighted avg       0.12      0.29      0.14       620\n",
      "\n"
     ]
    }
   ],
   "source": [
    "print(classification_report(mtsd_30_test['Stance'], mtsd_30_test['predicted_stance']))"
   ]
  },
  {
   "cell_type": "code",
   "execution_count": 64,
   "metadata": {},
   "outputs": [
    {
     "name": "stdout",
     "output_type": "stream",
     "text": [
      "              precision    recall  f1-score   support\n",
      "\n",
      "     AGAINST       0.29      0.77      0.42       180\n",
      "       FAVOR       0.45      0.17      0.25       308\n",
      "        NONE       0.17      0.04      0.06       132\n",
      "\n",
      "    accuracy                           0.32       620\n",
      "   macro avg       0.30      0.33      0.24       620\n",
      "weighted avg       0.34      0.32      0.26       620\n",
      "\n"
     ]
    }
   ],
   "source": [
    "print(classification_report(mtsd_30_test['Stance'], mtsd_30_test['predicted_stance_sup']))"
   ]
  },
  {
   "cell_type": "code",
   "execution_count": 65,
   "metadata": {},
   "outputs": [
    {
     "name": "stdout",
     "output_type": "stream",
     "text": [
      "              precision    recall  f1-score   support\n",
      "\n",
      "     AGAINST       0.55      0.62      0.59       180\n",
      "       FAVOR       0.75      0.73      0.74       308\n",
      "        NONE       0.39      0.35      0.37       132\n",
      "\n",
      "    accuracy                           0.62       620\n",
      "   macro avg       0.57      0.57      0.56       620\n",
      "weighted avg       0.62      0.62      0.62       620\n",
      "\n"
     ]
    }
   ],
   "source": [
    "print(classification_report(mtsd_30_test['Stance'], mtsd_30_test['predicted_stance_sup_mtsd']))"
   ]
  },
  {
   "cell_type": "markdown",
   "metadata": {},
   "source": [
    "### Test sup_mtsd on trump_semeval_30 data"
   ]
  },
  {
   "cell_type": "code",
   "execution_count": 66,
   "metadata": {},
   "outputs": [
    {
     "name": "stdout",
     "output_type": "stream",
     "text": [
      "know donald trump deep neo conservatives call bullsh speech semst\n"
     ]
    },
    {
     "data": {
      "text/html": [
       "<div>\n",
       "<style scoped>\n",
       "    .dataframe tbody tr th:only-of-type {\n",
       "        vertical-align: middle;\n",
       "    }\n",
       "\n",
       "    .dataframe tbody tr th {\n",
       "        vertical-align: top;\n",
       "    }\n",
       "\n",
       "    .dataframe thead th {\n",
       "        text-align: right;\n",
       "    }\n",
       "</style>\n",
       "<table border=\"1\" class=\"dataframe\">\n",
       "  <thead>\n",
       "    <tr style=\"text-align: right;\">\n",
       "      <th></th>\n",
       "      <th>ID</th>\n",
       "      <th>Target</th>\n",
       "      <th>Tweet</th>\n",
       "      <th>Stance</th>\n",
       "      <th>predicted_stance</th>\n",
       "      <th>predicted_stance_sup</th>\n",
       "      <th>predicted_stance_sup_mtsd</th>\n",
       "    </tr>\n",
       "  </thead>\n",
       "  <tbody>\n",
       "    <tr>\n",
       "      <th>0</th>\n",
       "      <td>20480</td>\n",
       "      <td>Donald Trump</td>\n",
       "      <td>You know Donald Trump is in deep when most Neo...</td>\n",
       "      <td>AGAINST</td>\n",
       "      <td>NONE</td>\n",
       "      <td>FAVOR</td>\n",
       "      <td>NONE</td>\n",
       "    </tr>\n",
       "    <tr>\n",
       "      <th>1</th>\n",
       "      <td>20082</td>\n",
       "      <td>Donald Trump</td>\n",
       "      <td>Is one cup of coffee ever enough?! #COFFEE #SemST</td>\n",
       "      <td>NONE</td>\n",
       "      <td>NONE</td>\n",
       "      <td>NONE</td>\n",
       "      <td>FAVOR</td>\n",
       "    </tr>\n",
       "    <tr>\n",
       "      <th>2</th>\n",
       "      <td>20078</td>\n",
       "      <td>Donald Trump</td>\n",
       "      <td>Maybe I was wrong. The government will probabl...</td>\n",
       "      <td>NONE</td>\n",
       "      <td>AGAINST</td>\n",
       "      <td>AGAINST</td>\n",
       "      <td>NONE</td>\n",
       "    </tr>\n",
       "    <tr>\n",
       "      <th>3</th>\n",
       "      <td>20209</td>\n",
       "      <td>Donald Trump</td>\n",
       "      <td>@NBCUniversal maybe you could have a reality s...</td>\n",
       "      <td>AGAINST</td>\n",
       "      <td>AGAINST</td>\n",
       "      <td>NONE</td>\n",
       "      <td>NONE</td>\n",
       "    </tr>\n",
       "    <tr>\n",
       "      <th>4</th>\n",
       "      <td>20320</td>\n",
       "      <td>Donald Trump</td>\n",
       "      <td>Maybe if more patriots raised a fuss and did w...</td>\n",
       "      <td>AGAINST</td>\n",
       "      <td>AGAINST</td>\n",
       "      <td>NONE</td>\n",
       "      <td>FAVOR</td>\n",
       "    </tr>\n",
       "  </tbody>\n",
       "</table>\n",
       "</div>"
      ],
      "text/plain": [
       "      ID        Target                                              Tweet  \\\n",
       "0  20480  Donald Trump  You know Donald Trump is in deep when most Neo...   \n",
       "1  20082  Donald Trump  Is one cup of coffee ever enough?! #COFFEE #SemST   \n",
       "2  20078  Donald Trump  Maybe I was wrong. The government will probabl...   \n",
       "3  20209  Donald Trump  @NBCUniversal maybe you could have a reality s...   \n",
       "4  20320  Donald Trump  Maybe if more patriots raised a fuss and did w...   \n",
       "\n",
       "    Stance predicted_stance predicted_stance_sup predicted_stance_sup_mtsd  \n",
       "0  AGAINST             NONE                FAVOR                      NONE  \n",
       "1     NONE             NONE                 NONE                     FAVOR  \n",
       "2     NONE          AGAINST              AGAINST                      NONE  \n",
       "3  AGAINST          AGAINST                 NONE                      NONE  \n",
       "4  AGAINST          AGAINST                 NONE                     FAVOR  "
      ]
     },
     "execution_count": 66,
     "metadata": {},
     "output_type": "execute_result"
    }
   ],
   "source": [
    "semeval_trump_30_test['predicted_stance_sup_mtsd'] = sup_mtsd_clf.predict(clean_tweets(semeval_trump_30_test))\n",
    "semeval_trump_30_test.head(5)"
   ]
  },
  {
   "cell_type": "code",
   "execution_count": 67,
   "metadata": {},
   "outputs": [
    {
     "name": "stdout",
     "output_type": "stream",
     "text": [
      "              precision    recall  f1-score   support\n",
      "\n",
      "     AGAINST       0.49      0.28      0.36        89\n",
      "       FAVOR       0.28      0.60      0.39        53\n",
      "        NONE       0.49      0.34      0.40        71\n",
      "\n",
      "    accuracy                           0.38       213\n",
      "   macro avg       0.42      0.41      0.38       213\n",
      "weighted avg       0.44      0.38      0.38       213\n",
      "\n"
     ]
    }
   ],
   "source": [
    "print(classification_report(semeval_trump_30_test['Stance'], semeval_trump_30_test['predicted_stance_sup_mtsd']))"
   ]
  },
  {
   "cell_type": "code",
   "execution_count": 68,
   "metadata": {},
   "outputs": [
    {
     "data": {
      "text/plain": [
       "{'AGAINST': {'precision': 0.49019607843137253,\n",
       "  'recall': 0.2808988764044944,\n",
       "  'f1-score': 0.35714285714285715,\n",
       "  'support': 89},\n",
       " 'FAVOR': {'precision': 0.2831858407079646,\n",
       "  'recall': 0.6037735849056604,\n",
       "  'f1-score': 0.38554216867469876,\n",
       "  'support': 53},\n",
       " 'NONE': {'precision': 0.4897959183673469,\n",
       "  'recall': 0.3380281690140845,\n",
       "  'f1-score': 0.4,\n",
       "  'support': 71},\n",
       " 'accuracy': 0.38028169014084506,\n",
       " 'macro avg': {'precision': 0.4210592791688947,\n",
       "  'recall': 0.4075668767747464,\n",
       "  'f1-score': 0.38089500860585196,\n",
       "  'support': 213},\n",
       " 'weighted avg': {'precision': 0.4385531020750982,\n",
       "  'recall': 0.38028169014084506,\n",
       "  'f1-score': 0.3784950667862597,\n",
       "  'support': 213}}"
      ]
     },
     "execution_count": 68,
     "metadata": {},
     "output_type": "execute_result"
    }
   ],
   "source": [
    "classification_report(semeval_trump_30_test['Stance'], semeval_trump_30_test['predicted_stance_sup_mtsd'], output_dict = True)"
   ]
  },
  {
   "cell_type": "markdown",
   "metadata": {},
   "source": [
    "### Check which mtsd examples (sup) fails on"
   ]
  },
  {
   "cell_type": "code",
   "execution_count": 69,
   "metadata": {},
   "outputs": [
    {
     "data": {
      "text/plain": [
       "424"
      ]
     },
     "execution_count": 69,
     "metadata": {},
     "output_type": "execute_result"
    }
   ],
   "source": [
    "mtsd_30_test_sup_errors = mtsd_30_test[mtsd_30_test['predicted_stance_sup'] != mtsd_30_test['Stance']]\n",
    "len(mtsd_30_test_sup_errors)"
   ]
  },
  {
   "cell_type": "code",
   "execution_count": 70,
   "metadata": {},
   "outputs": [
    {
     "data": {
      "text/plain": [
       "262"
      ]
     },
     "execution_count": 70,
     "metadata": {},
     "output_type": "execute_result"
    }
   ],
   "source": [
    "mtsd_30_test_sup_errors_sup_mtsd_correct = mtsd_30_test_sup_errors[mtsd_30_test_sup_errors['predicted_stance_sup_mtsd'] == mtsd_30_test_sup_errors['Stance']]\n",
    "len(mtsd_30_test_sup_errors_sup_mtsd_correct)"
   ]
  },
  {
   "cell_type": "code",
   "execution_count": 71,
   "metadata": {},
   "outputs": [
    {
     "data": {
      "text/plain": [
       "Stance\n",
       "AGAINST     28\n",
       "FAVOR      190\n",
       "NONE        44\n",
       "Name: Tweet, dtype: int64"
      ]
     },
     "execution_count": 71,
     "metadata": {},
     "output_type": "execute_result"
    }
   ],
   "source": [
    "mtsd_30_test_sup_errors_sup_mtsd_correct.groupby('Stance')['Tweet'].count()"
   ]
  },
  {
   "cell_type": "code",
   "execution_count": 72,
   "metadata": {},
   "outputs": [
    {
     "name": "stdout",
     "output_type": "stream",
     "text": [
      "@politico @POTUS if they had just been killed in the womb instead I guess you would feel better. #Trump2016 #TedCruz #MarcoRubio\n",
      "FAVOR\n",
      "AGAINST\n",
      "\n",
      "Steve Deace: 'Little birdie tells me conservative news organization just did private poll of Iowa that had #TedCruz and #DonaldTrump tied'\n",
      "NONE\n",
      "FAVOR\n",
      "\n",
      "Fourth time that I have seen #Cruz2016 spokesman, Rick Tyler, on TV. He's Really Terrible and quite Creepy, so keep him #Cruzers #Trump2016\n",
      "FAVOR\n",
      "AGAINST\n",
      "\n",
      "#Hillary denying VA mismanagement, only lip service to our vets. #Trump rolling his sleeves,getting it done!Ref: Sioux City Rally #Trump2016\n",
      "FAVOR\n",
      "AGAINST\n",
      "\n",
      "You guys don't need no stinkin' mods, just DIY your own dang debates and stream 'em.  Just do it.  #DonaldTrump #BenCarson  #TedCruz  #tcot\n",
      "NONE\n",
      "AGAINST\n",
      "\n",
      "#Hillary2016 says DoNOT Judge ALL #Muslims by the Actions of a Few! But Hillary says Judge ALL GunOwners by the Actions of a Few! #TRUMP2016\n",
      "FAVOR\n",
      "NONE\n",
      "\n",
      "SO? #Hillary2016 YOU don't like #TRUMP2016 WORDs! WELL Hillary,WE didn't like YOU Mocking The WOMEN YOUR Husband JAG'edOFF ON! #LibCrib #p2\n",
      "FAVOR\n",
      "AGAINST\n",
      "\n",
      "#hillaryclinton #donaldtrump Hillary and POTUS alone are resp. for the mess in Syria, Iran, Iraq, Libya, Yemen,etc. not Trump or the RNC\n",
      "FAVOR\n",
      "AGAINST\n",
      "\n",
      "@washingtonpost They should ALL expect to have everything disclosed. Smile you're on Candid Camera! #GOP #Hillary #BenCarson #DonaldTrump\n",
      "NONE\n",
      "AGAINST\n",
      "\n",
      "@KarlRove has zero credibility. #Trump2016 would beat #Hillary like a drum in the general election. Put Rove out to pasture! #HappeningNow\n",
      "FAVOR\n",
      "AGAINST\n",
      "\n",
      "@jackson3pack Man That's Hardcore May God Bless There Poor Little Souls! She's \"Heartless\" I Vote4 #Hillary4prison +#ImpeachObama=#Trump2016\n",
      "FAVOR\n",
      "AGAINST\n",
      "\n",
      "It's refreshing to see three people running for President that aren't batshit crazy. #DemDebate #TedCruz #DonaldTrump #BenCarson\n",
      "AGAINST\n",
      "FAVOR\n",
      "\n",
      "Trump wins! Polls I've seen have 40% trump win  Be sure 2register republican Remind friends to change party for primary  #Hillary #Trump2016\n",
      "FAVOR\n",
      "AGAINST\n",
      "\n",
      "Trump may have a point: That new \"Muslim Mary\" radio show is already converting Americans to their cause. #Trump2016 #Cruz #Carson #CNN #NBC\n",
      "FAVOR\n",
      "AGAINST\n",
      "\n",
      "BRUNSCHWIG &amp; FILS GRAND DAMASK SILK FABRIC HONEY GOLD BRONZE  #SwissAward #SeanPenn #Hillary2016 #TheRoyals #SiliconValley #Trump2016 #lotto\n",
      "NONE\n",
      "AGAINST\n",
      "\n",
      "@thehill Cruz is so desperate now he wants to bribe! Should have read the Art of War &amp; Art of the Deal. #Trump beat #Cruz already #Trump2016\n",
      "FAVOR\n",
      "AGAINST\n",
      "\n",
      "Dude political #analyst from #Boston said: \"It is going to come down between #HillaryClinton and #DonaldTrump,Americans better accept it\".\n",
      "NONE\n",
      "AGAINST\n",
      "\n",
      "Democrats have #HillaryClinton and #Obama GOP has #DonaldTrump  What does America have? Looks like a bleak and scary future.\n",
      "AGAINST\n",
      "FAVOR\n",
      "\n",
      "#Trump2016 is doing a horrible job in this debate platitudes and rambling #CRUZ handed #Trump his hat is that last exchange\n",
      "AGAINST\n",
      "FAVOR\n",
      "\n",
      "IF HILLARY DOEN'T GET INDICTED, IT WILL DEFINITELY BE BIGGER AND MORE DAMAGING TO JUSTICE THEN THAT \"O.J.\" MOMENT. #Hillary2016 #TRUMP2016\n",
      "FAVOR\n",
      "NONE\n",
      "\n",
      "We also need data base for neocon liberals like #HillaryClinton who give aid and comfort to terrorists.  #MakeAmericaGreatAgain  #Trump2016\n",
      "FAVOR\n",
      "AGAINST\n",
      "\n",
      "#GOPe knows #Trump is the only one who can beat #hillary, &amp; them trying to stop him PROVES they're in bed with Democrats.  #Trump2016 #tcot\n",
      "FAVOR\n",
      "AGAINST\n",
      "\n",
      "@realDonaldTrump R U running 4 POTUS or class Prez? Like 2 kids whining at playground. Need real adults 2 run country #TedCruz #DonaldTrump\n",
      "AGAINST\n",
      "FAVOR\n",
      "\n",
      "Now is not the time to saddle up old miss #HILLARY! She has too many burrs in her saddle! Send that old mare out 2 pasture! #Trump2016 #GOP\n",
      "FAVOR\n",
      "AGAINST\n",
      "\n",
      "#HillaryClinton campaign puts your $$ at risk.  #DonaldTrump puts his $$ up.  Who gonna listen to?  One skin in game or one skinning voters?\n",
      "FAVOR\n",
      "AGAINST\n",
      "\n",
      "@realdonaldtrump  #hillary, Isis, joke. Liar, DEM strategy, say anything and it is fact. Truth in #Trump2016. Defeat hillary, defeat isis.\n",
      "FAVOR\n",
      "AGAINST\n",
      "\n",
      "#BillClinton is a serious liability for #Hillary as well as she being a liability to herself. Both are seriously flawed people. #Trump2016\n",
      "FAVOR\n",
      "AGAINST\n",
      "\n",
      "Come on People, we're gonna be #Winners  Let's #MakeAmericaGreatAgain #Trump2016  #Hillary2016 is a liar - She lies like crazy!\n",
      "FAVOR\n",
      "AGAINST\n",
      "\n",
      "The Party Of Liberal Fantasies can't stand people making money, especially off of fantasy football! #CNBCGOPDebate  #Trump2016 #Cruz2016\n",
      "FAVOR\n",
      "AGAINST\n",
      "\n",
      "#DonaldTrump is attacking #TedCruz's appearance because there's no dirt on Cruz to dig up. Trump uses it as a last resort!\n",
      "AGAINST\n",
      "FAVOR\n",
      "\n",
      "Love &amp; kindness? After #Benghazi the bloody b!tch wants love &amp; kindness? Uh oh-Where's Bill Clinton?  #HillaryinNV #tcot #PJNET #Trump2016\n",
      "FAVOR\n",
      "AGAINST\n",
      "\n",
      "Where are the BIG Muslim marches denouncing Radical Islam? Oh, sorry, I forgot.. They are ALL Peace Loving!  #Trump2016 #CruzVP2016\n",
      "FAVOR\n",
      "AGAINST\n",
      "\n",
      "@ABC dredging up @MonicaLewinsky ' s past as a means of furthering your political agenda; that's harmful to women #DonaldTrump #Hillary2016\n",
      "NONE\n",
      "AGAINST\n",
      "\n",
      "From Debate 'out-takes', apparently whiny spoiled punk #Cruz needs a good ass whoopin  #VETs #Trump2016 #TrumpTrain @realDonaldTrump\n",
      "FAVOR\n",
      "AGAINST\n",
      "\n",
      "May GOD Bless You #TRUMP2016 &amp; Your Beautiful Family! WEthePeople STAND! with YOU! Together WE Will #MakeAmericaGreatAgain!  NO #Hillary2016\n",
      "FAVOR\n",
      "AGAINST\n",
      "\n",
      "@DHecei What gets me most is these #Evangelicals who vote for the man that sounds most like a preacher. #CruzWillStillLose #Trump2016\n",
      "FAVOR\n",
      "AGAINST\n",
      "\n",
      "@tedcruz after your fraudulent victory speech last night I found u even creepier! #creepytedcruz #tedcruziscrazy   #cruzcheats! #Trump2016\n",
      "FAVOR\n",
      "AGAINST\n",
      "\n",
      "Obama is not alone trying to destroy America: the Democrat Party, almost to a man, is fully complicit. #Trump2016 #Cruz2016 #ParisAttack\n",
      "FAVOR\n",
      "AGAINST\n",
      "\n",
      "#TedCruz  went in on #DonaldTrump  throughout the #GOPDebate. I haven't seen evil take on evil like this since Anakin killed Count Dooku!!\n",
      "AGAINST\n",
      "FAVOR\n",
      "\n",
      "#trump2016 presidency is scary?  Really?  Grandma #Hillary2016 presidency is pure insanity Obama Potus is total failure in every way -idiots\n",
      "FAVOR\n",
      "AGAINST\n",
      "\n",
      "#HillaryClinton is nothing more than an Establishment bagwoman whose job is to keep the rich rich, the poor poor.  Dumb sheep.  #Trump2016\n",
      "FAVOR\n",
      "NONE\n",
      "\n",
      "Man didn't realize how much liberals want the freedom of speech to be gone. Typical. #Trump #Trump2016 #TrumpIsRight #NoRefugees #HillaryLie\n",
      "FAVOR\n",
      "AGAINST\n",
      "\n",
      "#Trump #Cruz ticket announced would likely end the conversation. No way the two of them wouldn't leave Washington changed forever #Trump2016\n",
      "FAVOR\n",
      "AGAINST\n",
      "\n",
      "The RINO hateful eight: McCain, Boehner, Jeb Bush, Christie, Kasich, Ryan, McConnel, Graham. #Trump2016 #Cruz2016 #MakeAmericaGreatAgain\n",
      "FAVOR\n",
      "AGAINST\n",
      "\n",
      "prettyliljordyn: RT dansch2002: MT SMolloyDVM: #DonaldTrump echoes #TedCruz on: immigration, amnesty, border, military, jobs. …\n",
      "NONE\n",
      "AGAINST\n",
      "\n",
      "We know that #Obama and #HillaryClinton are seasoned liars compared to #Trump who has evolved on his past views. Bravo. #Trump2016\n",
      "FAVOR\n",
      "AGAINST\n",
      "\n",
      "Hillary accusing Trump of bulling? She's worse! Dem debate was proof. Shut up Hillary! #HillaryLies #trump2016\n",
      "FAVOR\n",
      "AGAINST\n",
      "\n",
      "#Socailist won't fly with the American public, no matter if media pundits and #BernieSanders hacks sell it #Hillary2016 #DonaldTrump\n",
      "NONE\n",
      "AGAINST\n",
      "\n",
      "#HillaryClinton lies so bad now #BernieSanders caught lying disease from her! He's a major Pinocchio. #Trump2016 keeping it real.\n",
      "FAVOR\n",
      "AGAINST\n",
      "\n",
      "@Johnatsrs1949  Yes. Vote everyone out including #TedCruz ! No place for Canadian Cruz and other Puppets of Big donors! #TrumpTrain\n",
      "FAVOR\n",
      "AGAINST\n",
      "\n",
      "THINK Democrats!  #Hillary: \"I'm a PROGRESSIVE #Democrat\"  Q: WHAT is she progressing TO? A: Communism  Switch2Republican Vote #Trump2016🇺🇸\n",
      "FAVOR\n",
      "NONE\n",
      "\n",
      "#TedCruz #DonaldTrump  I don´t trust any polls but only counted votes after an election. Polls are there to feint and fool people.\n",
      "NONE\n",
      "AGAINST\n",
      "\n",
      "Republicans want to destroy ISIS while #HillaryClinton #BernieSanders strip our rights &amp; expand gov't. #Trump2016 #Carson2016 #Rubio2016\n",
      "FAVOR\n",
      "AGAINST\n",
      "\n",
      "Choices for #POTUS are as follows: #Puppet #Trump #Hillary  A vote 4 a puppet = a vote 4 Hillary, so theres really only 1 choice. #Trump2016\n",
      "FAVOR\n",
      "AGAINST\n",
      "\n",
      "Likely reality now: #TedCruz screaming like a girl &amp; #DonaldTrump throwing a tantrum. But will Cruz bodysurf at his rally?\n",
      "AGAINST\n",
      "FAVOR\n",
      "\n",
      "#CCOT If trump elected POTUS, Cruz as VPOTUS would insure he's not assassinated by Globalist elite. #Trump2016 #Cruz2016 #JFK #politics\n",
      "FAVOR\n",
      "AGAINST\n",
      "\n",
      "Who would be a more credible President?  #Hillary2016 #Trump2016 #USpresident  Pls RETWEET for a bigger poll result.\n",
      "FAVOR\n",
      "AGAINST\n",
      "\n",
      "@DavidMarkDC @CNNPolitics @CNN. R rump wants to spend time ralking about clintons penis hmmm? #Trump2016 #HillaryClinton\n",
      "NONE\n",
      "AGAINST\n",
      "\n",
      "#Trump2016 talked up #Hillary in '08, said Romney a better VP pick than #SarahPalin. In '16 #Palin endorsing #Trump ? Sketchy choice.\n",
      "FAVOR\n",
      "AGAINST\n",
      "\n",
      "Dear Republicans - Immigration is EVERYTHING. If Texas goes blue from influx of aliens, then game over. Forever. #TRUMP #Cruz #TrumpTrain\n",
      "FAVOR\n",
      "AGAINST\n",
      "\n",
      ".@_HankRearden: #DonaldTrump wants you armed, wants #ISIS migrants out. #Hillary wants to disarm you, let more ISIS migrants in.  #Trump2016\n",
      "FAVOR\n",
      "AGAINST\n",
      "\n",
      "@SassafrasSassy @IrishCentral and quite frankly, any patriotic American snubbing #Trump2016 to this extent deserves #Hillary2016 good luck!\n",
      "FAVOR\n",
      "AGAINST\n",
      "\n",
      "Can the president do everything that he/she promised during campaign without the OK from the congress? #Trump2016 #Hillary2016 #Sanders2016\n",
      "NONE\n",
      "AGAINST\n",
      "\n",
      "@DavidBWriter Nothing on #Hillary2016 lies that were 10 Pinocchio lies. @realDonaldTrump been found true on all statements. #Trump2016\n",
      "FAVOR\n",
      "AGAINST\n",
      "\n",
      "America's craving an ICON! So many have FAILED US! #OBAMA, #BillCosby #BillClinton, #HILLARY, even the SubwaySandwich Spokesman! #TRUMP2016\n",
      "FAVOR\n",
      "NONE\n",
      "\n",
      "I'm actually surprised the House under Paul Ryan was able to pass a budget that would not shutdown the government. #DonaldTrump #Hillary2016\n",
      "NONE\n",
      "AGAINST\n",
      "\n",
      "#Trump2016 #TedCruz #Hillary #Bernie2016  If the election were held today, which candidate would get your vote?\n",
      "NONE\n",
      "AGAINST\n",
      "\n",
      "I read that the Orange County Jail is advertising on #Airbnb. #WTF? #Hillary has reserved two years so she can still campaign. #TRUMP2016\n",
      "FAVOR\n",
      "AGAINST\n",
      "\n",
      "Poll, Morning Consult, 2016 Presidential Election: Donald Trump (R) 45%, Hillary Clinton (D) 40%. #donaldtrump #hillaryclinton\n",
      "NONE\n",
      "AGAINST\n",
      "\n",
      "Hillary presidency in a nutshell: If you disagree with her (about anything) you will be labeled a sexist. #Hillary2016  #Trump #Trump2016\n",
      "FAVOR\n",
      "AGAINST\n",
      "\n",
      "@GOP in case yall havent noticed, we the people are sick of your establishment candidates. Listen to us or disappear.  #Cruz2016 #Trump2016\n",
      "FAVOR\n",
      "AGAINST\n",
      "\n",
      "#HIllary will bring Sharia Law Abuse to American Women - How's /that/ #MicroAggression sit with you?  #HillaryGotSchlonged #Trump2016\n",
      "FAVOR\n",
      "NONE\n",
      "\n",
      "Will the media devote all day to promoting a war between #Trump and #Cruz tonight? It's never news, it's always ratings now. #Trump2016\n",
      "FAVOR\n",
      "AGAINST\n",
      "\n",
      "#HillaryClinton aides speaking fast n furious trying cover lie #DonaldTrump videos used ISIS recruiting. Just listen to their speed talking.\n",
      "FAVOR\n",
      "AGAINST\n",
      "\n",
      "HYPOCRITE #Hillary2016! #TRUMP2016 #SEXISM? Hillary YOU have BASHED ALL of #BillClinton's SexualAssault Victims! YOU areNO Defender of WOMEN\n",
      "FAVOR\n",
      "AGAINST\n",
      "\n",
      "The Peace loving BASTARDS at it again.  Obama wants to bring 250,000 of these animals to the US WTF?  #Trump2016  #CruzVP2016  @ILNewsFlash\n",
      "FAVOR\n",
      "AGAINST\n",
      "\n",
      "#Cruz2016 #Fox #debate #Trump2016  Yall are the best ticket I we could ever have make a law declare a tie and go in both as presidents\n",
      "FAVOR\n",
      "AGAINST\n",
      "\n",
      "Is the fact that #DonaldTrump not leading in #Iowa more exciting than the fact that #TedCruz is leading completely devastating? #scared\n",
      "AGAINST\n",
      "FAVOR\n",
      "\n",
      "We all think #DonaldTrump is a joke. But on Twitter he gets at least 500 mentions for everyone next candidate #TedCruz gets. #Unstoppable ?\n",
      "AGAINST\n",
      "FAVOR\n",
      "\n",
      "#HillaryIsRight -She said just because they're not as loud &amp; obvious, many #GOPCandidates R on the same page as #DonaldTrump #VoteBlue2016\n",
      "AGAINST\n",
      "FAVOR\n",
      "\n",
      "#Cruz2016 trying to debate #Trump2016 is only because he's losing millions of ears when Trump skips #foxnewsdebate , earn your own ears Ted!\n",
      "FAVOR\n",
      "AGAINST\n",
      "\n",
      "#Hillary thinks #Trump2016 should take responsibility for his words. Shouldn't  she take responsibility for her words / action or even one?\n",
      "FAVOR\n",
      "AGAINST\n",
      "\n",
      "What does #Hillary fear most? Mentioning the words #IslamicTerrorists or #DonaldTrump? PIAPS does not want to rile #Trump .\n",
      "FAVOR\n",
      "AGAINST\n",
      "\n",
      "#GOPDebate #TedCruz #DonaldTrump So they ask Chris Christie a question about Ted Cruz and he rants about Hillary Clinton?\n",
      "NONE\n",
      "AGAINST\n",
      "\n",
      "NEW POLL! Which of the following will Glenn Beck's #TedCruz endorsement speech likely include? #Trump2016 #Trump\n",
      "NONE\n",
      "AGAINST\n",
      "\n",
      "#greta #GOPdebate #Trump2016 proved last night that he can win a general against any Dem while #Cruz showed he could only win #Republicans\n",
      "FAVOR\n",
      "AGAINST\n",
      "\n",
      "#DonaldTrump \"demands apology\" from #HillaryClinton 4 her stating the obvious. Hey @realDonaldTrump I got your apology here, SUCK IT! #Fraud\n",
      "AGAINST\n",
      "FAVOR\n",
      "\n",
      "#TedCruz worried #DonaldTrump might not go away, hypes his racist, misogynist, anti-immigration, and homophobic side- \"I'm fascist too!\"\n",
      "AGAINST\n",
      "FAVOR\n",
      "\n",
      "YES #Hillary2016,Let's ALL Remember &amp; PUT on #CNN  YOU &amp; UR Pervert Husbands LIES about RAPING WOMEN! in the OVAL Office! #TRUMP2016  #MSNBC\n",
      "FAVOR\n",
      "AGAINST\n",
      "\n",
      "Why does @HillaryClinton have such a problem with the truth when it comes to videos?  #Hillary2016 #Trump2016 #Rubio2016\n",
      "FAVOR\n",
      "AGAINST\n",
      "\n",
      "Wow #HillaryClinton says she's going to unleash her secret weapon in early states #BillClinton KEEP INTERNS AWAY #TRUMP2016 @BarbMuenchen\n",
      "FAVOR\n",
      "AGAINST\n",
      "\n",
      "Muslims Boo Moment of Silence for Paris Attacks, Then Chant ‘Allah Akbar’ We need #Trump2016 &amp; #CruzVP2016 Now!\n",
      "FAVOR\n",
      "AGAINST\n",
      "\n",
      "DO MUSLIM LEADERS PUT ON SUITS WHEN THEY COME HERE, OR IS IT JUST HILLARY THAT DRESSES FOR THEM? #TRUMP2016 #TRUMP #Hillary2016\n",
      "FAVOR\n",
      "AGAINST\n",
      "\n",
      "'#Hillary2016 it is easier to draw a line between Hillary and ISIS growth than it is to Trump &amp; anything ISIS, but nice try Hill. #Trump2016\n",
      "FAVOR\n",
      "AGAINST\n",
      "\n",
      "#GOP establishment says we can't nominate #Trump2016 because he'll lose to #HillaryClinton.Like they said we had to nominate #McCain &amp; #Mitt\n",
      "FAVOR\n",
      "AGAINST\n",
      "\n",
      "#trump2016 #TedCruz  if ya'll don't join forces Trump will run independent and Hillary will win. Please think about it. We DONT want Hillary\n",
      "FAVOR\n",
      "AGAINST\n",
      "\n",
      "@jaazee1 America is terminally infected with radical leftist ideology,by people who would destroy and transform our society,#trump2016 #cruz\n",
      "FAVOR\n",
      "AGAINST\n",
      "\n",
      "#TRUMP2016 WomensRights,WomensNeeds,Concerns,Women Deamand=pay for=Work! BUT #Hillary2016? WE doNOT Need a LIAR &amp; Her PERVERT LYING Husband!\n",
      "FAVOR\n",
      "AGAINST\n",
      "\n",
      "#DonaldTrump call for destroying #ISIS oil. US France n Russia going after oil. Trump being listened to over #BarackObama n #HillaryClinton.\n",
      "FAVOR\n",
      "AGAINST\n",
      "\n",
      "Pinocchio nose grows when he lies, @#hillaryclintons  cackle gets louder when she lies #DemDebate #HillaryClinton #Trump2016\n",
      "FAVOR\n",
      "AGAINST\n",
      "\n",
      "If were going 2 call out every phony thing in political ads- let's start w/ Bill and #HillaryClinton looking happily married. #DonaldTrump\n",
      "FAVOR\n",
      "AGAINST\n",
      "\n",
      "Tashfeen Maleek Barak Hussain  Bastard Mohammed  Who cares about the name. The US should eliminate ALL threats now!  #Trump2016 #CruzVP2016\n",
      "FAVOR\n",
      "AGAINST\n",
      "\n",
      "NO More #Hillary2016's LIES (Deceit) &amp; her PERVERT hubby Bill! WE don't need DR #BenCarson! WE Need a BUILDER! WE need JOBs! #TRUMP2016 #SNL\n",
      "FAVOR\n",
      "AGAINST\n",
      "\n",
      "That sound you hear is #Cruz's campaign imploding. If he wold've kept his mouth shut, IA would've been close, Thnx Teddy!  #Trump2016\n",
      "FAVOR\n",
      "AGAINST\n",
      "\n",
      "Supporting #TedCruz doesn't make you a conservative any more than supporting the #DenverBroncos makes you a football player. #Trump2016\n",
      "FAVOR\n",
      "AGAINST\n",
      "\n",
      "Ironic &amp; sad 100 years ago the state primary system emerged to give PROGRESSIVE Republicans a fighting chance! #Trump2016 #Cruz2016\n",
      "FAVOR\n",
      "AGAINST\n",
      "\n",
      "ON HANNITY MARK STEYN FILLS IN+SHOWS CLIP OF #HillaryForPrison2016 A LYING SOB SHE IS-VOTE FOR HER+WELCOME ISIS 2ur TABLE-VOTE #TRUMP2016\n",
      "FAVOR\n",
      "AGAINST\n",
      "\n",
      "and the hits just keep on coming....  #DonaldTrump Says #TedCruz 'Was a Canadian Citizen Up Until 15 Months Ago' People - 5 hours ago\n",
      "NONE\n",
      "AGAINST\n",
      "\n",
      "I could've sworn #DonaldTrump said he was a winner. Lol. He's been scared of that fool #TedCruz for a while. Why he brought up citizenship\n",
      "AGAINST\n",
      "FAVOR\n",
      "\n",
      "Do you think in a #DonaldTrump - #HillaryClinton general election, Trump would use the #RollingStones' \"Under My Thumb\" as a campaign song?\n",
      "NONE\n",
      "FAVOR\n",
      "\n",
      "#trump2016 #rubio2016 #cruze2016 all 1000% better than handing reins to grandma #Hilary2016 OMG u think Obama is bad Clinton worst Potus\n",
      "FAVOR\n",
      "AGAINST\n",
      "\n",
      "#CNN just lost viewers showing that bitch #HillaryClinton nope not falling for that trick so switched channel to #C_SPAN #DonaldTrump\n",
      "FAVOR\n",
      "AGAINST\n",
      "\n",
      "#Hillary2016 is an emperor with no clothes. Is #Trump2016 the only candidate who's willing to make it nakedly clear, early and often?\n",
      "FAVOR\n",
      "AGAINST\n",
      "\n",
      "I think Paul Ryan has done a good job so far in the House compromising &amp; getting things done! Retweet if you agree #DonaldTrump #Hillary2016\n",
      "NONE\n",
      "AGAINST\n",
      "\n",
      "Why do #Cruz supporters think #Trump2016 will have a meltdown? He never promised a win. Will have same # delegates, either way. #IowaCaucus\n",
      "NONE\n",
      "AGAINST\n",
      "\n",
      "SICK of #Muslim Terrorist's, #Obama LIES, #HillaryClinton talk'en WOMENs Rights as HER Husband #BillClinton JACKsOFF on Intern's! #TRUMP2016\n",
      "FAVOR\n",
      "NONE\n",
      "\n",
      "If hardworking honest Americans turn out to vote in high numbers #Hillary2016 doesnt stand a chance. #Trump2016 #Rubio2016 #Cruz2016\n",
      "FAVOR\n",
      "AGAINST\n",
      "\n",
      "#Hillary FEAR a #Trump win!  Hillary C's #POTUS power as leverage 4 persn'l revenue gain, NOT 2 drive solutions 4 US Citizens #Trump2016\n",
      "FAVOR\n",
      "AGAINST\n",
      "\n",
      "Hey #DonaldTrump I support you, I think you ought to ignore #HillaryClinton she is fake and desperate we all know the truth do waist time\n",
      "FAVOR\n",
      "AGAINST\n",
      "\n",
      "@Drudge_Report_   Muslims help stop ISIS Didn't in France! #Hillary_Unacceptable_Liar   #trump2016🇺🇸  Hillary owned by foreign lobbyists.\n",
      "FAVOR\n",
      "AGAINST\n",
      "\n",
      "Regardless of how u feel about the candidates, the more people involved in the process, the better. :) #Bernie2016 #Hillary2016 #Trump2016\n",
      "NONE\n",
      "AGAINST\n",
      "\n",
      "#HillaryClinton can't even piss right. #Trump merely pointed it out. Shrieking ensues from the usual suspects. #TrumpWatch #TrumpTrain\n",
      "FAVOR\n",
      "AGAINST\n",
      "\n",
      "@jonnans @Denise9532 So what your telling me no one in Washington will work with #TedCruz U Walked right into that one #TrumpTrain rolling\n",
      "NONE\n",
      "AGAINST\n",
      "\n",
      "With bernie sanders logic ,global warming caused schools to close in NH #Trump2016 #Hillary2016 #TedCruz #BernieSanders\n",
      "NONE\n",
      "AGAINST\n",
      "\n",
      "So #TedCruz is pro #GMO wich also proves where much of his support comes from, big oil. Nice. Sadly I trust #Trump2016 more than Ted2016\n",
      "FAVOR\n",
      "AGAINST\n",
      "\n",
      "#Hillary2016 talking about 'Being Presidential, REALLY? #BillClinton Jag'enOFF on a INTERN in Oval OFFICE was NOT! Presidential,#TRUMP2016\n",
      "FAVOR\n",
      "AGAINST\n",
      "\n",
      "#Hillary, if elected, will consider Mr0, 4 supreme court nominee. Part of a \"1 hand washes the other,\" deal. #CNN #FNC #Trump2016 #GOP #TCOT\n",
      "FAVOR\n",
      "AGAINST\n",
      "\n",
      "#Cruz supporters want people to think he's words alone are good enough #DonaldTrump has created jobs and businesses we need in this country\n",
      "FAVOR\n",
      "AGAINST\n",
      "\n",
      "If a Pataki drops out of a Republican Primary Race, does anyone really care or hear it? #TRUMP2016 #Cruz2016 (Makes room for serious folk)\n",
      "FAVOR\n",
      "AGAINST\n",
      "\n",
      "#Hillary will attack ISIS with love &amp; kindness can you go there and let us know how it works out? #HillaryForPrison #Trump2016\n",
      "FAVOR\n",
      "AGAINST\n",
      "\n",
      "Who's better self-defense armed #Trump Supporters - or #Hillary Supporters?   If it were the latter, we'd be in FEMA Camps Now! - #Trump2016\n",
      "FAVOR\n",
      "AGAINST\n",
      "\n",
      "@nathanielbumpo @MeOnAJourney @marklevinshow You're wrong about #Cruz Levin. He's owned and he's establishment. There! I said it! #trump2016\n",
      "FAVOR\n",
      "AGAINST\n",
      "\n",
      "Want a Graph?  DumbAss Scale? @BeltwayPanda 100% Stupid #Obama 95% Stupid #HillaryClinton 90% Stupid #Trump 100% Genious!  Vote #Trump2016\n",
      "FAVOR\n",
      "AGAINST\n",
      "\n",
      "i cant watch #HillaryClinton no more im getting sick from her lying :( and corruption save me from her please #Trump2016 #Carson\n",
      "FAVOR\n",
      "AGAINST\n",
      "\n",
      "YES! #Hillary2016 Lets Talk about WOMEN,CoverUp's&amp; LIES! You Hillary are a LIAR &amp; #BillClinton is a Fornicator WHO was IMPEACHed! #TRUMP2016\n",
      "FAVOR\n",
      "AGAINST\n",
      "\n",
      "#Trump taking #hillary head on and winning the narrative has the WHOLE corrupt system🔛the tracks w/#TrumpTrain🚂🇺🇸 FULL THROTTLE!  #Trump2016\n",
      "FAVOR\n",
      "AGAINST\n",
      "\n",
      "Donald trump is a coward. He hides behind 911. He has no conservative values. He's a N.Y. liberal. Ted Cruz is right. #TedCruz #DonaldTrump\n",
      "AGAINST\n",
      "FAVOR\n",
      "\n",
      "#IowaCaucus may have showed #HillaryClinton &amp; #DonaldTrump just have a lot of work to do. Many still waiting on #MarcoRubio breakthrough\n",
      "NONE\n",
      "AGAINST\n",
      "\n",
      "@luvinlife1967 Your are most welcome &amp; thanks the same! #Trump2016 Its sad when the #cruz voters are as vicious as the #Hillary voters! lol\n",
      "FAVOR\n",
      "AGAINST\n",
      "\n",
      "@Gatortrapper @michaeljohns I know you think you're talking, but you're not saying anything. #TedCruz lied about #Trump2016. That's it.\n",
      "FAVOR\n",
      "AGAINST\n",
      "\n",
      "#IowaCaucus almost going as polls indicated, for #Cruz2016 was a must win with #Trump2016 having huge poll leads in NH &amp; SC\n",
      "NONE\n",
      "AGAINST\n",
      "\n",
      "@JebBush If u say 'detailed plans' again, I'll scream! #Hillary says same! Wow, a political hack w/a plan! I get ill. #Trump2016\n",
      "FAVOR\n",
      "NONE\n",
      "\n",
      "Mexican Word of the day = Effort.  Every time I eat a taco, effort! thank you, i'll be here all week #immigration #Trump2016 #Hillary4prison\n",
      "FAVOR\n",
      "AGAINST\n",
      "\n",
      "Nanakin2souls: RT dansch2002: MT SMolloyDVM: #DonaldTrump echoes #TedCruz on: immigration, amnesty, border, military, jobs. …\n",
      "NONE\n",
      "AGAINST\n",
      "\n",
      "How long will it be before #DonaldTrump starts referring to #TedCruz only by his real name: Rafael Cruz?\n",
      "NONE\n",
      "FAVOR\n",
      "\n",
      "Twitter is everything+comedian: Actor-comedian, journalist-comedian, heck! Even wanna-be-president/comedian #DonaldTrump #HillaryClinton\n",
      "NONE\n",
      "AGAINST\n",
      "\n",
      "Straw poll in SC Greenville county GOP meeting tonight: #TedCruz 1st with 46%, #DonaldTrump 2nd with 22, followed by Jeb (10) &amp; Rubio (8)\n",
      "NONE\n",
      "FAVOR\n",
      "\n",
      "@uk_visahelp #TedCruz wd have #DonaldTrump as a trade negotiator? Like oil deals with Arab countries? V poor judgement\n",
      "AGAINST\n",
      "FAVOR\n",
      "\n",
      "@Beansiesdaddy @realDonaldTrump  dumb cabbage brain and dumpling mouth #hillaryclinton say only dumb words, no have smart words. #trump2016\n",
      "FAVOR\n",
      "AGAINST\n",
      "\n",
      "So let me get this straight: #TedCruz is like #DonaldTrump, but with added religious fervour? Oh that's just great.\n",
      "AGAINST\n",
      "FAVOR\n",
      "\n",
      "Thanks for the thanks today. If you really want to thank a vet, do us a favor and don't vote for #Hillary in 2016. #Trump2016 #Carly2016\n",
      "FAVOR\n",
      "AGAINST\n",
      "\n",
      "At least the #ISIS scum knows who their enemy is and is not: #Trump2016 is their enemy -- while #Hillary2016 is their pal. #TrumpTrain\n",
      "FAVOR\n",
      "AGAINST\n",
      "\n",
      "@tedcruz knows it's over when he asks loony conspiracy guy @glennbeck to campaign for him in Iowa. #HillaryForPrison #TCOT #Trump2016\n",
      "FAVOR\n",
      "NONE\n",
      "\n",
      "If I want to understand how US elections work, where's a good explanation to get me (based UK) started? #Trump2016 #Hillary2016\n",
      "NONE\n",
      "AGAINST\n",
      "\n",
      "ONLY way WE see To STOP The 'Fall of The USA' is to Elect #TRUMP2016, WE're sick of #Hillary &amp; #Obama &amp; Propaganda! Lets BUILD with #TRUMP\n",
      "FAVOR\n",
      "AGAINST\n",
      "\n",
      "Is this an episode of Judge Judy?  #DonaldTrump &amp; #TedCruz going at it hot &amp; heavy (maybe they'll be undressing soon ;-) #GOPDebate\n",
      "AGAINST\n",
      "FAVOR\n",
      "\n",
      "@realDonaldTrump we need leaders like #trump and @TGowdySC real men who aren't in big govt pockets like Hillary #HillaryForPrison #trump2016\n",
      "FAVOR\n",
      "AGAINST\n",
      "\n",
      "@blakehounshell They're using them to recruit, and AG Lynch is preparing indictment papers against Trump. 😜 #Trump2016 #Cruz2016\n",
      "FAVOR\n",
      "AGAINST\n",
      "\n",
      "Nobody in Washington likes #TedCruz what makes you think they will work with him as prez???  #Trump2016\n",
      "FAVOR\n",
      "AGAINST\n",
      "\n",
      "#DonaldTrump says #TedCruz's Canadian birth could be \"very precarious\" for the GOP. @HallieJackson joins me from Iowa, next on #MTPDaily.\n",
      "NONE\n",
      "AGAINST\n",
      "\n",
      "SO? WEthePeople! DoWE want JOBs,SECURITY &amp; A GREAT Future for OUR Family's! #TRUMP2016!  or More #Democrat #Hillary2016 aka #Obama BULL SHIT\n",
      "FAVOR\n",
      "AGAINST\n",
      "\n",
      "#Hillary2016's foundation donations are rolling in, guaranteeing her plenty of favors to owe &amp; lots of voters to ignore. #Trump2016\n",
      "FAVOR\n",
      "AGAINST\n",
      "\n",
      "Any country that elects serial felon Hillary Clinton I don't want to live in. #Trump2016 #Cruz2016 #christie2016 #Huckabee Rubio not sure.\n",
      "FAVOR\n",
      "AGAINST\n",
      "\n",
      "@CharlesHurt I agree. I don't think #Bill wants to be a footnote to #Hillary 's Historical moment. Let's not find out though! #Trump2016\n",
      "FAVOR\n",
      "NONE\n",
      "\n",
      "Donald Trump has packed in 15,000 people for a rally in Biloxi, MS tonight! What's Hillary Clinton doing tonight? #Hillary2016 #Trump2016\n",
      "FAVOR\n",
      "AGAINST\n",
      "\n",
      "The Clinton strategy has not changed since the 1990\"s  Deny,Deflect and Defame.!..The public will move on.. #tcot #trump2016 #pjnet #cruz\n",
      "FAVOR\n",
      "AGAINST\n",
      "\n",
      "Now is not the time to saddle up old miss #HILLARY! She has too many burrs in her saddle! Send that old mare out to pasture! #Trump2016 #GOP\n",
      "FAVOR\n",
      "AGAINST\n",
      "\n",
      "Trump would never sale out America for campaign funds like #HillaryClinton and the criminal GOPe have.  #MakeAmericaGreatAgain  #Trump2016\n",
      "FAVOR\n",
      "AGAINST\n",
      "\n",
      "Like I SAID! Don't wanna another POLITICIAN in the WHITE HOUSE! Especially those with ties to CUBA! NO #Cruz NO #RUBIO! Goin #Trump2016!!\n",
      "FAVOR\n",
      "AGAINST\n",
      "\n",
      "If Pearl Harbor happened today #Hillary and @TheDemocrats would say we need gun control instead of winning the war #Trump2016\n",
      "FAVOR\n",
      "NONE\n",
      "\n",
      "NEVER in US History Has a past 'FirstLady\" been Elected #POTUS! Are U F'ing Joking with #Hillary2016 BS? Bill is a LYING PERVERT! #TRUMP2016\n",
      "FAVOR\n",
      "AGAINST\n",
      "\n",
      "#DonaldTrump get Putin endorsement BUT #HillaryClinton get #ISIS endorsement with Trump recruit video.  New ISIS #HRC Super Pac endorsement.\n",
      "NONE\n",
      "AGAINST\n",
      "\n",
      "@FoxNews cannot stop promoting a fight between #Trump and #Cruz. Wishful thinking for ratings! #bias Opinions, not facts! #Trump2016\n",
      "FAVOR\n",
      "AGAINST\n",
      "\n",
      "Every one of #Cruz answers were so scripted! Just another lawyer/politician that will say anything to get elected #Trump2016\n",
      "FAVOR\n",
      "AGAINST\n",
      "\n",
      "Media is so in the tank for #Hillary its embarrassing. #Trump2016 bashing reaches epic proportions this morning on @CBSThisMorning #bias\n",
      "FAVOR\n",
      "AGAINST\n",
      "\n",
      "#HillaryClinton this morning: I don't say #RadicalIslam because it's unfair to \"good Muslims\". What bullshit. #Trump2016\n",
      "FAVOR\n",
      "NONE\n",
      "\n",
      "#Progressives shoved #ethanol scam down our throats, &amp; Trump promises to out-Obama Obama &amp; increase federal subsidy!   #Trump2016 #Cruz2016\n",
      "FAVOR\n",
      "AGAINST\n",
      "\n",
      "#Hillary2016 lies because she knows her base are stupid enough 2 swallow it hook line and sinker. Bunch of Rubes. Watch #13hours  #Trump2016\n",
      "FAVOR\n",
      "AGAINST\n",
      "\n",
      "cooler heads prevail- #IowaPoll is fixed we know it and all others put #cruz still unable to break out of the mid teens..  #Trump2016\n",
      "FAVOR\n",
      "AGAINST\n",
      "\n",
      "#Huckabee: \"#DonaldTrump would make a better President every day of week and twice on Sunday, rather than #Hillary.\" #WhoCanBeatHillary\n",
      "FAVOR\n",
      "AGAINST\n",
      "\n",
      "#DonaldTrump calls #TedCruz a Cuban, and as a #Canadian I have no urge to contradict a huge great fantastic solid-gold Mensa card-holder.\n",
      "AGAINST\n",
      "FAVOR\n",
      "\n",
      "It's official, the bromance between #DonaldTrump and #TedCruz is over. That's my take. Watch @Nightline for more analysis and commentary.\n",
      "NONE\n",
      "AGAINST\n",
      "\n",
      "Sounds like a politician they will probably screw you like a politician! No #Rubio no #Cruz no #Bush give me the straight talker #Trump2016\n",
      "FAVOR\n",
      "AGAINST\n",
      "\n",
      "#HillaryClinton plans4 #ISIS is so intricate I don't think she can even follow it. Sounded like she was making it up as she went. #Trump2016\n",
      "FAVOR\n",
      "AGAINST\n",
      "\n",
      "#LindseyGraham rather lose with #DonaldTrump than win.  Great repo SC Senator?  That thinking puts #HillaryClinton in and it be repos doing.\n",
      "FAVOR\n",
      "AGAINST\n",
      "\n",
      "O God. Why do people think #TedCruz can win the Presidency? He looks like a villain from the Rocky &amp; Bullwinkle show. #GOPDebate #Trump2016\n",
      "FAVOR\n",
      "AGAINST\n",
      "\n",
      "It's unbelievable the power of the media.  We need to turn the table and kick those assholes to the curb #Trump2016 #HillaryForPrison2016\n",
      "FAVOR\n",
      "AGAINST\n",
      "\n",
      "Why do you want this job? -I need to buy coffins for each member of my family for our upcoming vacation. #capitalism #Trump2016 #Hillary2016\n",
      "NONE\n",
      "AGAINST\n",
      "\n",
      "The best way to make America Great Again is to keep #DonaldTrump out of office. His trolling of #TedCruz is despicable and infantile\n",
      "AGAINST\n",
      "FAVOR\n",
      "\n",
      "#HillaryClinton 's first act as POTUS would be to pardon herself &amp; 40+ others in this administration But she didnt count on #Trump2016\n",
      "FAVOR\n",
      "AGAINST\n",
      "\n",
      "#Hillary2016 talking about 'Being Presidential, REALLY? CheckOut pics on Internet of SofS Hillary DRUNK! SHE's NOT! Presidential, #TRUMP2016\n",
      "FAVOR\n",
      "AGAINST\n",
      "\n",
      "I kinda liked #TedCruz until he startd being a dick. He looks too much like a snapping turtle to b prez anyway. #trump2016\n",
      "FAVOR\n",
      "AGAINST\n",
      "\n",
      "We can forgive #TedCruz for being controlled by his donors. Hate the game, not the playa.  But we can't make him POTUS, #Iowa.  #Trump2016\n",
      "FAVOR\n",
      "AGAINST\n",
      "\n",
      "Oh lord. #TedCruz is up there in numbers with #DonaldTrump. I feel sorry for the Republican Party if those are their best candidates\n",
      "AGAINST\n",
      "FAVOR\n",
      "\n",
      "#TedCruz is an establishment liar. Backstabbing, tells the $ people one thing and the taxpayers another.  ONLY #Trump2016 has been steadfast\n",
      "FAVOR\n",
      "AGAINST\n",
      "\n",
      "@DavidLimbaugh I'll only detest you until the Primaries are over, then I'll think you might be smart again.  #Trump2016 #Cruz2016\n",
      "FAVOR\n",
      "AGAINST\n",
      "\n",
      "@realDonaldTrump why are Saudi's donating money to #HillaryClinton foundation?  How do we know that she's not peddling influence? #Trump2016\n",
      "FAVOR\n",
      "AGAINST\n",
      "\n",
      "THE DEMOCRAT PARTY GAVE AWAY THIS ELECTION FROM BEING COERCED BY THE CLINTON MACHINE. #TRUMP HILLARY IS UNELECTABLE. #TRUMP2016 #TEDCRUZ2016\n",
      "FAVOR\n",
      "AGAINST\n",
      "\n",
      "@JAndretta TRUE! #Hillary Could Beat A Lie Detector Test! Informed Voters Would Know Better Though! #HillNo  #Trump2016\n",
      "FAVOR\n",
      "AGAINST\n",
      "\n",
      "Trump hit it out of the park, the ratings prove it. That's the problem with #HillaryClinton &amp; the dems, nobody wants to watch.  #Trump2016\n",
      "FAVOR\n",
      "AGAINST\n",
      "\n",
      "#Trump2016 Cruz said Reagan would never write checks to #democrat, does #Cruz know Reagan used to BE a democrat? So yes, #Reagan did.\n",
      "FAVOR\n",
      "AGAINST\n",
      "\n",
      "Anyway, that's about all I'm going to say about that topic(probably shouldn't have even said this much) #Trump2016 #HillaryIsAnonIssue (5/5)\n",
      "FAVOR\n",
      "AGAINST\n",
      "\n",
      "#TedCruz jumping in polls.  Washington elite not pleased.  Not see difference between Cruz n #DonaldTrump.  This not tell something bout DC?\n",
      "NONE\n",
      "AGAINST\n",
      "\n",
      "@HillaryClinton I'm done with the lies. You claim Trump is helping #ISIS? You lost my vote #HillaryClinton. #DonaldTrump just got my vote.\n",
      "FAVOR\n",
      "AGAINST\n",
      "\n",
      "So. . . about domestic terrorism. . . lone wolf mass shooters . . . anything? #TedCruz #DonaldTrump #MarcoRubio\n",
      "NONE\n",
      "AGAINST\n",
      "\n",
      "@HillaryClinton flagrantly viol8s law and runs for #potus while rest of us would've been locked in irons #Hillary4Prison #Trump2016 #13hours\n",
      "FAVOR\n",
      "AGAINST\n",
      "\n",
      "How does #Hillary know what videos ISIS is showing? Is she in their recruitment meetings? #Trump2016 @realDonaldTrump\n",
      "FAVOR\n",
      "AGAINST\n",
      "\n",
      "#TRUMP2016, LIAR&amp;#SEXISM =Impeached #BillClinton! LIAR&amp;Misogynist= #HillaryClinton! YES Hillary WE'll TALK about U Bashing Women Bill FU-Ked\n",
      "FAVOR\n",
      "AGAINST\n",
      "\n",
      "*nothing* #Trump2016 has done re:women can EVER compare to Bill Clinton's treatment,&amp;,by extension, #Hillary's treatment,of females #TheFive\n",
      "FAVOR\n",
      "AGAINST\n",
      "\n",
      "@BretBaier @FoxNews show us #Hillary the videos you have SEEN of the isis propaganda videos using #DonaldTrump,#show me hillary!\n",
      "FAVOR\n",
      "AGAINST\n",
      "\n",
      "X #POTUS #BillClinton's Perverse SexAbuse of WOMEN For DECADEs is a MAJOR Reason to Reject #Hillary216! Bill wouldBE BACK in #WH, #TRUMP2016\n",
      "FAVOR\n",
      "AGAINST\n",
      "\n",
      "Nobody wants Another Clinton in the white house Especially someone that emails with criminals #hillaryforprison2016 Vote for #Trump2016\n",
      "FAVOR\n",
      "AGAINST\n",
      "\n",
      "I am very interested to see if Sarah Palin's endorsement of Donald Trump will hurt Ted Cruz #SarahPalin #DonaldTrump #TedCruz\n",
      "NONE\n",
      "AGAINST\n",
      "\n",
      "@_HankRearden gotta give BS respect for being principled &amp; standing up against #Hillary2016 corruption, whether U agree w/ him #TrumpTrain\n",
      "FAVOR\n",
      "AGAINST\n",
      "\n",
      "Trump: \" I haven't even focused on #HillaryClinton yet. But when I do, I will make her fall.\" #GOPDebate closings with Como..#Trump2016\n",
      "FAVOR\n",
      "AGAINST\n",
      "\n",
      "Unbelievable that Hillary is pulling the gender card when trump asks for an apology about her Isis trump comment #Trump2016 #Hillary #HillNo\n",
      "FAVOR\n",
      "AGAINST\n",
      "\n",
      "#WhiteHouse says #DonaldTrumps comments disqualify him from #Potus But #Hillary Clinton exposing top secret #Emails that's fine. F U Morons\n",
      "FAVOR\n",
      "AGAINST\n",
      "\n",
      "@GOP_Left_ME @mrdavidflane  Well that being said if #Trump2016 is the GOP candidate  What are his chances against #HillaryClinton  Realistic\n",
      "NONE\n",
      "AGAINST\n",
      "\n",
      "#Trump inconsistent for supporting #Hillary back in 2000s? No. If you're a smart businessman, you'll support your state's senator #Trump2016\n",
      "FAVOR\n",
      "AGAINST\n",
      "\n",
      "Thank you #DonaldTrump ! The more I hear you speak the more inspired I become......To strongly consider voting for #TedCruz\n",
      "AGAINST\n",
      "FAVOR\n",
      "\n",
      "The thing #TheMedia's more dishonest about than #Trump? #Hillary2016 . They've done so much to protect her that it makes me sick #Trump2016\n",
      "FAVOR\n",
      "AGAINST\n",
      "\n",
      "The idea of a #TedCruz presidency is far scarier than that of #DonaldTrump. Trump's an asshole, but Cruz is legitimately insane. #GOPDebate\n",
      "AGAINST\n",
      "FAVOR\n",
      "\n",
      "#Hillary Puts #HateRadio &amp; #Foxnews #GOP into a Hate Frenzy Worse Than with #Obama~#DonaldTrump Best Able To Do Whats Needed #nyt #cnn #wsj\n",
      "FAVOR\n",
      "AGAINST\n",
      "\n",
      "I just figured out how to know #HillaryClinton is lying. Her mouth opens before she draws air to speak. @realDonaldTrump #Trump #Trump2016\n",
      "FAVOR\n",
      "AGAINST\n",
      "\n",
      "#Democrats not comfortable with #hillary \"handling\" their personal info now damn sure shouldn't vote for her.  #smh  #Trump2016 #tcot\n",
      "FAVOR\n",
      "AGAINST\n",
      "\n",
      "I'm not a #HillaryClinton fan but if I was, I would tell her she shouldn't bring Bill into it AND play female card! Pathetic! #Trump2016\n",
      "FAVOR\n",
      "AGAINST\n",
      "\n",
      "#TedCruz got million dollar loan from Goldman Sachs 4 Senate campaign &amp; fails 2 disclose it. Did he just hand the nomination 2 #DonaldTrump?\n",
      "NONE\n",
      "AGAINST\n",
      "\n",
      "Regardless of who wins the #Republican nomination, WE MUST UNITE. We cannot afford a Hillary or Sanders presidency. #Trump2016 #Cruz2016\n",
      "FAVOR\n",
      "AGAINST\n",
      "\n",
      "#Cruz spends his entire run in #Iowa #Trump spends 3 weeks there takes the lead. #Trump2016 #TrumpTrain Watch out #Hillary we're coming.\n",
      "FAVOR\n",
      "AGAINST\n",
      "\n",
      "#Hillary2016 Courting Women's Vote by asking HER Jag'OFF on UR Dress, Sex-A-Paid, Pervert Husband BillClinton on Campaign Trail!  #TRUMP2016\n",
      "FAVOR\n",
      "AGAINST\n",
      "\n",
      "Only far left loons and low info voters will support #HillaryClinton, whose lies and corruption are well documented. #Trump2016 #Cavuto\n",
      "FAVOR\n",
      "AGAINST\n",
      "\n",
      "RE-Building #America - Anyone will be better than four more years of the obscene extreme Liberalism of #Obama through #Hillary #Trump2016\n",
      "FAVOR\n",
      "AGAINST\n",
      "\n",
      "#DonaldTrump's party history: Democrat, GOP, Reform, Democrat, GOP, Independent, GOP. The US needs a consistent conservative. #TedCruz #Iowa\n",
      "AGAINST\n",
      "FAVOR\n",
      "\n",
      "@FoxNews @brithume Bcuz they know these two idiots can't win a general election.That said PLS vote for #TedTheCanadian #Trump2016 #Cruz2016!\n",
      "FAVOR\n",
      "AGAINST\n",
      "\n",
      "Does @realDonaldTrump know this: Hassidic proverb cautions, “There is no room for God in him that is full of himself.” #Trump2016 #TedCruz\n",
      "AGAINST\n",
      "FAVOR\n",
      "\n",
      "I hate to say this...but I hope #HILLARY #CROAKS RIGHT before the election and leaves them all empty handed! There. I said it. #TRUMP2016\n",
      "FAVOR\n",
      "AGAINST\n",
      "\n",
      "HERE WE GO AGAIN!  #HillaryClinton mis-speaking.  Calling #DonaldTrump #ISIS biggest recruiter?  Not mis-speaking INSTEAD simply lying AGAIN\n",
      "FAVOR\n",
      "AGAINST\n",
      "\n",
      "#JebBush burns his photos of getting chummy with serial child molester #JoshDuggar, while he claims #HillaryClinton's BFF is #DonaldTrump.\n",
      "NONE\n",
      "AGAINST\n",
      "\n",
      "Albright - place in hell for women who don't vote #HillaryClinton. #DonaldTrump - #TedCruz is a p____. Trump decimated and Albright praised.\n",
      "AGAINST\n",
      "FAVOR\n",
      "\n",
      "Women attacks verbally Woman gets attacked verbally Cries \"Misogyny!\" SJWs, Rosie, Megyn #Hillary, Pls don't kill #FemaleEquality #Trump2016\n",
      "FAVOR\n",
      "NONE\n",
      "\n",
      "Does fake abuela #Hillary know people lick butth-s in Lena Dunham show - then she gets  prissy about schlong?  #Trump2016\n",
      "FAVOR\n",
      "AGAINST\n",
      "\n",
      "Schlong?  If Hillary wins it's So Long America. That's all we know and all we need to know. #Trump2016 #Cruz2016 #MakeAmericaGreatAgain\n",
      "FAVOR\n",
      "AGAINST\n",
      "\n",
      "Remember that leaked audio of #Cruz's manipulative strategy &amp; ask yourself WHO was in the room....Big $$$  Don't be fooled!  Vote #Trump2016\n",
      "FAVOR\n",
      "AGAINST\n",
      "\n",
      "Why don't #Cruzers support Ben Carson? Carson's policies are closest to God. I want a tough leader. Actions stronger than words! #Trump2016\n",
      "FAVOR\n",
      "AGAINST\n",
      "\n",
      "The business decision to let #Hillary win was decided on a long time ago. Just like when Romney 'lost' to Obama. Not this time #Trump2016\n",
      "FAVOR\n",
      "AGAINST\n",
      "\n",
      "We prefer a wolf in sheep's clothing over a wolf just shock value. We deserve what we elect.#NoTrump no #Trump2016. #TedCruz2016 best choice\n",
      "AGAINST\n",
      "FAVOR\n",
      "\n",
      "If Iowa chooses #Cruz, it proves that they've learned nothing from being lied to and used by Obama. #Trump2016\n",
      "FAVOR\n",
      "AGAINST\n",
      "\n",
      "It's said #DonaldTrump &amp; #TedCruz R \"Outsiders\" -Cruz is 1 step away from a Swastika armband &amp; Trump is a self-serving egomaniacal hypocrite\n",
      "AGAINST\n",
      "FAVOR\n",
      "\n",
      "#Trump2016 #TedCruz WH and Congress Fear you. Stay safe. NO accidents. And don't be bought off. Not that I think you would. America needs ya\n",
      "FAVOR\n",
      "AGAINST\n",
      "\n",
      "The only way this Radical leftist President will be STOPPED is when Americans die or he is IMPEACHED! #pjnet #tcot #trump2016 #cruz #hannity\n",
      "FAVOR\n",
      "AGAINST\n",
      "\n",
      "#HillaryClinton has done nothing to improve YOUR life over the last 10 years. How would a new title change that? Wake up! #Trump2016\n",
      "FAVOR\n",
      "AGAINST\n",
      "\n",
      "#HillaryClinton has a ton of dough, why doesn't she fund her own campaign like #Trump? Not smart enough? No moral compass? Both? #Trump2016\n",
      "FAVOR\n",
      "AGAINST\n",
      "\n",
      "Interesting ... ONLY KURDS that OBEY TURKEY are Not considered \"terrorists\" by Turkey ..Fishy Right?? #TrumpTrain #Cruz2016 #Rubio2016 #iowa\n",
      "FAVOR\n",
      "AGAINST\n",
      "\n",
      "#Hillary a whiner, a prez candidate, not 10 year old, should b able to take heat of campaign w/out getting all prissy &amp; poor me #Trump2016\n",
      "FAVOR\n",
      "AGAINST\n",
      "\n",
      "@realDonaldTrump Agree with you on #Petraeus! #Hillary much worse! When you are POTUS bring him back to defeat Isis! #Trump2016  🇺🇸🇺🇸🇺🇸\n",
      "FAVOR\n",
      "AGAINST\n",
      "\n",
      "Headline: \"Trump lashes out at Cruz.\" That's like saying Hitler's lashing out at Mussolini, haha. #TedCruz #DonaldTrump #RacismMustFall\n",
      "AGAINST\n",
      "FAVOR\n",
      "\n",
      "Actually I can't wait for the presidential election, just to see the mass exodus of losing voters #Trump2016 #Hillary2016 #Bernie2016\n",
      "NONE\n",
      "AGAINST\n",
      "\n",
      "Lively exchanges #debate with #DonaldTrump &amp; #TedCruz trading barbs over the former's allegiance to #NewYork and the latter's birth status\n",
      "NONE\n",
      "AGAINST\n",
      "\n",
      "Kerry: \"We will fight them with blather, we will fight them with twaddle...we'll never surrender.\" #ParisAttack #Trump2016 #Cruz2016 #ISIS\n",
      "NONE\n",
      "AGAINST\n",
      "\n",
      "@OutnumberedFNC I've said for 30yrs #Hillary habitual liar is nothing less than #LiberalProgressivesocialist piece of #DogDung #Trump2016\n",
      "FAVOR\n",
      "AGAINST\n",
      "\n",
      "@DefendingtheUSA  Ted is \"preaching\"; Ted doesn't believe what he's saying, that's why he sounds fake -- it is fake.  #Trump2016  #Cruz2016\n",
      "FAVOR\n",
      "AGAINST\n",
      "\n",
      "#GOPDebate #TedCruz #DonaldTrump #JohnKasich #ChrisChristie Marco Rubio gets second boos of the night, mentioning George W Bush name up.\n",
      "NONE\n",
      "AGAINST\n",
      "\n"
     ]
    }
   ],
   "source": [
    "for i, row in mtsd_30_test_sup_errors_sup_mtsd_correct.iterrows():\n",
    "    print(row['Tweet'])\n",
    "    print(row['Stance'])\n",
    "    print(row['predicted_stance_sup'])\n",
    "    print()"
   ]
  },
  {
   "cell_type": "markdown",
   "metadata": {},
   "source": [
    "## Divide dataset into two parts where Trump is 'explicitly' mentioned and where he isn't"
   ]
  },
  {
   "cell_type": "markdown",
   "metadata": {},
   "source": [
    "### Find most common unigrams"
   ]
  },
  {
   "cell_type": "code",
   "execution_count": 73,
   "metadata": {},
   "outputs": [
    {
     "data": {
      "text/plain": [
       "['@politico @POTUS if they had just been killed in the womb instead I guess you would feel better. #Trump2016 #TedCruz #MarcoRubio',\n",
       " \"Steve Deace: 'Little birdie tells me conservative news organization just did private poll of Iowa that had #TedCruz and #DonaldTrump tied'\",\n",
       " \"#DonaldTrump falls behind Iowa front-runner #TedCruz by 10% points! While that's nothing to clap about its great seeing Trump slapped about!\",\n",
       " \"Fourth time that I have seen #Cruz2016 spokesman, Rick Tyler, on TV. He's Really Terrible and quite Creepy, so keep him #Cruzers #Trump2016\",\n",
       " '#Hillary denying VA mismanagement, only lip service to our vets. #Trump rolling his sleeves,getting it done!Ref: Sioux City Rally #Trump2016']"
      ]
     },
     "execution_count": 73,
     "metadata": {},
     "output_type": "execute_result"
    }
   ],
   "source": [
    "[i for i in mtsd_30_test['Tweet'][0:5]]"
   ]
  },
  {
   "cell_type": "code",
   "execution_count": 74,
   "metadata": {},
   "outputs": [],
   "source": [
    "import nltk\n",
    "from nltk import word_tokenize\n",
    "from nltk.util import ngrams\n",
    "from collections import Counter"
   ]
  },
  {
   "cell_type": "code",
   "execution_count": 75,
   "metadata": {},
   "outputs": [
    {
     "data": {
      "text/plain": [
       "[(('#',), 1894),\n",
       " (('.',), 572),\n",
       " ((',',), 321),\n",
       " (('Trump2016',), 274),\n",
       " (('to',), 265),\n",
       " (('the',), 263),\n",
       " (('DonaldTrump',), 262),\n",
       " (('!',), 260),\n",
       " (('a',), 230),\n",
       " (('is',), 188),\n",
       " ((\"'s\",), 181),\n",
       " (('@',), 178),\n",
       " (('TedCruz',), 172),\n",
       " (('?',), 154),\n",
       " ((';',), 130),\n",
       " (('HillaryClinton',), 130),\n",
       " (('of',), 128),\n",
       " (('I',), 126),\n",
       " (('and',), 124),\n",
       " (('Hillary',), 124),\n",
       " (('for',), 122),\n",
       " (('&',), 121),\n",
       " ((\"n't\",), 119),\n",
       " (('amp',), 119),\n",
       " (('in',), 118),\n",
       " (('Trump',), 106),\n",
       " (('that',), 100),\n",
       " (('it',), 88),\n",
       " (('Hillary2016',), 87),\n",
       " (('Cruz',), 86)]"
      ]
     },
     "execution_count": 75,
     "metadata": {},
     "output_type": "execute_result"
    }
   ],
   "source": [
    "text = [i.strip() for i in mtsd_30_test['Tweet']]\n",
    "text = ' '.join(text)\n",
    "token = nltk.word_tokenize(text)\n",
    "unigrams = list(ngrams(token, 1))\n",
    "Counter(unigrams).most_common(30)"
   ]
  },
  {
   "cell_type": "code",
   "execution_count": 76,
   "metadata": {},
   "outputs": [
    {
     "data": {
      "text/plain": [
       "['@', 'politico', '@', 'POTUS', 'if']"
      ]
     },
     "execution_count": 76,
     "metadata": {},
     "output_type": "execute_result"
    }
   ],
   "source": [
    "[i[0] for i in unigrams][0:5]"
   ]
  },
  {
   "cell_type": "code",
   "execution_count": 77,
   "metadata": {},
   "outputs": [],
   "source": [
    "trump_mentions = ['donald', 'trump']"
   ]
  },
  {
   "cell_type": "code",
   "execution_count": 78,
   "metadata": {},
   "outputs": [],
   "source": [
    "def get_trump_mentions(row):\n",
    "    token = nltk.word_tokenize(row['Tweet'].strip())\n",
    "    unigrams = list(ngrams(token, 1))\n",
    "    tweet_trump_mentions = []\n",
    "    for mention in trump_mentions:\n",
    "        tweet_trump_mention = [i[0] for i in unigrams if mention in i[0].lower()]\n",
    "    tweet_trump_mentions.extend(tweet_trump_mention)\n",
    "    tweet_trump_mentions = set(tweet_trump_mentions)\n",
    "    return list(tweet_trump_mentions)"
   ]
  },
  {
   "cell_type": "code",
   "execution_count": 79,
   "metadata": {},
   "outputs": [
    {
     "data": {
      "text/html": [
       "<div>\n",
       "<style scoped>\n",
       "    .dataframe tbody tr th:only-of-type {\n",
       "        vertical-align: middle;\n",
       "    }\n",
       "\n",
       "    .dataframe tbody tr th {\n",
       "        vertical-align: top;\n",
       "    }\n",
       "\n",
       "    .dataframe thead th {\n",
       "        text-align: right;\n",
       "    }\n",
       "</style>\n",
       "<table border=\"1\" class=\"dataframe\">\n",
       "  <thead>\n",
       "    <tr style=\"text-align: right;\">\n",
       "      <th></th>\n",
       "      <th>ID</th>\n",
       "      <th>Target</th>\n",
       "      <th>Tweet</th>\n",
       "      <th>Stance</th>\n",
       "      <th>predicted_stance</th>\n",
       "      <th>predicted_stance_sup</th>\n",
       "      <th>predicted_stance_sup_mtsd</th>\n",
       "      <th>trump_mentions</th>\n",
       "      <th>num_trump_mentions</th>\n",
       "    </tr>\n",
       "  </thead>\n",
       "  <tbody>\n",
       "    <tr>\n",
       "      <th>0</th>\n",
       "      <td>684453762912628736</td>\n",
       "      <td>Donald Trump</td>\n",
       "      <td>@politico @POTUS if they had just been killed ...</td>\n",
       "      <td>FAVOR</td>\n",
       "      <td>AGAINST</td>\n",
       "      <td>AGAINST</td>\n",
       "      <td>FAVOR</td>\n",
       "      <td>[Trump2016]</td>\n",
       "      <td>1</td>\n",
       "    </tr>\n",
       "    <tr>\n",
       "      <th>1</th>\n",
       "      <td>694079418982088704</td>\n",
       "      <td>Donald Trump</td>\n",
       "      <td>Steve Deace: 'Little birdie tells me conservat...</td>\n",
       "      <td>NONE</td>\n",
       "      <td>AGAINST</td>\n",
       "      <td>FAVOR</td>\n",
       "      <td>NONE</td>\n",
       "      <td>[DonaldTrump]</td>\n",
       "      <td>1</td>\n",
       "    </tr>\n",
       "    <tr>\n",
       "      <th>2</th>\n",
       "      <td>675828189025865728</td>\n",
       "      <td>Donald Trump</td>\n",
       "      <td>#DonaldTrump falls behind Iowa front-runner #T...</td>\n",
       "      <td>NONE</td>\n",
       "      <td>AGAINST</td>\n",
       "      <td>FAVOR</td>\n",
       "      <td>AGAINST</td>\n",
       "      <td>[DonaldTrump, Trump]</td>\n",
       "      <td>2</td>\n",
       "    </tr>\n",
       "    <tr>\n",
       "      <th>3</th>\n",
       "      <td>690705963750305792</td>\n",
       "      <td>Donald Trump</td>\n",
       "      <td>Fourth time that I have seen #Cruz2016 spokesm...</td>\n",
       "      <td>FAVOR</td>\n",
       "      <td>AGAINST</td>\n",
       "      <td>AGAINST</td>\n",
       "      <td>FAVOR</td>\n",
       "      <td>[Trump2016]</td>\n",
       "      <td>1</td>\n",
       "    </tr>\n",
       "    <tr>\n",
       "      <th>4</th>\n",
       "      <td>659170195013955584</td>\n",
       "      <td>Donald Trump</td>\n",
       "      <td>#Hillary denying VA mismanagement, only lip se...</td>\n",
       "      <td>FAVOR</td>\n",
       "      <td>AGAINST</td>\n",
       "      <td>AGAINST</td>\n",
       "      <td>FAVOR</td>\n",
       "      <td>[Trump2016, Trump]</td>\n",
       "      <td>2</td>\n",
       "    </tr>\n",
       "  </tbody>\n",
       "</table>\n",
       "</div>"
      ],
      "text/plain": [
       "                   ID        Target  \\\n",
       "0  684453762912628736  Donald Trump   \n",
       "1  694079418982088704  Donald Trump   \n",
       "2  675828189025865728  Donald Trump   \n",
       "3  690705963750305792  Donald Trump   \n",
       "4  659170195013955584  Donald Trump   \n",
       "\n",
       "                                               Tweet Stance predicted_stance  \\\n",
       "0  @politico @POTUS if they had just been killed ...  FAVOR          AGAINST   \n",
       "1  Steve Deace: 'Little birdie tells me conservat...   NONE          AGAINST   \n",
       "2  #DonaldTrump falls behind Iowa front-runner #T...   NONE          AGAINST   \n",
       "3  Fourth time that I have seen #Cruz2016 spokesm...  FAVOR          AGAINST   \n",
       "4  #Hillary denying VA mismanagement, only lip se...  FAVOR          AGAINST   \n",
       "\n",
       "  predicted_stance_sup predicted_stance_sup_mtsd        trump_mentions  \\\n",
       "0              AGAINST                     FAVOR           [Trump2016]   \n",
       "1                FAVOR                      NONE         [DonaldTrump]   \n",
       "2                FAVOR                   AGAINST  [DonaldTrump, Trump]   \n",
       "3              AGAINST                     FAVOR           [Trump2016]   \n",
       "4              AGAINST                     FAVOR    [Trump2016, Trump]   \n",
       "\n",
       "   num_trump_mentions  \n",
       "0                   1  \n",
       "1                   1  \n",
       "2                   2  \n",
       "3                   1  \n",
       "4                   2  "
      ]
     },
     "execution_count": 79,
     "metadata": {},
     "output_type": "execute_result"
    }
   ],
   "source": [
    "mtsd_30_test['trump_mentions'] = mtsd_30_test.apply (lambda row: get_trump_mentions(row), axis=1)\n",
    "mtsd_30_test['num_trump_mentions'] = [len(i) for i in mtsd_30_test['trump_mentions']]\n",
    "semeval_trump_30_test['trump_mentions'] = mtsd_30_test.apply (lambda row: get_trump_mentions(row), axis=1)\n",
    "semeval_trump_30_test['num_trump_mentions'] = [len(i) for i in semeval_trump_30_test['trump_mentions']]\n",
    "mtsd_30_test.head(5)"
   ]
  },
  {
   "cell_type": "code",
   "execution_count": 80,
   "metadata": {},
   "outputs": [],
   "source": [
    "import matplotlib.pyplot as plt\n",
    "%matplotlib inline"
   ]
  },
  {
   "cell_type": "code",
   "execution_count": 81,
   "metadata": {},
   "outputs": [
    {
     "data": {
      "text/plain": [
       "<matplotlib.axes._subplots.AxesSubplot at 0x9769384c>"
      ]
     },
     "execution_count": 81,
     "metadata": {},
     "output_type": "execute_result"
    },
    {
     "data": {
      "image/png": "[encoded data removed]",
      "text/plain": [
       "<Figure size 432x288 with 1 Axes>"
      ]
     },
     "metadata": {
      "needs_background": "light"
     },
     "output_type": "display_data"
    }
   ],
   "source": [
    "mtsd_30_test.groupby(['Stance', 'predicted_stance_sup']).size().unstack().plot(kind = 'bar', stacked=True)"
   ]
  },
  {
   "cell_type": "code",
   "execution_count": 82,
   "metadata": {},
   "outputs": [
    {
     "data": {
      "text/plain": [
       "<matplotlib.axes._subplots.AxesSubplot at 0x96ae138c>"
      ]
     },
     "execution_count": 82,
     "metadata": {},
     "output_type": "execute_result"
    },
    {
     "data": {
      "image/png": "[encoded data removed]",
      "text/plain": [
       "<Figure size 432x288 with 1 Axes>"
      ]
     },
     "metadata": {
      "needs_background": "light"
     },
     "output_type": "display_data"
    }
   ],
   "source": [
    "mtsd_30_test.groupby(['Stance', 'predicted_stance_sup_mtsd']).size().unstack().plot(kind = 'bar', stacked=True)"
   ]
  },
  {
   "cell_type": "code",
   "execution_count": 83,
   "metadata": {},
   "outputs": [
    {
     "data": {
      "text/plain": [
       "<matplotlib.axes._subplots.AxesSubplot at 0x96abb50c>"
      ]
     },
     "execution_count": 83,
     "metadata": {},
     "output_type": "execute_result"
    },
    {
     "data": {
      "image/png": "[encoded data removed]",
      "text/plain": [
       "<Figure size 432x288 with 1 Axes>"
      ]
     },
     "metadata": {
      "needs_background": "light"
     },
     "output_type": "display_data"
    }
   ],
   "source": [
    "(mtsd_30_test.groupby(['num_trump_mentions', 'Stance', 'predicted_stance_sup']).size()/mtsd_30_test.groupby(['num_trump_mentions']).size()).unstack().plot(kind = 'bar', stacked=True)"
   ]
  },
  {
   "cell_type": "code",
   "execution_count": 84,
   "metadata": {},
   "outputs": [
    {
     "data": {
      "text/plain": [
       "<matplotlib.axes._subplots.AxesSubplot at 0x96a264ac>"
      ]
     },
     "execution_count": 84,
     "metadata": {},
     "output_type": "execute_result"
    },
    {
     "data": {
      "image/png": "[encoded data removed]",
      "text/plain": [
       "<Figure size 432x288 with 1 Axes>"
      ]
     },
     "metadata": {
      "needs_background": "light"
     },
     "output_type": "display_data"
    }
   ],
   "source": [
    "(mtsd_30_test.groupby(['num_trump_mentions', 'Stance', 'predicted_stance_sup_mtsd']).size()/mtsd_30_test.groupby(['num_trump_mentions']).size()).unstack().plot(kind = 'bar', stacked=True)"
   ]
  },
  {
   "cell_type": "code",
   "execution_count": 85,
   "metadata": {},
   "outputs": [
    {
     "data": {
      "text/html": [
       "<div>\n",
       "<style scoped>\n",
       "    .dataframe tbody tr th:only-of-type {\n",
       "        vertical-align: middle;\n",
       "    }\n",
       "\n",
       "    .dataframe tbody tr th {\n",
       "        vertical-align: top;\n",
       "    }\n",
       "\n",
       "    .dataframe thead th {\n",
       "        text-align: right;\n",
       "    }\n",
       "</style>\n",
       "<table border=\"1\" class=\"dataframe\">\n",
       "  <thead>\n",
       "    <tr style=\"text-align: right;\">\n",
       "      <th>predicted_stance_sup</th>\n",
       "      <th>Stance</th>\n",
       "      <th>AGAINST</th>\n",
       "      <th>FAVOR</th>\n",
       "      <th>NONE</th>\n",
       "    </tr>\n",
       "  </thead>\n",
       "  <tbody>\n",
       "    <tr>\n",
       "      <th>0</th>\n",
       "      <td>AGAINST</td>\n",
       "      <td>139</td>\n",
       "      <td>37</td>\n",
       "      <td>4</td>\n",
       "    </tr>\n",
       "    <tr>\n",
       "      <th>1</th>\n",
       "      <td>FAVOR</td>\n",
       "      <td>236</td>\n",
       "      <td>52</td>\n",
       "      <td>20</td>\n",
       "    </tr>\n",
       "    <tr>\n",
       "      <th>2</th>\n",
       "      <td>NONE</td>\n",
       "      <td>100</td>\n",
       "      <td>27</td>\n",
       "      <td>5</td>\n",
       "    </tr>\n",
       "  </tbody>\n",
       "</table>\n",
       "</div>"
      ],
      "text/plain": [
       "predicted_stance_sup   Stance  AGAINST  FAVOR  NONE\n",
       "0                     AGAINST      139     37     4\n",
       "1                       FAVOR      236     52    20\n",
       "2                        NONE      100     27     5"
      ]
     },
     "execution_count": 85,
     "metadata": {},
     "output_type": "execute_result"
    }
   ],
   "source": [
    "df = pd.DataFrame(pd.crosstab(mtsd_30_test['Stance'], mtsd_30_test['predicted_stance_sup'])).reset_index()\n",
    "df"
   ]
  },
  {
   "cell_type": "code",
   "execution_count": 86,
   "metadata": {},
   "outputs": [
    {
     "data": {
      "text/plain": [
       "<matplotlib.axes._subplots.AxesSubplot at 0x96842bac>"
      ]
     },
     "execution_count": 86,
     "metadata": {},
     "output_type": "execute_result"
    },
    {
     "data": {
      "image/png": "[encoded data removed]",
      "text/plain": [
       "<Figure size 432x288 with 1 Axes>"
      ]
     },
     "metadata": {
      "needs_background": "light"
     },
     "output_type": "display_data"
    }
   ],
   "source": [
    "pd.plotting.parallel_coordinates(df, 'Stance')"
   ]
  },
  {
   "cell_type": "code",
   "execution_count": 87,
   "metadata": {},
   "outputs": [
    {
     "data": {
      "text/plain": [
       "num_trump_mentions  Stance \n",
       "1                   AGAINST    62\n",
       "                    FAVOR      34\n",
       "                    NONE       53\n",
       "2                   AGAINST    24\n",
       "                    FAVOR      17\n",
       "                    NONE       14\n",
       "3                   AGAINST     3\n",
       "                    FAVOR       2\n",
       "                    NONE        4\n",
       "dtype: int64"
      ]
     },
     "execution_count": 87,
     "metadata": {},
     "output_type": "execute_result"
    }
   ],
   "source": [
    "semeval_trump_30_test.groupby(['num_trump_mentions', 'Stance']).size()"
   ]
  },
  {
   "cell_type": "code",
   "execution_count": 88,
   "metadata": {},
   "outputs": [
    {
     "data": {
      "text/plain": [
       "num_trump_mentions  Stance \n",
       "1                   AGAINST    140\n",
       "                    FAVOR      210\n",
       "                    NONE       107\n",
       "2                   AGAINST     39\n",
       "                    FAVOR       77\n",
       "                    NONE        21\n",
       "3                   AGAINST      1\n",
       "                    FAVOR       18\n",
       "                    NONE         4\n",
       "4                   FAVOR        3\n",
       "dtype: int64"
      ]
     },
     "execution_count": 88,
     "metadata": {},
     "output_type": "execute_result"
    }
   ],
   "source": [
    "mtsd_30_test.groupby(['num_trump_mentions', 'Stance']).size()"
   ]
  },
  {
   "cell_type": "markdown",
   "metadata": {},
   "source": [
    "### Create df of format [F, A, N] X [clf, sup_clf, mtsd_sup_clf] where the cells are the respective F1 scores"
   ]
  },
  {
   "cell_type": "code",
   "execution_count": 89,
   "metadata": {},
   "outputs": [],
   "source": [
    "def compare_classifier_performance(test):\n",
    "    x = {}\n",
    "    for i in ['FAVOR', 'AGAINST', 'NONE']:\n",
    "        x[i] = {}\n",
    "        for j in ['predicted_stance', 'predicted_stance_sup','predicted_stance_sup_mtsd']:\n",
    "            cr = classification_report(test['Stance'], test[j], output_dict=True)\n",
    "            x[i][j] = cr[i]['f1-score']\n",
    "    df = pd.DataFrame(x).transpose().reset_index()\n",
    "    pd.plotting.parallel_coordinates(df, 'index', color=('#556270', '#4ECDC4', '#C7F464'))"
   ]
  },
  {
   "cell_type": "code",
   "execution_count": 90,
   "metadata": {},
   "outputs": [
    {
     "data": {
      "image/png": "[encoded data removed]",
      "text/plain": [
       "<Figure size 432x288 with 1 Axes>"
      ]
     },
     "metadata": {
      "needs_background": "light"
     },
     "output_type": "display_data"
    }
   ],
   "source": [
    "compare_classifier_performance(semeval_trump_30_test)"
   ]
  },
  {
   "cell_type": "code",
   "execution_count": 91,
   "metadata": {},
   "outputs": [
    {
     "data": {
      "image/png": "[encoded data removed]",
      "text/plain": [
       "<Figure size 432x288 with 1 Axes>"
      ]
     },
     "metadata": {
      "needs_background": "light"
     },
     "output_type": "display_data"
    }
   ],
   "source": [
    "compare_classifier_performance(mtsd_30_test)"
   ]
  },
  {
   "cell_type": "markdown",
   "metadata": {},
   "source": [
    "### Only for MTSD create df of format [1, 2, 3, 4] X [clf, sup_clf, mtsd_sup_clf] where the cells are the respective F1 scores"
   ]
  },
  {
   "cell_type": "code",
   "execution_count": 92,
   "metadata": {},
   "outputs": [],
   "source": [
    "def compare_classifier_performance_by_trump_mentions(test):\n",
    "    x = {}\n",
    "    for i in [1, 2, 3, 4]:\n",
    "        x[i] = {}\n",
    "        for j in ['predicted_stance', 'predicted_stance_sup','predicted_stance_sup_mtsd']:\n",
    "            test_subset = test[test['num_trump_mentions'] == i]\n",
    "            cr = classification_report(test_subset['Stance'], test_subset[j], output_dict=True)\n",
    "            x[i][j] = cr['macro avg']['f1-score']\n",
    "    df = pd.DataFrame(x).transpose().reset_index()\n",
    "    pd.plotting.parallel_coordinates(df, 'index', color=('r', 'b', 'g', 'orange'))"
   ]
  },
  {
   "cell_type": "code",
   "execution_count": 93,
   "metadata": {},
   "outputs": [
    {
     "name": "stderr",
     "output_type": "stream",
     "text": [
      "/home/indira/miniconda3/lib/python3.7/site-packages/sklearn/metrics/classification.py:1437: UndefinedMetricWarning: Precision and F-score are ill-defined and being set to 0.0 in labels with no predicted samples.\n",
      "  'precision', 'predicted', average, warn_for)\n",
      "/home/indira/miniconda3/lib/python3.7/site-packages/sklearn/metrics/classification.py:1439: UndefinedMetricWarning: Recall and F-score are ill-defined and being set to 0.0 in labels with no true samples.\n",
      "  'recall', 'true', average, warn_for)\n"
     ]
    },
    {
     "data": {
      "image/png": "[encoded data removed]",
      "text/plain": [
       "<Figure size 432x288 with 1 Axes>"
      ]
     },
     "metadata": {
      "needs_background": "light"
     },
     "output_type": "display_data"
    }
   ],
   "source": [
    "compare_classifier_performance_by_trump_mentions(mtsd_30_test)"
   ]
  },
  {
   "cell_type": "markdown",
   "metadata": {},
   "source": [
    "### TAKEAWAY: Cross-dataset peformance is poor, clf_sup (trained on semeval data) likely fails due to high number of cases where Trump ias actually not mentioned."
   ]
  },
  {
   "cell_type": "markdown",
   "metadata": {},
   "source": [
    "## Test All Models on Constance Data"
   ]
  },
  {
   "cell_type": "markdown",
   "metadata": {},
   "source": [
    "### Original Constance Data"
   ]
  },
  {
   "cell_type": "code",
   "execution_count": 94,
   "metadata": {
    "scrolled": false
   },
   "outputs": [
    {
     "data": {
      "text/html": [
       "<div>\n",
       "<style scoped>\n",
       "    .dataframe tbody tr th:only-of-type {\n",
       "        vertical-align: middle;\n",
       "    }\n",
       "\n",
       "    .dataframe tbody tr th {\n",
       "        vertical-align: top;\n",
       "    }\n",
       "\n",
       "    .dataframe thead th {\n",
       "        text-align: right;\n",
       "    }\n",
       "</style>\n",
       "<table border=\"1\" class=\"dataframe\">\n",
       "  <thead>\n",
       "    <tr style=\"text-align: right;\">\n",
       "      <th></th>\n",
       "      <th>ID</th>\n",
       "      <th>Target</th>\n",
       "      <th>Tweet</th>\n",
       "      <th>Stance</th>\n",
       "    </tr>\n",
       "  </thead>\n",
       "  <tbody>\n",
       "    <tr>\n",
       "      <th>0</th>\n",
       "      <td>0</td>\n",
       "      <td>Donald Trump</td>\n",
       "      <td>RT @zozast: #debatenight didn't help undecided...</td>\n",
       "      <td>AGAINST</td>\n",
       "    </tr>\n",
       "    <tr>\n",
       "      <th>1</th>\n",
       "      <td>1</td>\n",
       "      <td>Donald Trump</td>\n",
       "      <td>mr. t uses the #scientology method-never defen...</td>\n",
       "      <td>AGAINST</td>\n",
       "    </tr>\n",
       "    <tr>\n",
       "      <th>2</th>\n",
       "      <td>2</td>\n",
       "      <td>Donald Trump</td>\n",
       "      <td>Oh my god. Trump is a bratty child. What a jok...</td>\n",
       "      <td>AGAINST</td>\n",
       "    </tr>\n",
       "    <tr>\n",
       "      <th>3</th>\n",
       "      <td>3</td>\n",
       "      <td>Donald Trump</td>\n",
       "      <td>RT @mcuban: .1) @realDonaldTrump $10mm to the ...</td>\n",
       "      <td>AGAINST</td>\n",
       "    </tr>\n",
       "    <tr>\n",
       "      <th>4</th>\n",
       "      <td>4</td>\n",
       "      <td>Donald Trump</td>\n",
       "      <td>RT @jimmyhendrixjr: Trump can run for presiden...</td>\n",
       "      <td>AGAINST</td>\n",
       "    </tr>\n",
       "  </tbody>\n",
       "</table>\n",
       "</div>"
      ],
      "text/plain": [
       "   ID        Target                                              Tweet  \\\n",
       "0   0  Donald Trump  RT @zozast: #debatenight didn't help undecided...   \n",
       "1   1  Donald Trump  mr. t uses the #scientology method-never defen...   \n",
       "2   2  Donald Trump  Oh my god. Trump is a bratty child. What a jok...   \n",
       "3   3  Donald Trump  RT @mcuban: .1) @realDonaldTrump $10mm to the ...   \n",
       "4   4  Donald Trump  RT @jimmyhendrixjr: Trump can run for presiden...   \n",
       "\n",
       "    Stance  \n",
       "0  AGAINST  \n",
       "1  AGAINST  \n",
       "2  AGAINST  \n",
       "3  AGAINST  \n",
       "4  AGAINST  "
      ]
     },
     "execution_count": 94,
     "metadata": {},
     "output_type": "execute_result"
    }
   ],
   "source": [
    "dataset = \"../constance/constance_sd_trump_tweets.csv\"\n",
    "\n",
    "constance = pd.read_csv(dataset, sep = \"\\t\", encoding = \"utf-8\")\n",
    "\n",
    "constance.head(5)"
   ]
  },
  {
   "cell_type": "code",
   "execution_count": 95,
   "metadata": {},
   "outputs": [
    {
     "name": "stdout",
     "output_type": "stream",
     "text": [
      "rt zozast help undecided voters one bit far\n",
      "rt zozast help undecided voters one bit far\n",
      "rt zozast help undecided voters one bit far\n"
     ]
    },
    {
     "data": {
      "text/html": [
       "<div>\n",
       "<style scoped>\n",
       "    .dataframe tbody tr th:only-of-type {\n",
       "        vertical-align: middle;\n",
       "    }\n",
       "\n",
       "    .dataframe tbody tr th {\n",
       "        vertical-align: top;\n",
       "    }\n",
       "\n",
       "    .dataframe thead th {\n",
       "        text-align: right;\n",
       "    }\n",
       "</style>\n",
       "<table border=\"1\" class=\"dataframe\">\n",
       "  <thead>\n",
       "    <tr style=\"text-align: right;\">\n",
       "      <th></th>\n",
       "      <th>ID</th>\n",
       "      <th>Target</th>\n",
       "      <th>Tweet</th>\n",
       "      <th>Stance</th>\n",
       "      <th>predicted_stance</th>\n",
       "      <th>predicted_stance_sup</th>\n",
       "      <th>predicted_stance_sup_mtsd</th>\n",
       "    </tr>\n",
       "  </thead>\n",
       "  <tbody>\n",
       "    <tr>\n",
       "      <th>0</th>\n",
       "      <td>0</td>\n",
       "      <td>Donald Trump</td>\n",
       "      <td>RT @zozast: #debatenight didn't help undecided...</td>\n",
       "      <td>AGAINST</td>\n",
       "      <td>AGAINST</td>\n",
       "      <td>NONE</td>\n",
       "      <td>NONE</td>\n",
       "    </tr>\n",
       "    <tr>\n",
       "      <th>1</th>\n",
       "      <td>1</td>\n",
       "      <td>Donald Trump</td>\n",
       "      <td>mr. t uses the #scientology method-never defen...</td>\n",
       "      <td>AGAINST</td>\n",
       "      <td>AGAINST</td>\n",
       "      <td>NONE</td>\n",
       "      <td>NONE</td>\n",
       "    </tr>\n",
       "    <tr>\n",
       "      <th>2</th>\n",
       "      <td>2</td>\n",
       "      <td>Donald Trump</td>\n",
       "      <td>Oh my god. Trump is a bratty child. What a jok...</td>\n",
       "      <td>AGAINST</td>\n",
       "      <td>AGAINST</td>\n",
       "      <td>FAVOR</td>\n",
       "      <td>AGAINST</td>\n",
       "    </tr>\n",
       "    <tr>\n",
       "      <th>3</th>\n",
       "      <td>3</td>\n",
       "      <td>Donald Trump</td>\n",
       "      <td>RT @mcuban: .1) @realDonaldTrump $10mm to the ...</td>\n",
       "      <td>AGAINST</td>\n",
       "      <td>AGAINST</td>\n",
       "      <td>AGAINST</td>\n",
       "      <td>AGAINST</td>\n",
       "    </tr>\n",
       "    <tr>\n",
       "      <th>4</th>\n",
       "      <td>4</td>\n",
       "      <td>Donald Trump</td>\n",
       "      <td>RT @jimmyhendrixjr: Trump can run for presiden...</td>\n",
       "      <td>AGAINST</td>\n",
       "      <td>AGAINST</td>\n",
       "      <td>AGAINST</td>\n",
       "      <td>NONE</td>\n",
       "    </tr>\n",
       "  </tbody>\n",
       "</table>\n",
       "</div>"
      ],
      "text/plain": [
       "   ID        Target                                              Tweet  \\\n",
       "0   0  Donald Trump  RT @zozast: #debatenight didn't help undecided...   \n",
       "1   1  Donald Trump  mr. t uses the #scientology method-never defen...   \n",
       "2   2  Donald Trump  Oh my god. Trump is a bratty child. What a jok...   \n",
       "3   3  Donald Trump  RT @mcuban: .1) @realDonaldTrump $10mm to the ...   \n",
       "4   4  Donald Trump  RT @jimmyhendrixjr: Trump can run for presiden...   \n",
       "\n",
       "    Stance predicted_stance predicted_stance_sup predicted_stance_sup_mtsd  \n",
       "0  AGAINST          AGAINST                 NONE                      NONE  \n",
       "1  AGAINST          AGAINST                 NONE                      NONE  \n",
       "2  AGAINST          AGAINST                FAVOR                   AGAINST  \n",
       "3  AGAINST          AGAINST              AGAINST                   AGAINST  \n",
       "4  AGAINST          AGAINST              AGAINST                      NONE  "
      ]
     },
     "execution_count": 95,
     "metadata": {},
     "output_type": "execute_result"
    }
   ],
   "source": [
    "constance['predicted_stance'] = clf.predict(clean_tweets(constance))\n",
    "#tweets_test['predicted_stance_score'] = [y[0] for y in clf.predict_proba(clean_tweets_test)]\n",
    "\n",
    "constance['predicted_stance_sup'] = sup_clf.predict(clean_tweets(constance))\n",
    "#tweets_test['predicted_stance_score_sup'] = [y[0] for y in sup_clf.predict_proba(clean_tweets_test)]\n",
    "\n",
    "constance['predicted_stance_sup_mtsd'] = sup_mtsd_clf.predict(clean_tweets(constance))\n",
    "constance.head(5)"
   ]
  },
  {
   "cell_type": "code",
   "execution_count": 96,
   "metadata": {},
   "outputs": [
    {
     "name": "stdout",
     "output_type": "stream",
     "text": [
      "              precision    recall  f1-score   support\n",
      "\n",
      "     AGAINST       0.71      0.66      0.69       223\n",
      "       FAVOR       0.09      0.01      0.02        74\n",
      "        NONE       0.04      0.33      0.08        12\n",
      "\n",
      "    accuracy                           0.50       309\n",
      "   macro avg       0.28      0.34      0.26       309\n",
      "weighted avg       0.54      0.50      0.50       309\n",
      "\n"
     ]
    }
   ],
   "source": [
    "print(classification_report(constance['Stance'], constance['predicted_stance']))"
   ]
  },
  {
   "cell_type": "code",
   "execution_count": 97,
   "metadata": {},
   "outputs": [
    {
     "name": "stdout",
     "output_type": "stream",
     "text": [
      "              precision    recall  f1-score   support\n",
      "\n",
      "     AGAINST       0.73      0.54      0.62       223\n",
      "       FAVOR       0.30      0.24      0.27        74\n",
      "        NONE       0.02      0.17      0.04        12\n",
      "\n",
      "    accuracy                           0.45       309\n",
      "   macro avg       0.35      0.32      0.31       309\n",
      "weighted avg       0.60      0.45      0.51       309\n",
      "\n"
     ]
    }
   ],
   "source": [
    "print(classification_report(constance['Stance'], constance['predicted_stance_sup']))"
   ]
  },
  {
   "cell_type": "code",
   "execution_count": 98,
   "metadata": {},
   "outputs": [
    {
     "name": "stdout",
     "output_type": "stream",
     "text": [
      "              precision    recall  f1-score   support\n",
      "\n",
      "     AGAINST       0.77      0.34      0.47       223\n",
      "       FAVOR       0.29      0.49      0.36        74\n",
      "        NONE       0.05      0.33      0.08        12\n",
      "\n",
      "    accuracy                           0.37       309\n",
      "   macro avg       0.37      0.39      0.30       309\n",
      "weighted avg       0.63      0.37      0.43       309\n",
      "\n"
     ]
    }
   ],
   "source": [
    "print(classification_report(constance['Stance'], constance['predicted_stance_sup_mtsd']))"
   ]
  },
  {
   "cell_type": "markdown",
   "metadata": {},
   "source": [
    "### Constance Corrected Data"
   ]
  },
  {
   "cell_type": "code",
   "execution_count": 99,
   "metadata": {
    "scrolled": false
   },
   "outputs": [
    {
     "data": {
      "text/html": [
       "<div>\n",
       "<style scoped>\n",
       "    .dataframe tbody tr th:only-of-type {\n",
       "        vertical-align: middle;\n",
       "    }\n",
       "\n",
       "    .dataframe tbody tr th {\n",
       "        vertical-align: top;\n",
       "    }\n",
       "\n",
       "    .dataframe thead th {\n",
       "        text-align: right;\n",
       "    }\n",
       "</style>\n",
       "<table border=\"1\" class=\"dataframe\">\n",
       "  <thead>\n",
       "    <tr style=\"text-align: right;\">\n",
       "      <th></th>\n",
       "      <th>ID</th>\n",
       "      <th>Target</th>\n",
       "      <th>Tweet</th>\n",
       "      <th>Stance</th>\n",
       "    </tr>\n",
       "  </thead>\n",
       "  <tbody>\n",
       "    <tr>\n",
       "      <th>0</th>\n",
       "      <td>0</td>\n",
       "      <td>Donald Trump</td>\n",
       "      <td>RT @zozast: #debatenight didn't help undecided...</td>\n",
       "      <td>NONE</td>\n",
       "    </tr>\n",
       "    <tr>\n",
       "      <th>1</th>\n",
       "      <td>1</td>\n",
       "      <td>Donald Trump</td>\n",
       "      <td>mr. t uses the #scientology method-never defen...</td>\n",
       "      <td>NONE</td>\n",
       "    </tr>\n",
       "    <tr>\n",
       "      <th>2</th>\n",
       "      <td>2</td>\n",
       "      <td>Donald Trump</td>\n",
       "      <td>Oh my god. Trump is a bratty child. What a jok...</td>\n",
       "      <td>AGAINST</td>\n",
       "    </tr>\n",
       "    <tr>\n",
       "      <th>3</th>\n",
       "      <td>3</td>\n",
       "      <td>Donald Trump</td>\n",
       "      <td>RT @mcuban: .1) @realDonaldTrump $10mm to the ...</td>\n",
       "      <td>NONE</td>\n",
       "    </tr>\n",
       "    <tr>\n",
       "      <th>4</th>\n",
       "      <td>4</td>\n",
       "      <td>Donald Trump</td>\n",
       "      <td>RT @jimmyhendrixjr: Trump can run for presiden...</td>\n",
       "      <td>AGAINST</td>\n",
       "    </tr>\n",
       "  </tbody>\n",
       "</table>\n",
       "</div>"
      ],
      "text/plain": [
       "   ID        Target                                              Tweet  \\\n",
       "0   0  Donald Trump  RT @zozast: #debatenight didn't help undecided...   \n",
       "1   1  Donald Trump  mr. t uses the #scientology method-never defen...   \n",
       "2   2  Donald Trump  Oh my god. Trump is a bratty child. What a jok...   \n",
       "3   3  Donald Trump  RT @mcuban: .1) @realDonaldTrump $10mm to the ...   \n",
       "4   4  Donald Trump  RT @jimmyhendrixjr: Trump can run for presiden...   \n",
       "\n",
       "    Stance  \n",
       "0     NONE  \n",
       "1     NONE  \n",
       "2  AGAINST  \n",
       "3     NONE  \n",
       "4  AGAINST  "
      ]
     },
     "execution_count": 99,
     "metadata": {},
     "output_type": "execute_result"
    }
   ],
   "source": [
    "dataset = \"../constance/constance_corrected_semeval.csv\"\n",
    "\n",
    "constance = pd.read_csv(dataset, sep = \"\\t\", encoding = \"utf-8\")\n",
    "\n",
    "constance.head(5)"
   ]
  },
  {
   "cell_type": "code",
   "execution_count": 100,
   "metadata": {},
   "outputs": [
    {
     "name": "stdout",
     "output_type": "stream",
     "text": [
      "rt zozast help undecided voters one bit far\n",
      "rt zozast help undecided voters one bit far\n",
      "rt zozast help undecided voters one bit far\n"
     ]
    },
    {
     "data": {
      "text/html": [
       "<div>\n",
       "<style scoped>\n",
       "    .dataframe tbody tr th:only-of-type {\n",
       "        vertical-align: middle;\n",
       "    }\n",
       "\n",
       "    .dataframe tbody tr th {\n",
       "        vertical-align: top;\n",
       "    }\n",
       "\n",
       "    .dataframe thead th {\n",
       "        text-align: right;\n",
       "    }\n",
       "</style>\n",
       "<table border=\"1\" class=\"dataframe\">\n",
       "  <thead>\n",
       "    <tr style=\"text-align: right;\">\n",
       "      <th></th>\n",
       "      <th>ID</th>\n",
       "      <th>Target</th>\n",
       "      <th>Tweet</th>\n",
       "      <th>Stance</th>\n",
       "      <th>predicted_stance</th>\n",
       "      <th>predicted_stance_sup</th>\n",
       "      <th>predicted_stance_sup_mtsd</th>\n",
       "    </tr>\n",
       "  </thead>\n",
       "  <tbody>\n",
       "    <tr>\n",
       "      <th>0</th>\n",
       "      <td>0</td>\n",
       "      <td>Donald Trump</td>\n",
       "      <td>RT @zozast: #debatenight didn't help undecided...</td>\n",
       "      <td>NONE</td>\n",
       "      <td>AGAINST</td>\n",
       "      <td>NONE</td>\n",
       "      <td>NONE</td>\n",
       "    </tr>\n",
       "    <tr>\n",
       "      <th>1</th>\n",
       "      <td>1</td>\n",
       "      <td>Donald Trump</td>\n",
       "      <td>mr. t uses the #scientology method-never defen...</td>\n",
       "      <td>NONE</td>\n",
       "      <td>AGAINST</td>\n",
       "      <td>NONE</td>\n",
       "      <td>NONE</td>\n",
       "    </tr>\n",
       "    <tr>\n",
       "      <th>2</th>\n",
       "      <td>2</td>\n",
       "      <td>Donald Trump</td>\n",
       "      <td>Oh my god. Trump is a bratty child. What a jok...</td>\n",
       "      <td>AGAINST</td>\n",
       "      <td>AGAINST</td>\n",
       "      <td>FAVOR</td>\n",
       "      <td>AGAINST</td>\n",
       "    </tr>\n",
       "    <tr>\n",
       "      <th>3</th>\n",
       "      <td>3</td>\n",
       "      <td>Donald Trump</td>\n",
       "      <td>RT @mcuban: .1) @realDonaldTrump $10mm to the ...</td>\n",
       "      <td>NONE</td>\n",
       "      <td>AGAINST</td>\n",
       "      <td>AGAINST</td>\n",
       "      <td>AGAINST</td>\n",
       "    </tr>\n",
       "    <tr>\n",
       "      <th>4</th>\n",
       "      <td>4</td>\n",
       "      <td>Donald Trump</td>\n",
       "      <td>RT @jimmyhendrixjr: Trump can run for presiden...</td>\n",
       "      <td>AGAINST</td>\n",
       "      <td>AGAINST</td>\n",
       "      <td>AGAINST</td>\n",
       "      <td>NONE</td>\n",
       "    </tr>\n",
       "  </tbody>\n",
       "</table>\n",
       "</div>"
      ],
      "text/plain": [
       "   ID        Target                                              Tweet  \\\n",
       "0   0  Donald Trump  RT @zozast: #debatenight didn't help undecided...   \n",
       "1   1  Donald Trump  mr. t uses the #scientology method-never defen...   \n",
       "2   2  Donald Trump  Oh my god. Trump is a bratty child. What a jok...   \n",
       "3   3  Donald Trump  RT @mcuban: .1) @realDonaldTrump $10mm to the ...   \n",
       "4   4  Donald Trump  RT @jimmyhendrixjr: Trump can run for presiden...   \n",
       "\n",
       "    Stance predicted_stance predicted_stance_sup predicted_stance_sup_mtsd  \n",
       "0     NONE          AGAINST                 NONE                      NONE  \n",
       "1     NONE          AGAINST                 NONE                      NONE  \n",
       "2  AGAINST          AGAINST                FAVOR                   AGAINST  \n",
       "3     NONE          AGAINST              AGAINST                   AGAINST  \n",
       "4  AGAINST          AGAINST              AGAINST                      NONE  "
      ]
     },
     "execution_count": 100,
     "metadata": {},
     "output_type": "execute_result"
    }
   ],
   "source": [
    "constance['predicted_stance'] = clf.predict(clean_tweets(constance))\n",
    "#tweets_test['predicted_stance_score'] = [y[0] for y in clf.predict_proba(clean_tweets_test)]\n",
    "\n",
    "constance['predicted_stance_sup'] = sup_clf.predict(clean_tweets(constance))\n",
    "#tweets_test['predicted_stance_score_sup'] = [y[0] for y in sup_clf.predict_proba(clean_tweets_test)]\n",
    "\n",
    "constance['predicted_stance_sup_mtsd'] = sup_mtsd_clf.predict(clean_tweets(constance))\n",
    "constance.head(5)"
   ]
  },
  {
   "cell_type": "code",
   "execution_count": 101,
   "metadata": {},
   "outputs": [
    {
     "name": "stdout",
     "output_type": "stream",
     "text": [
      "              precision    recall  f1-score   support\n",
      "\n",
      "     AGAINST       0.54      0.76      0.63       148\n",
      "       FAVOR       0.00      0.00      0.00        32\n",
      "        NONE       0.53      0.37      0.44       129\n",
      "\n",
      "    accuracy                           0.52       309\n",
      "   macro avg       0.36      0.38      0.36       309\n",
      "weighted avg       0.48      0.52      0.49       309\n",
      "\n"
     ]
    }
   ],
   "source": [
    "print(classification_report(constance['Stance'], constance['predicted_stance']))"
   ]
  },
  {
   "cell_type": "code",
   "execution_count": 102,
   "metadata": {},
   "outputs": [
    {
     "name": "stdout",
     "output_type": "stream",
     "text": [
      "              precision    recall  f1-score   support\n",
      "\n",
      "     AGAINST       0.59      0.66      0.62       148\n",
      "       FAVOR       0.20      0.38      0.26        32\n",
      "        NONE       0.65      0.42      0.51       129\n",
      "\n",
      "    accuracy                           0.53       309\n",
      "   macro avg       0.48      0.48      0.46       309\n",
      "weighted avg       0.57      0.53      0.54       309\n",
      "\n"
     ]
    }
   ],
   "source": [
    "print(classification_report(constance['Stance'], constance['predicted_stance_sup']))"
   ]
  },
  {
   "cell_type": "code",
   "execution_count": 103,
   "metadata": {},
   "outputs": [
    {
     "name": "stdout",
     "output_type": "stream",
     "text": [
      "              precision    recall  f1-score   support\n",
      "\n",
      "     AGAINST       0.48      0.32      0.38       148\n",
      "       FAVOR       0.13      0.50      0.20        32\n",
      "        NONE       0.52      0.35      0.42       129\n",
      "\n",
      "    accuracy                           0.35       309\n",
      "   macro avg       0.38      0.39      0.33       309\n",
      "weighted avg       0.46      0.35      0.38       309\n",
      "\n"
     ]
    }
   ],
   "source": [
    "print(classification_report(constance['Stance'], constance['predicted_stance_sup_mtsd']))"
   ]
  },
  {
   "cell_type": "markdown",
   "metadata": {},
   "source": [
    "### TAKEAWAY: clf_sup (trained on semeval data) is better than mtsd at the Constance (corrected) data. "
   ]
  },
  {
   "cell_type": "markdown",
   "metadata": {},
   "source": [
    "## To-Do's:\n",
    "- Retrain TDLSTM and SDA\n",
    "- Try BERT embeddings\n",
    "- recheck Constance dataset"
   ]
  },
  {
   "cell_type": "code",
   "execution_count": null,
   "metadata": {},
   "outputs": [],
   "source": []
  }
 ],
 "metadata": {
  "kernelspec": {
   "display_name": "Python 2",
   "language": "python",
   "name": "python2"
  },
  "language_info": {
   "codemirror_mode": {
    "name": "ipython",
    "version": 3
   },
   "file_extension": ".py",
   "mimetype": "text/x-python",
   "name": "python",
   "nbconvert_exporter": "python",
   "pygments_lexer": "ipython3",
   "version": "3.7.1"
  },
  "toc": {
   "base_numbering": 1,
   "nav_menu": {},
   "number_sections": true,
   "sideBar": true,
   "skip_h1_title": false,
   "title_cell": "Table of Contents",
   "title_sidebar": "Contents",
   "toc_cell": true,
   "toc_position": {
    "height": "calc(100% - 180px)",
    "left": "10px",
    "top": "150px",
    "width": "165px"
   },
   "toc_section_display": true,
   "toc_window_display": false
  }
 },
 "nbformat": 4,
 "nbformat_minor": 2
}
